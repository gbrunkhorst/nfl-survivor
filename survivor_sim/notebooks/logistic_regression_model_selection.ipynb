{
 "cells": [
  {
   "cell_type": "markdown",
   "metadata": {},
   "source": [
    "## Logistic Regression Modeling - Spreads to Probabilities"
   ]
  },
  {
   "cell_type": "code",
   "execution_count": 3,
   "metadata": {},
   "outputs": [],
   "source": [
    "import pandas as pd\n",
    "import seaborn as sns\n",
    "import matplotlib.pyplot as plt\n",
    "import numpy as np\n",
    "from itertools import product"
   ]
  },
  {
   "cell_type": "markdown",
   "metadata": {},
   "source": [
    "## Run some vizzes to work with the logistical regression "
   ]
  },
  {
   "cell_type": "code",
   "execution_count": 4,
   "metadata": {},
   "outputs": [
    {
     "data": {
      "text/html": [
       "<div>\n",
       "<style scoped>\n",
       "    .dataframe tbody tr th:only-of-type {\n",
       "        vertical-align: middle;\n",
       "    }\n",
       "\n",
       "    .dataframe tbody tr th {\n",
       "        vertical-align: top;\n",
       "    }\n",
       "\n",
       "    .dataframe thead th {\n",
       "        text-align: right;\n",
       "    }\n",
       "</style>\n",
       "<table border=\"1\" class=\"dataframe\">\n",
       "  <thead>\n",
       "    <tr style=\"text-align: right;\">\n",
       "      <th></th>\n",
       "      <th>Unnamed: 0</th>\n",
       "      <th>schedule_date</th>\n",
       "      <th>schedule_season</th>\n",
       "      <th>schedule_week</th>\n",
       "      <th>schedule_playoff</th>\n",
       "      <th>team_home</th>\n",
       "      <th>score_home</th>\n",
       "      <th>score_away</th>\n",
       "      <th>team_away</th>\n",
       "      <th>team_favorite_id</th>\n",
       "      <th>...</th>\n",
       "      <th>stadium_neutral</th>\n",
       "      <th>weather_temperature</th>\n",
       "      <th>weather_wind_mph</th>\n",
       "      <th>weather_humidity</th>\n",
       "      <th>weather_detail</th>\n",
       "      <th>team_home_id</th>\n",
       "      <th>team_away_id</th>\n",
       "      <th>winner</th>\n",
       "      <th>favorite_won</th>\n",
       "      <th>team_underdog_id</th>\n",
       "    </tr>\n",
       "  </thead>\n",
       "  <tbody>\n",
       "    <tr>\n",
       "      <th>0</th>\n",
       "      <td>0</td>\n",
       "      <td>09/01/1979</td>\n",
       "      <td>1979</td>\n",
       "      <td>1</td>\n",
       "      <td>False</td>\n",
       "      <td>Tampa Bay Buccaneers</td>\n",
       "      <td>31.0</td>\n",
       "      <td>16.0</td>\n",
       "      <td>Detroit Lions</td>\n",
       "      <td>TB</td>\n",
       "      <td>...</td>\n",
       "      <td>False</td>\n",
       "      <td>79.0</td>\n",
       "      <td>9.0</td>\n",
       "      <td>87.0</td>\n",
       "      <td>NaN</td>\n",
       "      <td>TB</td>\n",
       "      <td>DET</td>\n",
       "      <td>TB</td>\n",
       "      <td>True</td>\n",
       "      <td>DET</td>\n",
       "    </tr>\n",
       "    <tr>\n",
       "      <th>1</th>\n",
       "      <td>1</td>\n",
       "      <td>11/23/1980</td>\n",
       "      <td>1980</td>\n",
       "      <td>12</td>\n",
       "      <td>False</td>\n",
       "      <td>Tampa Bay Buccaneers</td>\n",
       "      <td>10.0</td>\n",
       "      <td>24.0</td>\n",
       "      <td>Detroit Lions</td>\n",
       "      <td>TB</td>\n",
       "      <td>...</td>\n",
       "      <td>False</td>\n",
       "      <td>69.0</td>\n",
       "      <td>9.0</td>\n",
       "      <td>77.0</td>\n",
       "      <td>NaN</td>\n",
       "      <td>TB</td>\n",
       "      <td>DET</td>\n",
       "      <td>DET</td>\n",
       "      <td>False</td>\n",
       "      <td>DET</td>\n",
       "    </tr>\n",
       "    <tr>\n",
       "      <th>2</th>\n",
       "      <td>2</td>\n",
       "      <td>10/04/1981</td>\n",
       "      <td>1981</td>\n",
       "      <td>5</td>\n",
       "      <td>False</td>\n",
       "      <td>Tampa Bay Buccaneers</td>\n",
       "      <td>28.0</td>\n",
       "      <td>10.0</td>\n",
       "      <td>Detroit Lions</td>\n",
       "      <td>TB</td>\n",
       "      <td>...</td>\n",
       "      <td>False</td>\n",
       "      <td>76.0</td>\n",
       "      <td>9.0</td>\n",
       "      <td>76.0</td>\n",
       "      <td>NaN</td>\n",
       "      <td>TB</td>\n",
       "      <td>DET</td>\n",
       "      <td>TB</td>\n",
       "      <td>True</td>\n",
       "      <td>DET</td>\n",
       "    </tr>\n",
       "    <tr>\n",
       "      <th>3</th>\n",
       "      <td>3</td>\n",
       "      <td>12/26/1982</td>\n",
       "      <td>1982</td>\n",
       "      <td>8</td>\n",
       "      <td>False</td>\n",
       "      <td>Tampa Bay Buccaneers</td>\n",
       "      <td>23.0</td>\n",
       "      <td>21.0</td>\n",
       "      <td>Detroit Lions</td>\n",
       "      <td>TB</td>\n",
       "      <td>...</td>\n",
       "      <td>False</td>\n",
       "      <td>73.0</td>\n",
       "      <td>11.0</td>\n",
       "      <td>72.0</td>\n",
       "      <td>NaN</td>\n",
       "      <td>TB</td>\n",
       "      <td>DET</td>\n",
       "      <td>TB</td>\n",
       "      <td>True</td>\n",
       "      <td>DET</td>\n",
       "    </tr>\n",
       "    <tr>\n",
       "      <th>4</th>\n",
       "      <td>4</td>\n",
       "      <td>09/04/1983</td>\n",
       "      <td>1983</td>\n",
       "      <td>1</td>\n",
       "      <td>False</td>\n",
       "      <td>Tampa Bay Buccaneers</td>\n",
       "      <td>0.0</td>\n",
       "      <td>11.0</td>\n",
       "      <td>Detroit Lions</td>\n",
       "      <td>TB</td>\n",
       "      <td>...</td>\n",
       "      <td>False</td>\n",
       "      <td>82.0</td>\n",
       "      <td>7.0</td>\n",
       "      <td>83.0</td>\n",
       "      <td>NaN</td>\n",
       "      <td>TB</td>\n",
       "      <td>DET</td>\n",
       "      <td>DET</td>\n",
       "      <td>False</td>\n",
       "      <td>DET</td>\n",
       "    </tr>\n",
       "  </tbody>\n",
       "</table>\n",
       "<p>5 rows × 23 columns</p>\n",
       "</div>"
      ],
      "text/plain": [
       "   Unnamed: 0 schedule_date  schedule_season schedule_week  schedule_playoff  \\\n",
       "0           0    09/01/1979             1979             1             False   \n",
       "1           1    11/23/1980             1980            12             False   \n",
       "2           2    10/04/1981             1981             5             False   \n",
       "3           3    12/26/1982             1982             8             False   \n",
       "4           4    09/04/1983             1983             1             False   \n",
       "\n",
       "              team_home  score_home  score_away      team_away  \\\n",
       "0  Tampa Bay Buccaneers        31.0        16.0  Detroit Lions   \n",
       "1  Tampa Bay Buccaneers        10.0        24.0  Detroit Lions   \n",
       "2  Tampa Bay Buccaneers        28.0        10.0  Detroit Lions   \n",
       "3  Tampa Bay Buccaneers        23.0        21.0  Detroit Lions   \n",
       "4  Tampa Bay Buccaneers         0.0        11.0  Detroit Lions   \n",
       "\n",
       "  team_favorite_id  ...  stadium_neutral weather_temperature weather_wind_mph  \\\n",
       "0               TB  ...            False                79.0              9.0   \n",
       "1               TB  ...            False                69.0              9.0   \n",
       "2               TB  ...            False                76.0              9.0   \n",
       "3               TB  ...            False                73.0             11.0   \n",
       "4               TB  ...            False                82.0              7.0   \n",
       "\n",
       "   weather_humidity  weather_detail  team_home_id  team_away_id winner  \\\n",
       "0              87.0             NaN            TB           DET     TB   \n",
       "1              77.0             NaN            TB           DET    DET   \n",
       "2              76.0             NaN            TB           DET     TB   \n",
       "3              72.0             NaN            TB           DET     TB   \n",
       "4              83.0             NaN            TB           DET    DET   \n",
       "\n",
       "  favorite_won team_underdog_id  \n",
       "0         True              DET  \n",
       "1        False              DET  \n",
       "2         True              DET  \n",
       "3         True              DET  \n",
       "4        False              DET  \n",
       "\n",
       "[5 rows x 23 columns]"
      ]
     },
     "execution_count": 4,
     "metadata": {},
     "output_type": "execute_result"
    }
   ],
   "source": [
    "path = r'C:\\Users\\greg\\Documents\\NFL\\survivor_sim\\processed_data'\n",
    "\n",
    "spread_scores = pd.read_csv(path + '\\\\spreadspoke_scores_processed.csv')\n",
    "spread_scores.head()\n"
   ]
  },
  {
   "cell_type": "code",
   "execution_count": 5,
   "metadata": {},
   "outputs": [],
   "source": [
    "df = spread_scores[['spread_favorite','favorite_won']\n",
    "                ].groupby(by = 'spread_favorite').agg(['mean', 'count'])"
   ]
  },
  {
   "cell_type": "code",
   "execution_count": 6,
   "metadata": {},
   "outputs": [],
   "source": [
    "df.reset_index(inplace = True)"
   ]
  },
  {
   "cell_type": "code",
   "execution_count": 7,
   "metadata": {},
   "outputs": [
    {
     "data": {
      "text/html": [
       "<div>\n",
       "<style scoped>\n",
       "    .dataframe tbody tr th:only-of-type {\n",
       "        vertical-align: middle;\n",
       "    }\n",
       "\n",
       "    .dataframe tbody tr th {\n",
       "        vertical-align: top;\n",
       "    }\n",
       "\n",
       "    .dataframe thead tr th {\n",
       "        text-align: left;\n",
       "    }\n",
       "</style>\n",
       "<table border=\"1\" class=\"dataframe\">\n",
       "  <thead>\n",
       "    <tr>\n",
       "      <th></th>\n",
       "      <th>spread_favorite</th>\n",
       "      <th colspan=\"2\" halign=\"left\">favorite_won</th>\n",
       "    </tr>\n",
       "    <tr>\n",
       "      <th></th>\n",
       "      <th></th>\n",
       "      <th>mean</th>\n",
       "      <th>count</th>\n",
       "    </tr>\n",
       "  </thead>\n",
       "  <tbody>\n",
       "    <tr>\n",
       "      <th>0</th>\n",
       "      <td>-26.5</td>\n",
       "      <td>1.0</td>\n",
       "      <td>1</td>\n",
       "    </tr>\n",
       "    <tr>\n",
       "      <th>1</th>\n",
       "      <td>-24.5</td>\n",
       "      <td>1.0</td>\n",
       "      <td>1</td>\n",
       "    </tr>\n",
       "    <tr>\n",
       "      <th>2</th>\n",
       "      <td>-24.0</td>\n",
       "      <td>1.0</td>\n",
       "      <td>1</td>\n",
       "    </tr>\n",
       "    <tr>\n",
       "      <th>3</th>\n",
       "      <td>-22.5</td>\n",
       "      <td>1.0</td>\n",
       "      <td>1</td>\n",
       "    </tr>\n",
       "    <tr>\n",
       "      <th>4</th>\n",
       "      <td>-20.5</td>\n",
       "      <td>1.0</td>\n",
       "      <td>2</td>\n",
       "    </tr>\n",
       "  </tbody>\n",
       "</table>\n",
       "</div>"
      ],
      "text/plain": [
       "  spread_favorite favorite_won      \n",
       "                          mean count\n",
       "0           -26.5          1.0     1\n",
       "1           -24.5          1.0     1\n",
       "2           -24.0          1.0     1\n",
       "3           -22.5          1.0     1\n",
       "4           -20.5          1.0     2"
      ]
     },
     "execution_count": 7,
     "metadata": {},
     "output_type": "execute_result"
    }
   ],
   "source": [
    "df.head()"
   ]
  },
  {
   "cell_type": "code",
   "execution_count": 8,
   "metadata": {},
   "outputs": [
    {
     "data": {
      "text/plain": [
       "<matplotlib.axes._subplots.AxesSubplot at 0x2092e5f6940>"
      ]
     },
     "execution_count": 8,
     "metadata": {},
     "output_type": "execute_result"
    },
    {
     "data": {
      "image/png": "[encoded data removed]",
      "text/plain": [
       "<Figure size 432x288 with 1 Axes>"
      ]
     },
     "metadata": {
      "needs_background": "light"
     },
     "output_type": "display_data"
    }
   ],
   "source": [
    "sns.scatterplot(data = df, x = 'spread_favorite', y = ('favorite_won','mean'))"
   ]
  },
  {
   "cell_type": "code",
   "execution_count": 9,
   "metadata": {},
   "outputs": [
    {
     "data": {
      "text/html": [
       "<div>\n",
       "<style scoped>\n",
       "    .dataframe tbody tr th:only-of-type {\n",
       "        vertical-align: middle;\n",
       "    }\n",
       "\n",
       "    .dataframe tbody tr th {\n",
       "        vertical-align: top;\n",
       "    }\n",
       "\n",
       "    .dataframe thead th {\n",
       "        text-align: right;\n",
       "    }\n",
       "</style>\n",
       "<table border=\"1\" class=\"dataframe\">\n",
       "  <thead>\n",
       "    <tr style=\"text-align: right;\">\n",
       "      <th></th>\n",
       "      <th>Unnamed: 0</th>\n",
       "      <th>schedule_date</th>\n",
       "      <th>schedule_season</th>\n",
       "      <th>schedule_week</th>\n",
       "      <th>schedule_playoff</th>\n",
       "      <th>team_home</th>\n",
       "      <th>score_home</th>\n",
       "      <th>score_away</th>\n",
       "      <th>team_away</th>\n",
       "      <th>team_favorite_id</th>\n",
       "      <th>...</th>\n",
       "      <th>stadium_neutral</th>\n",
       "      <th>weather_temperature</th>\n",
       "      <th>weather_wind_mph</th>\n",
       "      <th>weather_humidity</th>\n",
       "      <th>weather_detail</th>\n",
       "      <th>team_home_id</th>\n",
       "      <th>team_away_id</th>\n",
       "      <th>winner</th>\n",
       "      <th>favorite_won</th>\n",
       "      <th>team_underdog_id</th>\n",
       "    </tr>\n",
       "  </thead>\n",
       "  <tbody>\n",
       "    <tr>\n",
       "      <th>0</th>\n",
       "      <td>0</td>\n",
       "      <td>09/01/1979</td>\n",
       "      <td>1979</td>\n",
       "      <td>1</td>\n",
       "      <td>False</td>\n",
       "      <td>Tampa Bay Buccaneers</td>\n",
       "      <td>31.0</td>\n",
       "      <td>16.0</td>\n",
       "      <td>Detroit Lions</td>\n",
       "      <td>TB</td>\n",
       "      <td>...</td>\n",
       "      <td>False</td>\n",
       "      <td>79.0</td>\n",
       "      <td>9.0</td>\n",
       "      <td>87.0</td>\n",
       "      <td>NaN</td>\n",
       "      <td>TB</td>\n",
       "      <td>DET</td>\n",
       "      <td>TB</td>\n",
       "      <td>True</td>\n",
       "      <td>DET</td>\n",
       "    </tr>\n",
       "    <tr>\n",
       "      <th>1</th>\n",
       "      <td>1</td>\n",
       "      <td>11/23/1980</td>\n",
       "      <td>1980</td>\n",
       "      <td>12</td>\n",
       "      <td>False</td>\n",
       "      <td>Tampa Bay Buccaneers</td>\n",
       "      <td>10.0</td>\n",
       "      <td>24.0</td>\n",
       "      <td>Detroit Lions</td>\n",
       "      <td>TB</td>\n",
       "      <td>...</td>\n",
       "      <td>False</td>\n",
       "      <td>69.0</td>\n",
       "      <td>9.0</td>\n",
       "      <td>77.0</td>\n",
       "      <td>NaN</td>\n",
       "      <td>TB</td>\n",
       "      <td>DET</td>\n",
       "      <td>DET</td>\n",
       "      <td>False</td>\n",
       "      <td>DET</td>\n",
       "    </tr>\n",
       "    <tr>\n",
       "      <th>2</th>\n",
       "      <td>2</td>\n",
       "      <td>10/04/1981</td>\n",
       "      <td>1981</td>\n",
       "      <td>5</td>\n",
       "      <td>False</td>\n",
       "      <td>Tampa Bay Buccaneers</td>\n",
       "      <td>28.0</td>\n",
       "      <td>10.0</td>\n",
       "      <td>Detroit Lions</td>\n",
       "      <td>TB</td>\n",
       "      <td>...</td>\n",
       "      <td>False</td>\n",
       "      <td>76.0</td>\n",
       "      <td>9.0</td>\n",
       "      <td>76.0</td>\n",
       "      <td>NaN</td>\n",
       "      <td>TB</td>\n",
       "      <td>DET</td>\n",
       "      <td>TB</td>\n",
       "      <td>True</td>\n",
       "      <td>DET</td>\n",
       "    </tr>\n",
       "    <tr>\n",
       "      <th>3</th>\n",
       "      <td>3</td>\n",
       "      <td>12/26/1982</td>\n",
       "      <td>1982</td>\n",
       "      <td>8</td>\n",
       "      <td>False</td>\n",
       "      <td>Tampa Bay Buccaneers</td>\n",
       "      <td>23.0</td>\n",
       "      <td>21.0</td>\n",
       "      <td>Detroit Lions</td>\n",
       "      <td>TB</td>\n",
       "      <td>...</td>\n",
       "      <td>False</td>\n",
       "      <td>73.0</td>\n",
       "      <td>11.0</td>\n",
       "      <td>72.0</td>\n",
       "      <td>NaN</td>\n",
       "      <td>TB</td>\n",
       "      <td>DET</td>\n",
       "      <td>TB</td>\n",
       "      <td>True</td>\n",
       "      <td>DET</td>\n",
       "    </tr>\n",
       "    <tr>\n",
       "      <th>4</th>\n",
       "      <td>4</td>\n",
       "      <td>09/04/1983</td>\n",
       "      <td>1983</td>\n",
       "      <td>1</td>\n",
       "      <td>False</td>\n",
       "      <td>Tampa Bay Buccaneers</td>\n",
       "      <td>0.0</td>\n",
       "      <td>11.0</td>\n",
       "      <td>Detroit Lions</td>\n",
       "      <td>TB</td>\n",
       "      <td>...</td>\n",
       "      <td>False</td>\n",
       "      <td>82.0</td>\n",
       "      <td>7.0</td>\n",
       "      <td>83.0</td>\n",
       "      <td>NaN</td>\n",
       "      <td>TB</td>\n",
       "      <td>DET</td>\n",
       "      <td>DET</td>\n",
       "      <td>False</td>\n",
       "      <td>DET</td>\n",
       "    </tr>\n",
       "  </tbody>\n",
       "</table>\n",
       "<p>5 rows × 23 columns</p>\n",
       "</div>"
      ],
      "text/plain": [
       "   Unnamed: 0 schedule_date  schedule_season schedule_week  schedule_playoff  \\\n",
       "0           0    09/01/1979             1979             1             False   \n",
       "1           1    11/23/1980             1980            12             False   \n",
       "2           2    10/04/1981             1981             5             False   \n",
       "3           3    12/26/1982             1982             8             False   \n",
       "4           4    09/04/1983             1983             1             False   \n",
       "\n",
       "              team_home  score_home  score_away      team_away  \\\n",
       "0  Tampa Bay Buccaneers        31.0        16.0  Detroit Lions   \n",
       "1  Tampa Bay Buccaneers        10.0        24.0  Detroit Lions   \n",
       "2  Tampa Bay Buccaneers        28.0        10.0  Detroit Lions   \n",
       "3  Tampa Bay Buccaneers        23.0        21.0  Detroit Lions   \n",
       "4  Tampa Bay Buccaneers         0.0        11.0  Detroit Lions   \n",
       "\n",
       "  team_favorite_id  ...  stadium_neutral weather_temperature weather_wind_mph  \\\n",
       "0               TB  ...            False                79.0              9.0   \n",
       "1               TB  ...            False                69.0              9.0   \n",
       "2               TB  ...            False                76.0              9.0   \n",
       "3               TB  ...            False                73.0             11.0   \n",
       "4               TB  ...            False                82.0              7.0   \n",
       "\n",
       "   weather_humidity  weather_detail  team_home_id  team_away_id winner  \\\n",
       "0              87.0             NaN            TB           DET     TB   \n",
       "1              77.0             NaN            TB           DET    DET   \n",
       "2              76.0             NaN            TB           DET     TB   \n",
       "3              72.0             NaN            TB           DET     TB   \n",
       "4              83.0             NaN            TB           DET    DET   \n",
       "\n",
       "  favorite_won team_underdog_id  \n",
       "0         True              DET  \n",
       "1        False              DET  \n",
       "2         True              DET  \n",
       "3         True              DET  \n",
       "4        False              DET  \n",
       "\n",
       "[5 rows x 23 columns]"
      ]
     },
     "execution_count": 9,
     "metadata": {},
     "output_type": "execute_result"
    }
   ],
   "source": [
    "spread_scores.head()"
   ]
  },
  {
   "cell_type": "code",
   "execution_count": 10,
   "metadata": {},
   "outputs": [
    {
     "name": "stderr",
     "output_type": "stream",
     "text": [
      "C:\\Users\\greg\\AppData\\Local\\Continuum\\anaconda3\\lib\\site-packages\\scipy\\stats\\stats.py:1713: FutureWarning: Using a non-tuple sequence for multidimensional indexing is deprecated; use `arr[tuple(seq)]` instead of `arr[seq]`. In the future this will be interpreted as an array index, `arr[np.array(seq)]`, which will result either in an error or a different result.\n",
      "  return np.add.reduce(sorted[indexer] * weights, axis=axis) / sumval\n"
     ]
    },
    {
     "data": {
      "image/png": "[encoded data removed]",
      "text/plain": [
       "<Figure size 432x288 with 1 Axes>"
      ]
     },
     "metadata": {
      "needs_background": "light"
     },
     "output_type": "display_data"
    }
   ],
   "source": [
    "fig, ax  = plt.subplots()\n",
    "sns.regplot(x = 'spread_favorite', y='favorite_won', data=spread_scores, \n",
    "            logistic=True, ax = ax, scatter_kws={'alpha':0.1})\n",
    "x = df['spread_favorite']\n",
    "y = df[('favorite_won','mean')]\n",
    "s = df[('favorite_won','count')]\n",
    "ax.scatter(x = x, y = y, c = 'r',s = s,alpha = .5)\n",
    "sns.despine()"
   ]
  },
  {
   "cell_type": "code",
   "execution_count": 11,
   "metadata": {},
   "outputs": [
    {
     "data": {
      "image/png": "[encoded data removed]",
      "text/plain": [
       "<Figure size 432x288 with 1 Axes>"
      ]
     },
     "metadata": {
      "needs_background": "light"
     },
     "output_type": "display_data"
    }
   ],
   "source": [
    "# try it as a mirror image to see how it changes\n",
    "X = pd.concat([spread_scores.spread_favorite, -spread_scores.spread_favorite])\n",
    "y = pd.concat([spread_scores.favorite_won, -spread_scores.favorite_won])\n",
    "\n",
    "\n",
    "fig, ax  = plt.subplots()\n",
    "sns.regplot(x = X, y= y, \n",
    "            logistic=True, ax = ax, scatter_kws={'alpha':0.1})\n",
    "x = df['spread_favorite']\n",
    "y = df[('favorite_won','mean')]\n",
    "s = df[('favorite_won','count')]\n",
    "ax.scatter(x = x, y = y, c = 'r',s = s,alpha = .5)\n",
    "sns.despine()"
   ]
  },
  {
   "cell_type": "code",
   "execution_count": 12,
   "metadata": {},
   "outputs": [
    {
     "data": {
      "image/png": "[encoded data removed]",
      "text/plain": [
       "<Figure size 432x288 with 1 Axes>"
      ]
     },
     "metadata": {
      "needs_background": "light"
     },
     "output_type": "display_data"
    }
   ],
   "source": [
    "# try it as a log norm to see how it changes\n",
    "X = spread_scores.spread_favorite**2\n",
    "y = spread_scores.favorite_won\n",
    "\n",
    "\n",
    "fig, ax  = plt.subplots()\n",
    "sns.regplot(x = X, y= y, \n",
    "            logistic=True, ax = ax, scatter_kws={'alpha':0.1})\n",
    "x = df['spread_favorite']**2\n",
    "y = df[('favorite_won','mean')]\n",
    "s = df[('favorite_won','count')]\n",
    "ax.scatter(x = x, y = y, c = 'r',s = s,alpha = .5)\n",
    "sns.despine()"
   ]
  },
  {
   "cell_type": "code",
   "execution_count": 13,
   "metadata": {},
   "outputs": [
    {
     "data": {
      "image/png": "[encoded data removed]",
      "text/plain": [
       "<Figure size 432x288 with 1 Axes>"
      ]
     },
     "metadata": {
      "needs_background": "light"
     },
     "output_type": "display_data"
    }
   ],
   "source": [
    "# try it as a mirror image to see how it changes\n",
    "X = pd.concat([spread_scores.spread_favorite**2, -(spread_scores.spread_favorite**2)])\n",
    "y = pd.concat([spread_scores.favorite_won, -spread_scores.favorite_won])\n",
    "\n",
    "\n",
    "fig, ax  = plt.subplots()\n",
    "sns.regplot(x = X, y= y, \n",
    "            logistic=True, ax = ax, scatter_kws={'alpha':0.1})\n",
    "x = df['spread_favorite']**2\n",
    "y = df[('favorite_won','mean')]\n",
    "s = df[('favorite_won','count')]\n",
    "ax.scatter(x = x, y = y, c = 'r',s = s,alpha = .5)\n",
    "sns.despine()"
   ]
  },
  {
   "cell_type": "markdown",
   "metadata": {},
   "source": [
    "Concluding from this - just make the spread squared a feature and let the log regression wieght the two.    "
   ]
  },
  {
   "cell_type": "code",
   "execution_count": 14,
   "metadata": {},
   "outputs": [
    {
     "data": {
      "text/plain": [
       "Index(['Unnamed: 0', 'schedule_date', 'schedule_season', 'schedule_week',\n",
       "       'schedule_playoff', 'team_home', 'score_home', 'score_away',\n",
       "       'team_away', 'team_favorite_id', 'spread_favorite', 'over_under_line',\n",
       "       'stadium', 'stadium_neutral', 'weather_temperature', 'weather_wind_mph',\n",
       "       'weather_humidity', 'weather_detail', 'team_home_id', 'team_away_id',\n",
       "       'winner', 'favorite_won', 'team_underdog_id'],\n",
       "      dtype='object')"
      ]
     },
     "execution_count": 14,
     "metadata": {},
     "output_type": "execute_result"
    }
   ],
   "source": [
    "spread_scores.columns"
   ]
  },
  {
   "cell_type": "code",
   "execution_count": 15,
   "metadata": {},
   "outputs": [
    {
     "data": {
      "text/html": [
       "<div>\n",
       "<style scoped>\n",
       "    .dataframe tbody tr th:only-of-type {\n",
       "        vertical-align: middle;\n",
       "    }\n",
       "\n",
       "    .dataframe tbody tr th {\n",
       "        vertical-align: top;\n",
       "    }\n",
       "\n",
       "    .dataframe thead th {\n",
       "        text-align: right;\n",
       "    }\n",
       "</style>\n",
       "<table border=\"1\" class=\"dataframe\">\n",
       "  <thead>\n",
       "    <tr style=\"text-align: right;\">\n",
       "      <th></th>\n",
       "      <th>Unnamed: 0</th>\n",
       "      <th>schedule_date</th>\n",
       "      <th>schedule_season</th>\n",
       "      <th>schedule_week</th>\n",
       "      <th>schedule_playoff</th>\n",
       "      <th>team_home</th>\n",
       "      <th>score_home</th>\n",
       "      <th>score_away</th>\n",
       "      <th>team_away</th>\n",
       "      <th>team_favorite_id</th>\n",
       "      <th>...</th>\n",
       "      <th>stadium_neutral</th>\n",
       "      <th>weather_temperature</th>\n",
       "      <th>weather_wind_mph</th>\n",
       "      <th>weather_humidity</th>\n",
       "      <th>weather_detail</th>\n",
       "      <th>team_home_id</th>\n",
       "      <th>team_away_id</th>\n",
       "      <th>winner</th>\n",
       "      <th>favorite_won</th>\n",
       "      <th>team_underdog_id</th>\n",
       "    </tr>\n",
       "  </thead>\n",
       "  <tbody>\n",
       "    <tr>\n",
       "      <th>0</th>\n",
       "      <td>0</td>\n",
       "      <td>09/01/1979</td>\n",
       "      <td>1979</td>\n",
       "      <td>1</td>\n",
       "      <td>False</td>\n",
       "      <td>Tampa Bay Buccaneers</td>\n",
       "      <td>31.0</td>\n",
       "      <td>16.0</td>\n",
       "      <td>Detroit Lions</td>\n",
       "      <td>TB</td>\n",
       "      <td>...</td>\n",
       "      <td>False</td>\n",
       "      <td>79.0</td>\n",
       "      <td>9.0</td>\n",
       "      <td>87.0</td>\n",
       "      <td>NaN</td>\n",
       "      <td>TB</td>\n",
       "      <td>DET</td>\n",
       "      <td>TB</td>\n",
       "      <td>True</td>\n",
       "      <td>DET</td>\n",
       "    </tr>\n",
       "    <tr>\n",
       "      <th>1</th>\n",
       "      <td>1</td>\n",
       "      <td>11/23/1980</td>\n",
       "      <td>1980</td>\n",
       "      <td>12</td>\n",
       "      <td>False</td>\n",
       "      <td>Tampa Bay Buccaneers</td>\n",
       "      <td>10.0</td>\n",
       "      <td>24.0</td>\n",
       "      <td>Detroit Lions</td>\n",
       "      <td>TB</td>\n",
       "      <td>...</td>\n",
       "      <td>False</td>\n",
       "      <td>69.0</td>\n",
       "      <td>9.0</td>\n",
       "      <td>77.0</td>\n",
       "      <td>NaN</td>\n",
       "      <td>TB</td>\n",
       "      <td>DET</td>\n",
       "      <td>DET</td>\n",
       "      <td>False</td>\n",
       "      <td>DET</td>\n",
       "    </tr>\n",
       "    <tr>\n",
       "      <th>2</th>\n",
       "      <td>2</td>\n",
       "      <td>10/04/1981</td>\n",
       "      <td>1981</td>\n",
       "      <td>5</td>\n",
       "      <td>False</td>\n",
       "      <td>Tampa Bay Buccaneers</td>\n",
       "      <td>28.0</td>\n",
       "      <td>10.0</td>\n",
       "      <td>Detroit Lions</td>\n",
       "      <td>TB</td>\n",
       "      <td>...</td>\n",
       "      <td>False</td>\n",
       "      <td>76.0</td>\n",
       "      <td>9.0</td>\n",
       "      <td>76.0</td>\n",
       "      <td>NaN</td>\n",
       "      <td>TB</td>\n",
       "      <td>DET</td>\n",
       "      <td>TB</td>\n",
       "      <td>True</td>\n",
       "      <td>DET</td>\n",
       "    </tr>\n",
       "    <tr>\n",
       "      <th>3</th>\n",
       "      <td>3</td>\n",
       "      <td>12/26/1982</td>\n",
       "      <td>1982</td>\n",
       "      <td>8</td>\n",
       "      <td>False</td>\n",
       "      <td>Tampa Bay Buccaneers</td>\n",
       "      <td>23.0</td>\n",
       "      <td>21.0</td>\n",
       "      <td>Detroit Lions</td>\n",
       "      <td>TB</td>\n",
       "      <td>...</td>\n",
       "      <td>False</td>\n",
       "      <td>73.0</td>\n",
       "      <td>11.0</td>\n",
       "      <td>72.0</td>\n",
       "      <td>NaN</td>\n",
       "      <td>TB</td>\n",
       "      <td>DET</td>\n",
       "      <td>TB</td>\n",
       "      <td>True</td>\n",
       "      <td>DET</td>\n",
       "    </tr>\n",
       "    <tr>\n",
       "      <th>4</th>\n",
       "      <td>4</td>\n",
       "      <td>09/04/1983</td>\n",
       "      <td>1983</td>\n",
       "      <td>1</td>\n",
       "      <td>False</td>\n",
       "      <td>Tampa Bay Buccaneers</td>\n",
       "      <td>0.0</td>\n",
       "      <td>11.0</td>\n",
       "      <td>Detroit Lions</td>\n",
       "      <td>TB</td>\n",
       "      <td>...</td>\n",
       "      <td>False</td>\n",
       "      <td>82.0</td>\n",
       "      <td>7.0</td>\n",
       "      <td>83.0</td>\n",
       "      <td>NaN</td>\n",
       "      <td>TB</td>\n",
       "      <td>DET</td>\n",
       "      <td>DET</td>\n",
       "      <td>False</td>\n",
       "      <td>DET</td>\n",
       "    </tr>\n",
       "  </tbody>\n",
       "</table>\n",
       "<p>5 rows × 23 columns</p>\n",
       "</div>"
      ],
      "text/plain": [
       "   Unnamed: 0 schedule_date  schedule_season schedule_week  schedule_playoff  \\\n",
       "0           0    09/01/1979             1979             1             False   \n",
       "1           1    11/23/1980             1980            12             False   \n",
       "2           2    10/04/1981             1981             5             False   \n",
       "3           3    12/26/1982             1982             8             False   \n",
       "4           4    09/04/1983             1983             1             False   \n",
       "\n",
       "              team_home  score_home  score_away      team_away  \\\n",
       "0  Tampa Bay Buccaneers        31.0        16.0  Detroit Lions   \n",
       "1  Tampa Bay Buccaneers        10.0        24.0  Detroit Lions   \n",
       "2  Tampa Bay Buccaneers        28.0        10.0  Detroit Lions   \n",
       "3  Tampa Bay Buccaneers        23.0        21.0  Detroit Lions   \n",
       "4  Tampa Bay Buccaneers         0.0        11.0  Detroit Lions   \n",
       "\n",
       "  team_favorite_id  ...  stadium_neutral weather_temperature weather_wind_mph  \\\n",
       "0               TB  ...            False                79.0              9.0   \n",
       "1               TB  ...            False                69.0              9.0   \n",
       "2               TB  ...            False                76.0              9.0   \n",
       "3               TB  ...            False                73.0             11.0   \n",
       "4               TB  ...            False                82.0              7.0   \n",
       "\n",
       "   weather_humidity  weather_detail  team_home_id  team_away_id winner  \\\n",
       "0              87.0             NaN            TB           DET     TB   \n",
       "1              77.0             NaN            TB           DET    DET   \n",
       "2              76.0             NaN            TB           DET     TB   \n",
       "3              72.0             NaN            TB           DET     TB   \n",
       "4              83.0             NaN            TB           DET    DET   \n",
       "\n",
       "  favorite_won team_underdog_id  \n",
       "0         True              DET  \n",
       "1        False              DET  \n",
       "2         True              DET  \n",
       "3         True              DET  \n",
       "4        False              DET  \n",
       "\n",
       "[5 rows x 23 columns]"
      ]
     },
     "execution_count": 15,
     "metadata": {},
     "output_type": "execute_result"
    }
   ],
   "source": [
    "spread_scores.head()"
   ]
  },
  {
   "cell_type": "markdown",
   "metadata": {},
   "source": [
    "## scikitlearn logistical regression model"
   ]
  },
  {
   "cell_type": "code",
   "execution_count": 16,
   "metadata": {},
   "outputs": [],
   "source": [
    "from sklearn.linear_model import LogisticRegression"
   ]
  },
  {
   "cell_type": "code",
   "execution_count": 17,
   "metadata": {},
   "outputs": [],
   "source": [
    "X = spread_scores.spread_favorite\n",
    "X = X.values.reshape(-1, 1) \n",
    "y = spread_scores.favorite_won"
   ]
  },
  {
   "cell_type": "code",
   "execution_count": 18,
   "metadata": {},
   "outputs": [
    {
     "name": "stderr",
     "output_type": "stream",
     "text": [
      "C:\\Users\\greg\\AppData\\Local\\Continuum\\anaconda3\\lib\\site-packages\\sklearn\\linear_model\\logistic.py:433: FutureWarning: Default solver will be changed to 'lbfgs' in 0.22. Specify a solver to silence this warning.\n",
      "  FutureWarning)\n"
     ]
    }
   ],
   "source": [
    "lr = LogisticRegression().fit(X, y)\n"
   ]
  },
  {
   "cell_type": "code",
   "execution_count": 19,
   "metadata": {},
   "outputs": [],
   "source": [
    "spreads = df['spread_favorite'].values.reshape(-1, 1)"
   ]
  },
  {
   "cell_type": "code",
   "execution_count": 20,
   "metadata": {},
   "outputs": [
    {
     "data": {
      "text/plain": [
       "array([0.58480743, 0.58480743, 0.51029319, ..., 0.81345927, 0.65563493,\n",
       "       0.58480743])"
      ]
     },
     "execution_count": 20,
     "metadata": {},
     "output_type": "execute_result"
    }
   ],
   "source": [
    "lr.predict_proba(X)[:,1]"
   ]
  },
  {
   "cell_type": "markdown",
   "metadata": {},
   "source": [
    "## write the model to a pickle file \n",
    "Work with pickle files\n",
    "https://machinelearningmastery.com/save-load-machine-learning-models-python-scikit-learn/\n"
   ]
  },
  {
   "cell_type": "code",
   "execution_count": 21,
   "metadata": {},
   "outputs": [],
   "source": [
    "import pickle"
   ]
  },
  {
   "cell_type": "code",
   "execution_count": 22,
   "metadata": {},
   "outputs": [],
   "source": [
    "# save the model to disk\n",
    "filename = 'log_reg_spread_model.pkl'\n",
    "pickle.dump(lr, open(path+filename, 'wb'))\n",
    " "
   ]
  },
  {
   "cell_type": "code",
   "execution_count": 23,
   "metadata": {},
   "outputs": [
    {
     "data": {
      "text/plain": [
       "array([0.58480743, 0.58480743, 0.51029319, ..., 0.81345927, 0.65563493,\n",
       "       0.58480743])"
      ]
     },
     "execution_count": 23,
     "metadata": {},
     "output_type": "execute_result"
    }
   ],
   "source": [
    "# load the model from disk\n",
    "loaded_model = pickle.load(open(path+filename, 'rb'))\n",
    "result = loaded_model.predict_proba(X)[:,1]\n",
    "result"
   ]
  },
  {
   "cell_type": "markdown",
   "metadata": {},
   "source": [
    "## Run some single week probabilities"
   ]
  },
  {
   "cell_type": "code",
   "execution_count": 24,
   "metadata": {},
   "outputs": [
    {
     "ename": "FileNotFoundError",
     "evalue": "[Errno 2] No such file or directory: 'C:\\\\Users\\\\greg\\\\Documents\\\\NFL\\\\survivor_sim\\\\processed_data\\\\week_7.xlsx'",
     "output_type": "error",
     "traceback": [
      "\u001b[1;31m---------------------------------------------------------------------------\u001b[0m",
      "\u001b[1;31mFileNotFoundError\u001b[0m                         Traceback (most recent call last)",
      "\u001b[1;32m<ipython-input-24-e5a0cbb99a06>\u001b[0m in \u001b[0;36m<module>\u001b[1;34m\u001b[0m\n\u001b[1;32m----> 1\u001b[1;33m \u001b[0mweek7\u001b[0m \u001b[1;33m=\u001b[0m \u001b[0mpd\u001b[0m\u001b[1;33m.\u001b[0m\u001b[0mread_excel\u001b[0m\u001b[1;33m(\u001b[0m\u001b[0mpath\u001b[0m\u001b[1;33m+\u001b[0m\u001b[1;34m'\\\\week_7.xlsx'\u001b[0m\u001b[1;33m)\u001b[0m\u001b[1;33m\u001b[0m\u001b[1;33m\u001b[0m\u001b[0m\n\u001b[0m",
      "\u001b[1;32m~\\AppData\\Local\\Continuum\\anaconda3\\lib\\site-packages\\pandas\\util\\_decorators.py\u001b[0m in \u001b[0;36mwrapper\u001b[1;34m(*args, **kwargs)\u001b[0m\n\u001b[0;32m    186\u001b[0m                 \u001b[1;32melse\u001b[0m\u001b[1;33m:\u001b[0m\u001b[1;33m\u001b[0m\u001b[1;33m\u001b[0m\u001b[0m\n\u001b[0;32m    187\u001b[0m                     \u001b[0mkwargs\u001b[0m\u001b[1;33m[\u001b[0m\u001b[0mnew_arg_name\u001b[0m\u001b[1;33m]\u001b[0m \u001b[1;33m=\u001b[0m \u001b[0mnew_arg_value\u001b[0m\u001b[1;33m\u001b[0m\u001b[1;33m\u001b[0m\u001b[0m\n\u001b[1;32m--> 188\u001b[1;33m             \u001b[1;32mreturn\u001b[0m \u001b[0mfunc\u001b[0m\u001b[1;33m(\u001b[0m\u001b[1;33m*\u001b[0m\u001b[0margs\u001b[0m\u001b[1;33m,\u001b[0m \u001b[1;33m**\u001b[0m\u001b[0mkwargs\u001b[0m\u001b[1;33m)\u001b[0m\u001b[1;33m\u001b[0m\u001b[1;33m\u001b[0m\u001b[0m\n\u001b[0m\u001b[0;32m    189\u001b[0m         \u001b[1;32mreturn\u001b[0m \u001b[0mwrapper\u001b[0m\u001b[1;33m\u001b[0m\u001b[1;33m\u001b[0m\u001b[0m\n\u001b[0;32m    190\u001b[0m     \u001b[1;32mreturn\u001b[0m \u001b[0m_deprecate_kwarg\u001b[0m\u001b[1;33m\u001b[0m\u001b[1;33m\u001b[0m\u001b[0m\n",
      "\u001b[1;32m~\\AppData\\Local\\Continuum\\anaconda3\\lib\\site-packages\\pandas\\util\\_decorators.py\u001b[0m in \u001b[0;36mwrapper\u001b[1;34m(*args, **kwargs)\u001b[0m\n\u001b[0;32m    186\u001b[0m                 \u001b[1;32melse\u001b[0m\u001b[1;33m:\u001b[0m\u001b[1;33m\u001b[0m\u001b[1;33m\u001b[0m\u001b[0m\n\u001b[0;32m    187\u001b[0m                     \u001b[0mkwargs\u001b[0m\u001b[1;33m[\u001b[0m\u001b[0mnew_arg_name\u001b[0m\u001b[1;33m]\u001b[0m \u001b[1;33m=\u001b[0m \u001b[0mnew_arg_value\u001b[0m\u001b[1;33m\u001b[0m\u001b[1;33m\u001b[0m\u001b[0m\n\u001b[1;32m--> 188\u001b[1;33m             \u001b[1;32mreturn\u001b[0m \u001b[0mfunc\u001b[0m\u001b[1;33m(\u001b[0m\u001b[1;33m*\u001b[0m\u001b[0margs\u001b[0m\u001b[1;33m,\u001b[0m \u001b[1;33m**\u001b[0m\u001b[0mkwargs\u001b[0m\u001b[1;33m)\u001b[0m\u001b[1;33m\u001b[0m\u001b[1;33m\u001b[0m\u001b[0m\n\u001b[0m\u001b[0;32m    189\u001b[0m         \u001b[1;32mreturn\u001b[0m \u001b[0mwrapper\u001b[0m\u001b[1;33m\u001b[0m\u001b[1;33m\u001b[0m\u001b[0m\n\u001b[0;32m    190\u001b[0m     \u001b[1;32mreturn\u001b[0m \u001b[0m_deprecate_kwarg\u001b[0m\u001b[1;33m\u001b[0m\u001b[1;33m\u001b[0m\u001b[0m\n",
      "\u001b[1;32m~\\AppData\\Local\\Continuum\\anaconda3\\lib\\site-packages\\pandas\\io\\excel.py\u001b[0m in \u001b[0;36mread_excel\u001b[1;34m(io, sheet_name, header, names, index_col, parse_cols, usecols, squeeze, dtype, engine, converters, true_values, false_values, skiprows, nrows, na_values, keep_default_na, verbose, parse_dates, date_parser, thousands, comment, skip_footer, skipfooter, convert_float, mangle_dupe_cols, **kwds)\u001b[0m\n\u001b[0;32m    348\u001b[0m \u001b[1;33m\u001b[0m\u001b[0m\n\u001b[0;32m    349\u001b[0m     \u001b[1;32mif\u001b[0m \u001b[1;32mnot\u001b[0m \u001b[0misinstance\u001b[0m\u001b[1;33m(\u001b[0m\u001b[0mio\u001b[0m\u001b[1;33m,\u001b[0m \u001b[0mExcelFile\u001b[0m\u001b[1;33m)\u001b[0m\u001b[1;33m:\u001b[0m\u001b[1;33m\u001b[0m\u001b[1;33m\u001b[0m\u001b[0m\n\u001b[1;32m--> 350\u001b[1;33m         \u001b[0mio\u001b[0m \u001b[1;33m=\u001b[0m \u001b[0mExcelFile\u001b[0m\u001b[1;33m(\u001b[0m\u001b[0mio\u001b[0m\u001b[1;33m,\u001b[0m \u001b[0mengine\u001b[0m\u001b[1;33m=\u001b[0m\u001b[0mengine\u001b[0m\u001b[1;33m)\u001b[0m\u001b[1;33m\u001b[0m\u001b[1;33m\u001b[0m\u001b[0m\n\u001b[0m\u001b[0;32m    351\u001b[0m \u001b[1;33m\u001b[0m\u001b[0m\n\u001b[0;32m    352\u001b[0m     return io.parse(\n",
      "\u001b[1;32m~\\AppData\\Local\\Continuum\\anaconda3\\lib\\site-packages\\pandas\\io\\excel.py\u001b[0m in \u001b[0;36m__init__\u001b[1;34m(self, io, engine)\u001b[0m\n\u001b[0;32m    651\u001b[0m         \u001b[0mself\u001b[0m\u001b[1;33m.\u001b[0m\u001b[0m_io\u001b[0m \u001b[1;33m=\u001b[0m \u001b[0m_stringify_path\u001b[0m\u001b[1;33m(\u001b[0m\u001b[0mio\u001b[0m\u001b[1;33m)\u001b[0m\u001b[1;33m\u001b[0m\u001b[1;33m\u001b[0m\u001b[0m\n\u001b[0;32m    652\u001b[0m \u001b[1;33m\u001b[0m\u001b[0m\n\u001b[1;32m--> 653\u001b[1;33m         \u001b[0mself\u001b[0m\u001b[1;33m.\u001b[0m\u001b[0m_reader\u001b[0m \u001b[1;33m=\u001b[0m \u001b[0mself\u001b[0m\u001b[1;33m.\u001b[0m\u001b[0m_engines\u001b[0m\u001b[1;33m[\u001b[0m\u001b[0mengine\u001b[0m\u001b[1;33m]\u001b[0m\u001b[1;33m(\u001b[0m\u001b[0mself\u001b[0m\u001b[1;33m.\u001b[0m\u001b[0m_io\u001b[0m\u001b[1;33m)\u001b[0m\u001b[1;33m\u001b[0m\u001b[1;33m\u001b[0m\u001b[0m\n\u001b[0m\u001b[0;32m    654\u001b[0m \u001b[1;33m\u001b[0m\u001b[0m\n\u001b[0;32m    655\u001b[0m     \u001b[1;32mdef\u001b[0m \u001b[0m__fspath__\u001b[0m\u001b[1;33m(\u001b[0m\u001b[0mself\u001b[0m\u001b[1;33m)\u001b[0m\u001b[1;33m:\u001b[0m\u001b[1;33m\u001b[0m\u001b[1;33m\u001b[0m\u001b[0m\n",
      "\u001b[1;32m~\\AppData\\Local\\Continuum\\anaconda3\\lib\\site-packages\\pandas\\io\\excel.py\u001b[0m in \u001b[0;36m__init__\u001b[1;34m(self, filepath_or_buffer)\u001b[0m\n\u001b[0;32m    422\u001b[0m             \u001b[0mself\u001b[0m\u001b[1;33m.\u001b[0m\u001b[0mbook\u001b[0m \u001b[1;33m=\u001b[0m \u001b[0mxlrd\u001b[0m\u001b[1;33m.\u001b[0m\u001b[0mopen_workbook\u001b[0m\u001b[1;33m(\u001b[0m\u001b[0mfile_contents\u001b[0m\u001b[1;33m=\u001b[0m\u001b[0mdata\u001b[0m\u001b[1;33m)\u001b[0m\u001b[1;33m\u001b[0m\u001b[1;33m\u001b[0m\u001b[0m\n\u001b[0;32m    423\u001b[0m         \u001b[1;32melif\u001b[0m \u001b[0misinstance\u001b[0m\u001b[1;33m(\u001b[0m\u001b[0mfilepath_or_buffer\u001b[0m\u001b[1;33m,\u001b[0m \u001b[0mcompat\u001b[0m\u001b[1;33m.\u001b[0m\u001b[0mstring_types\u001b[0m\u001b[1;33m)\u001b[0m\u001b[1;33m:\u001b[0m\u001b[1;33m\u001b[0m\u001b[1;33m\u001b[0m\u001b[0m\n\u001b[1;32m--> 424\u001b[1;33m             \u001b[0mself\u001b[0m\u001b[1;33m.\u001b[0m\u001b[0mbook\u001b[0m \u001b[1;33m=\u001b[0m \u001b[0mxlrd\u001b[0m\u001b[1;33m.\u001b[0m\u001b[0mopen_workbook\u001b[0m\u001b[1;33m(\u001b[0m\u001b[0mfilepath_or_buffer\u001b[0m\u001b[1;33m)\u001b[0m\u001b[1;33m\u001b[0m\u001b[1;33m\u001b[0m\u001b[0m\n\u001b[0m\u001b[0;32m    425\u001b[0m         \u001b[1;32melse\u001b[0m\u001b[1;33m:\u001b[0m\u001b[1;33m\u001b[0m\u001b[1;33m\u001b[0m\u001b[0m\n\u001b[0;32m    426\u001b[0m             raise ValueError('Must explicitly set engine if not passing in'\n",
      "\u001b[1;32m~\\AppData\\Local\\Continuum\\anaconda3\\lib\\site-packages\\xlrd\\__init__.py\u001b[0m in \u001b[0;36mopen_workbook\u001b[1;34m(filename, logfile, verbosity, use_mmap, file_contents, encoding_override, formatting_info, on_demand, ragged_rows)\u001b[0m\n\u001b[0;32m    109\u001b[0m     \u001b[1;32melse\u001b[0m\u001b[1;33m:\u001b[0m\u001b[1;33m\u001b[0m\u001b[1;33m\u001b[0m\u001b[0m\n\u001b[0;32m    110\u001b[0m         \u001b[0mfilename\u001b[0m \u001b[1;33m=\u001b[0m \u001b[0mos\u001b[0m\u001b[1;33m.\u001b[0m\u001b[0mpath\u001b[0m\u001b[1;33m.\u001b[0m\u001b[0mexpanduser\u001b[0m\u001b[1;33m(\u001b[0m\u001b[0mfilename\u001b[0m\u001b[1;33m)\u001b[0m\u001b[1;33m\u001b[0m\u001b[1;33m\u001b[0m\u001b[0m\n\u001b[1;32m--> 111\u001b[1;33m         \u001b[1;32mwith\u001b[0m \u001b[0mopen\u001b[0m\u001b[1;33m(\u001b[0m\u001b[0mfilename\u001b[0m\u001b[1;33m,\u001b[0m \u001b[1;34m\"rb\"\u001b[0m\u001b[1;33m)\u001b[0m \u001b[1;32mas\u001b[0m \u001b[0mf\u001b[0m\u001b[1;33m:\u001b[0m\u001b[1;33m\u001b[0m\u001b[1;33m\u001b[0m\u001b[0m\n\u001b[0m\u001b[0;32m    112\u001b[0m             \u001b[0mpeek\u001b[0m \u001b[1;33m=\u001b[0m \u001b[0mf\u001b[0m\u001b[1;33m.\u001b[0m\u001b[0mread\u001b[0m\u001b[1;33m(\u001b[0m\u001b[0mpeeksz\u001b[0m\u001b[1;33m)\u001b[0m\u001b[1;33m\u001b[0m\u001b[1;33m\u001b[0m\u001b[0m\n\u001b[0;32m    113\u001b[0m     \u001b[1;32mif\u001b[0m \u001b[0mpeek\u001b[0m \u001b[1;33m==\u001b[0m \u001b[1;34mb\"PK\\x03\\x04\"\u001b[0m\u001b[1;33m:\u001b[0m \u001b[1;31m# a ZIP file\u001b[0m\u001b[1;33m\u001b[0m\u001b[1;33m\u001b[0m\u001b[0m\n",
      "\u001b[1;31mFileNotFoundError\u001b[0m: [Errno 2] No such file or directory: 'C:\\\\Users\\\\greg\\\\Documents\\\\NFL\\\\survivor_sim\\\\processed_data\\\\week_7.xlsx'"
     ]
    }
   ],
   "source": [
    "week7 = pd.read_excel(path+'\\\\week_7.xlsx')"
   ]
  },
  {
   "cell_type": "markdown",
   "metadata": {},
   "source": [
    "#### Use the regression function"
   ]
  },
  {
   "cell_type": "code",
   "execution_count": null,
   "metadata": {},
   "outputs": [],
   "source": [
    "week7.sort_values(by='Spread', inplace = True)"
   ]
  },
  {
   "cell_type": "code",
   "execution_count": null,
   "metadata": {},
   "outputs": [],
   "source": [
    "spreads = week7.Spread.values.reshape(-1, 1)\n",
    "week7['probs'] = lr.predict_proba(spreads)[:,1]"
   ]
  },
  {
   "cell_type": "code",
   "execution_count": null,
   "metadata": {},
   "outputs": [],
   "source": [
    "# assume that the bettors are 100 to make the math easier\n",
    "week7.Bettors = round(week7.Bettors*100/week7.Bettors.sum())\n",
    "week7.Bettors.sum()"
   ]
  },
  {
   "cell_type": "code",
   "execution_count": null,
   "metadata": {},
   "outputs": [],
   "source": [
    "week7"
   ]
  },
  {
   "cell_type": "markdown",
   "metadata": {},
   "source": [
    "It works - the logisitic regression from point spreads will be the basic model used in the algorithms"
   ]
  },
  {
   "cell_type": "code",
   "execution_count": null,
   "metadata": {},
   "outputs": [],
   "source": []
  }
 ],
 "metadata": {
  "kernelspec": {
   "display_name": "Python 3",
   "language": "python",
   "name": "python3"
  },
  "language_info": {
   "codemirror_mode": {
    "name": "ipython",
    "version": 3
   },
   "file_extension": ".py",
   "mimetype": "text/x-python",
   "name": "python",
   "nbconvert_exporter": "python",
   "pygments_lexer": "ipython3",
   "version": "3.7.1"
  }
 },
 "nbformat": 4,
 "nbformat_minor": 2
}