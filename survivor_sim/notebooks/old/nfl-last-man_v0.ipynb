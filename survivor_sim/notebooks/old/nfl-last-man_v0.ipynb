{
 "cells": [
  {
   "cell_type": "markdown",
   "metadata": {
    "_uuid": "08e684783d9c25bbb9b67d783931ab56d1e5f3ae"
   },
   "source": [
    "# NFL Last Man Standing Betting Strategy"
   ]
  },
  {
   "cell_type": "markdown",
   "metadata": {
    "_uuid": "614b10684a10d0ef2f85bf2273bf3110dac88666"
   },
   "source": [
    "## Purpose\n",
    "\n",
    "The last man standing is betting game that last the duration of the NFL season.  \n",
    "* Each bettor chooses one team to win each week.  \n",
    "* If the team looses, then bettor is knocked out.  \n",
    "* The bettor cannot choose the same team twice.  \n",
    "* The last bettor alive wins the pot.  \n",
    "\n",
    "The purpose of this analysis is to compare betting strategies within a pool of contestants.  In particular, selecting a favorite may increase the chance for survival to the next week, but not maximize that chance of winning the pool that year (since many other contestants will do the same thing).  Is there another betting strategy that is more likely to optimize the change of winning the pool?  "
   ]
  },
  {
   "cell_type": "code",
   "execution_count": 1,
   "metadata": {},
   "outputs": [],
   "source": [
    "# packages\n",
    "import pandas as pd\n",
    "import numpy as np\n",
    "import random\n",
    "import datetime\n",
    "import matplotlib.pyplot as plt\n",
    "import seaborn as sns"
   ]
  },
  {
   "cell_type": "markdown",
   "metadata": {
    "_uuid": "c840ac5e9055018937ebad8bf22d482bc90b9f96"
   },
   "source": [
    "## Data Wrangling"
   ]
  },
  {
   "cell_type": "code",
   "execution_count": 2,
   "metadata": {
    "_uuid": "f84e90ae7bf60fb52b299ded80580242c36a01e7"
   },
   "outputs": [
    {
     "ename": "FileNotFoundError",
     "evalue": "[Errno 2] File b'../input/nfl-scores-and-betting-data/spreadspoke_scores.csv' does not exist: b'../input/nfl-scores-and-betting-data/spreadspoke_scores.csv'",
     "output_type": "error",
     "traceback": [
      "\u001b[1;31m---------------------------------------------------------------------------\u001b[0m",
      "\u001b[1;31mFileNotFoundError\u001b[0m                         Traceback (most recent call last)",
      "\u001b[1;32m<ipython-input-2-79163e2e8369>\u001b[0m in \u001b[0;36m<module>\u001b[1;34m\u001b[0m\n\u001b[0;32m      1\u001b[0m \u001b[1;31m# load CSV file from Kaggle\u001b[0m\u001b[1;33m\u001b[0m\u001b[1;33m\u001b[0m\u001b[1;33m\u001b[0m\u001b[0m\n\u001b[0;32m      2\u001b[0m \u001b[0mpath\u001b[0m \u001b[1;33m=\u001b[0m \u001b[1;34m\"../input/\"\u001b[0m\u001b[1;33m\u001b[0m\u001b[1;33m\u001b[0m\u001b[0m\n\u001b[1;32m----> 3\u001b[1;33m \u001b[0mspread_scores\u001b[0m \u001b[1;33m=\u001b[0m \u001b[0mpd\u001b[0m\u001b[1;33m.\u001b[0m\u001b[0mread_csv\u001b[0m\u001b[1;33m(\u001b[0m\u001b[0mpath\u001b[0m \u001b[1;33m+\u001b[0m \u001b[1;34m\"nfl-scores-and-betting-data/spreadspoke_scores.csv\"\u001b[0m\u001b[1;33m)\u001b[0m\u001b[1;33m\u001b[0m\u001b[1;33m\u001b[0m\u001b[0m\n\u001b[0m",
      "\u001b[1;32m~\\AppData\\Local\\Continuum\\anaconda3\\lib\\site-packages\\pandas\\io\\parsers.py\u001b[0m in \u001b[0;36mparser_f\u001b[1;34m(filepath_or_buffer, sep, delimiter, header, names, index_col, usecols, squeeze, prefix, mangle_dupe_cols, dtype, engine, converters, true_values, false_values, skipinitialspace, skiprows, skipfooter, nrows, na_values, keep_default_na, na_filter, verbose, skip_blank_lines, parse_dates, infer_datetime_format, keep_date_col, date_parser, dayfirst, iterator, chunksize, compression, thousands, decimal, lineterminator, quotechar, quoting, doublequote, escapechar, comment, encoding, dialect, tupleize_cols, error_bad_lines, warn_bad_lines, delim_whitespace, low_memory, memory_map, float_precision)\u001b[0m\n\u001b[0;32m    700\u001b[0m                     skip_blank_lines=skip_blank_lines)\n\u001b[0;32m    701\u001b[0m \u001b[1;33m\u001b[0m\u001b[0m\n\u001b[1;32m--> 702\u001b[1;33m         \u001b[1;32mreturn\u001b[0m \u001b[0m_read\u001b[0m\u001b[1;33m(\u001b[0m\u001b[0mfilepath_or_buffer\u001b[0m\u001b[1;33m,\u001b[0m \u001b[0mkwds\u001b[0m\u001b[1;33m)\u001b[0m\u001b[1;33m\u001b[0m\u001b[1;33m\u001b[0m\u001b[0m\n\u001b[0m\u001b[0;32m    703\u001b[0m \u001b[1;33m\u001b[0m\u001b[0m\n\u001b[0;32m    704\u001b[0m     \u001b[0mparser_f\u001b[0m\u001b[1;33m.\u001b[0m\u001b[0m__name__\u001b[0m \u001b[1;33m=\u001b[0m \u001b[0mname\u001b[0m\u001b[1;33m\u001b[0m\u001b[1;33m\u001b[0m\u001b[0m\n",
      "\u001b[1;32m~\\AppData\\Local\\Continuum\\anaconda3\\lib\\site-packages\\pandas\\io\\parsers.py\u001b[0m in \u001b[0;36m_read\u001b[1;34m(filepath_or_buffer, kwds)\u001b[0m\n\u001b[0;32m    427\u001b[0m \u001b[1;33m\u001b[0m\u001b[0m\n\u001b[0;32m    428\u001b[0m     \u001b[1;31m# Create the parser.\u001b[0m\u001b[1;33m\u001b[0m\u001b[1;33m\u001b[0m\u001b[1;33m\u001b[0m\u001b[0m\n\u001b[1;32m--> 429\u001b[1;33m     \u001b[0mparser\u001b[0m \u001b[1;33m=\u001b[0m \u001b[0mTextFileReader\u001b[0m\u001b[1;33m(\u001b[0m\u001b[0mfilepath_or_buffer\u001b[0m\u001b[1;33m,\u001b[0m \u001b[1;33m**\u001b[0m\u001b[0mkwds\u001b[0m\u001b[1;33m)\u001b[0m\u001b[1;33m\u001b[0m\u001b[1;33m\u001b[0m\u001b[0m\n\u001b[0m\u001b[0;32m    430\u001b[0m \u001b[1;33m\u001b[0m\u001b[0m\n\u001b[0;32m    431\u001b[0m     \u001b[1;32mif\u001b[0m \u001b[0mchunksize\u001b[0m \u001b[1;32mor\u001b[0m \u001b[0miterator\u001b[0m\u001b[1;33m:\u001b[0m\u001b[1;33m\u001b[0m\u001b[1;33m\u001b[0m\u001b[0m\n",
      "\u001b[1;32m~\\AppData\\Local\\Continuum\\anaconda3\\lib\\site-packages\\pandas\\io\\parsers.py\u001b[0m in \u001b[0;36m__init__\u001b[1;34m(self, f, engine, **kwds)\u001b[0m\n\u001b[0;32m    893\u001b[0m             \u001b[0mself\u001b[0m\u001b[1;33m.\u001b[0m\u001b[0moptions\u001b[0m\u001b[1;33m[\u001b[0m\u001b[1;34m'has_index_names'\u001b[0m\u001b[1;33m]\u001b[0m \u001b[1;33m=\u001b[0m \u001b[0mkwds\u001b[0m\u001b[1;33m[\u001b[0m\u001b[1;34m'has_index_names'\u001b[0m\u001b[1;33m]\u001b[0m\u001b[1;33m\u001b[0m\u001b[1;33m\u001b[0m\u001b[0m\n\u001b[0;32m    894\u001b[0m \u001b[1;33m\u001b[0m\u001b[0m\n\u001b[1;32m--> 895\u001b[1;33m         \u001b[0mself\u001b[0m\u001b[1;33m.\u001b[0m\u001b[0m_make_engine\u001b[0m\u001b[1;33m(\u001b[0m\u001b[0mself\u001b[0m\u001b[1;33m.\u001b[0m\u001b[0mengine\u001b[0m\u001b[1;33m)\u001b[0m\u001b[1;33m\u001b[0m\u001b[1;33m\u001b[0m\u001b[0m\n\u001b[0m\u001b[0;32m    896\u001b[0m \u001b[1;33m\u001b[0m\u001b[0m\n\u001b[0;32m    897\u001b[0m     \u001b[1;32mdef\u001b[0m \u001b[0mclose\u001b[0m\u001b[1;33m(\u001b[0m\u001b[0mself\u001b[0m\u001b[1;33m)\u001b[0m\u001b[1;33m:\u001b[0m\u001b[1;33m\u001b[0m\u001b[1;33m\u001b[0m\u001b[0m\n",
      "\u001b[1;32m~\\AppData\\Local\\Continuum\\anaconda3\\lib\\site-packages\\pandas\\io\\parsers.py\u001b[0m in \u001b[0;36m_make_engine\u001b[1;34m(self, engine)\u001b[0m\n\u001b[0;32m   1120\u001b[0m     \u001b[1;32mdef\u001b[0m \u001b[0m_make_engine\u001b[0m\u001b[1;33m(\u001b[0m\u001b[0mself\u001b[0m\u001b[1;33m,\u001b[0m \u001b[0mengine\u001b[0m\u001b[1;33m=\u001b[0m\u001b[1;34m'c'\u001b[0m\u001b[1;33m)\u001b[0m\u001b[1;33m:\u001b[0m\u001b[1;33m\u001b[0m\u001b[1;33m\u001b[0m\u001b[0m\n\u001b[0;32m   1121\u001b[0m         \u001b[1;32mif\u001b[0m \u001b[0mengine\u001b[0m \u001b[1;33m==\u001b[0m \u001b[1;34m'c'\u001b[0m\u001b[1;33m:\u001b[0m\u001b[1;33m\u001b[0m\u001b[1;33m\u001b[0m\u001b[0m\n\u001b[1;32m-> 1122\u001b[1;33m             \u001b[0mself\u001b[0m\u001b[1;33m.\u001b[0m\u001b[0m_engine\u001b[0m \u001b[1;33m=\u001b[0m \u001b[0mCParserWrapper\u001b[0m\u001b[1;33m(\u001b[0m\u001b[0mself\u001b[0m\u001b[1;33m.\u001b[0m\u001b[0mf\u001b[0m\u001b[1;33m,\u001b[0m \u001b[1;33m**\u001b[0m\u001b[0mself\u001b[0m\u001b[1;33m.\u001b[0m\u001b[0moptions\u001b[0m\u001b[1;33m)\u001b[0m\u001b[1;33m\u001b[0m\u001b[1;33m\u001b[0m\u001b[0m\n\u001b[0m\u001b[0;32m   1123\u001b[0m         \u001b[1;32melse\u001b[0m\u001b[1;33m:\u001b[0m\u001b[1;33m\u001b[0m\u001b[1;33m\u001b[0m\u001b[0m\n\u001b[0;32m   1124\u001b[0m             \u001b[1;32mif\u001b[0m \u001b[0mengine\u001b[0m \u001b[1;33m==\u001b[0m \u001b[1;34m'python'\u001b[0m\u001b[1;33m:\u001b[0m\u001b[1;33m\u001b[0m\u001b[1;33m\u001b[0m\u001b[0m\n",
      "\u001b[1;32m~\\AppData\\Local\\Continuum\\anaconda3\\lib\\site-packages\\pandas\\io\\parsers.py\u001b[0m in \u001b[0;36m__init__\u001b[1;34m(self, src, **kwds)\u001b[0m\n\u001b[0;32m   1851\u001b[0m         \u001b[0mkwds\u001b[0m\u001b[1;33m[\u001b[0m\u001b[1;34m'usecols'\u001b[0m\u001b[1;33m]\u001b[0m \u001b[1;33m=\u001b[0m \u001b[0mself\u001b[0m\u001b[1;33m.\u001b[0m\u001b[0musecols\u001b[0m\u001b[1;33m\u001b[0m\u001b[1;33m\u001b[0m\u001b[0m\n\u001b[0;32m   1852\u001b[0m \u001b[1;33m\u001b[0m\u001b[0m\n\u001b[1;32m-> 1853\u001b[1;33m         \u001b[0mself\u001b[0m\u001b[1;33m.\u001b[0m\u001b[0m_reader\u001b[0m \u001b[1;33m=\u001b[0m \u001b[0mparsers\u001b[0m\u001b[1;33m.\u001b[0m\u001b[0mTextReader\u001b[0m\u001b[1;33m(\u001b[0m\u001b[0msrc\u001b[0m\u001b[1;33m,\u001b[0m \u001b[1;33m**\u001b[0m\u001b[0mkwds\u001b[0m\u001b[1;33m)\u001b[0m\u001b[1;33m\u001b[0m\u001b[1;33m\u001b[0m\u001b[0m\n\u001b[0m\u001b[0;32m   1854\u001b[0m         \u001b[0mself\u001b[0m\u001b[1;33m.\u001b[0m\u001b[0munnamed_cols\u001b[0m \u001b[1;33m=\u001b[0m \u001b[0mself\u001b[0m\u001b[1;33m.\u001b[0m\u001b[0m_reader\u001b[0m\u001b[1;33m.\u001b[0m\u001b[0munnamed_cols\u001b[0m\u001b[1;33m\u001b[0m\u001b[1;33m\u001b[0m\u001b[0m\n\u001b[0;32m   1855\u001b[0m \u001b[1;33m\u001b[0m\u001b[0m\n",
      "\u001b[1;32mpandas/_libs/parsers.pyx\u001b[0m in \u001b[0;36mpandas._libs.parsers.TextReader.__cinit__\u001b[1;34m()\u001b[0m\n",
      "\u001b[1;32mpandas/_libs/parsers.pyx\u001b[0m in \u001b[0;36mpandas._libs.parsers.TextReader._setup_parser_source\u001b[1;34m()\u001b[0m\n",
      "\u001b[1;31mFileNotFoundError\u001b[0m: [Errno 2] File b'../input/nfl-scores-and-betting-data/spreadspoke_scores.csv' does not exist: b'../input/nfl-scores-and-betting-data/spreadspoke_scores.csv'"
     ]
    }
   ],
   "source": [
    "# load CSV file from Kaggle\n",
    "path = \"../input/\"\n",
    "spread_scores = pd.read_csv(path + \"nfl-scores-and-betting-data/spreadspoke_scores.csv\")"
   ]
  },
  {
   "cell_type": "code",
   "execution_count": null,
   "metadata": {
    "_uuid": "f84e90ae7bf60fb52b299ded80580242c36a01e7"
   },
   "outputs": [],
   "source": [
    "# look at the 2018 season to get a sense of the data\n",
    "spread_scores[spread_scores.schedule_season == 2018]"
   ]
  },
  {
   "cell_type": "code",
   "execution_count": null,
   "metadata": {},
   "outputs": [],
   "source": [
    "# look at the teams df\n",
    "teams = pd.read_csv(path + \"nfl-scores-and-betting-data/nfl_teams.csv\")\n",
    "teams.head()"
   ]
  },
  {
   "cell_type": "code",
   "execution_count": null,
   "metadata": {},
   "outputs": [],
   "source": [
    "# select 1979 through 2018\n",
    "spread_scores = spread_scores[(spread_scores.schedule_season >= 1979) & (spread_scores.schedule_season <= 2018)]\n",
    "spread_scores"
   ]
  },
  {
   "cell_type": "code",
   "execution_count": null,
   "metadata": {},
   "outputs": [],
   "source": [
    "# add id fields for home and away teams\n",
    "spread_scores = spread_scores.merge(teams[['team_name', 'team_id']], left_on = 'team_home', right_on = 'team_name').rename(columns = {'team_id': 'team_home_id'})\n",
    "spread_scores = spread_scores.merge(teams[['team_name', 'team_id']], left_on = 'team_away', right_on = 'team_name').rename(columns = {'team_id': 'team_away_id'})\n",
    "spread_scores.drop(columns = ['team_name_x', 'team_name_y'], inplace = True)\n",
    "spread_scores"
   ]
  },
  {
   "cell_type": "markdown",
   "metadata": {},
   "source": [
    "## Betting simulation framework"
   ]
  },
  {
   "cell_type": "code",
   "execution_count": null,
   "metadata": {},
   "outputs": [],
   "source": [
    "# the bettor class represents a bettor with a strategy\n",
    "class bettor():\n",
    "    def __init__(self, **kwargs):\n",
    "        self.alive = True\n",
    "        self.picked = []\n",
    "        self.life_span = 0\n",
    "        self.strategy = kwargs['strategy']  ## do I need to unpack this from **kwargs, or does this work?\n",
    "        self.strategy0_top_n = kwargs['strategy0_top_n']\n",
    "        self.strategy1_n = kwargs['strategy1_n']\n",
    "        #  self.team = kwargs['team_list']  ##list of agents on your team - reserve - need to code\n",
    "        \n",
    "    def make_pick(self, season, week): # make a pick based on your strategy\n",
    "        if self.strategy == 0: # code the strategy of choosing the randomly amoung the n best remaining odds \n",
    "            try: # work around becuase it returns an error on short seasons - need to qc more\n",
    "                idx = random.choice(\n",
    "                    spread_scores[\n",
    "                        (spread_scores.schedule_season == season) & \n",
    "                        (spread_scores.schedule_week == week) & \n",
    "                        (~spread_scores.team_favorite_id.isin(self.picked))\n",
    "                    ].nsmallest(\n",
    "                        self.strategy0_top_n, columns = 'spread_favorite', keep = 'all'\n",
    "                    ).index\n",
    "                )\n",
    "                pick = spread_scores.loc[idx,'team_favorite_id']\n",
    "                \n",
    "            except: #  end the betting if no dataframe is returned\n",
    "                idx = 'none'\n",
    "                pick = 'none'      \n",
    "    \n",
    "        if self.strategy == 1: # code the strategy of choosing the nth best remaining odds \n",
    "\n",
    "            try: # returns an error on short seasons - need to check if there have been missing weeks\n",
    "                idx = random.choice(self.select_n(season, week, self.strategy1_n))\n",
    "                pick = spread_scores.loc[idx,'team_favorite_id']\n",
    "                \n",
    "            except: #  end the betting if no dataframe is returned\n",
    "                idx = 'none'\n",
    "                pick = 'none' \n",
    "            \n",
    "        self.picked.append(pick)    \n",
    "        return pick, idx\n",
    "   \n",
    "    def select_n(self, season, week, n):  \n",
    "        #helper function for strategy #1 since it is tricky to find the nth best with all the duplicated spreads \n",
    "        if n == 1:\n",
    "            idx_list = spread_scores[\n",
    "                (spread_scores.schedule_season == season) & \n",
    "                (spread_scores.schedule_week == week) & \n",
    "                (~spread_scores.team_favorite_id.isin(self.picked))\n",
    "                ].nsmallest(\n",
    "                    n, columns = 'spread_favorite', keep = 'all'\n",
    "                ).index.tolist()\n",
    "            return idx_list\n",
    "        else:\n",
    "            idx_n_list = spread_scores[\n",
    "                (spread_scores.schedule_season == season) & \n",
    "                (spread_scores.schedule_week == week) & \n",
    "                (~spread_scores.team_favorite_id.isin(self.picked))\n",
    "                ].nsmallest(\n",
    "                    n, columns = 'spread_favorite', keep = 'all'\n",
    "                ).index.tolist()\n",
    "\n",
    "            idx_n_1_list = spread_scores[\n",
    "                (spread_scores.schedule_season == season) & \n",
    "                (spread_scores.schedule_week == week) & \n",
    "                (~spread_scores.team_favorite_id.isin(self.picked))\n",
    "                ].nsmallest(\n",
    "                    n-1, columns = 'spread_favorite', keep = 'all'\n",
    "                ).index.tolist()\n",
    "\n",
    "            idx_list = [i for i in idx_n_list if i not in idx_n_1_list]\n",
    "\n",
    "            if idx_list ==  []:\n",
    "                return self.select_n(season, week, n-1)  #recursion is fun\n",
    "            else:\n",
    "                return idx_list\n",
    "\n",
    "        \n",
    "    def survive(self, pick, idx, season, week): #check to see if the bettor survived the week\n",
    "        if pick == 'none':  # if no pick, then toggle to dead and update life_span\n",
    "            self.life_span = int(week)-1\n",
    "            self.alive = False\n",
    "        else:\n",
    "            # ID the winner\n",
    "            if spread_scores.loc[idx,'score_home'] > spread_scores.loc[idx,'score_away']:\n",
    "                winner = spread_scores.loc[idx,'team_home_id']\n",
    "            elif spread_scores.loc[idx,'score_home'] < spread_scores.loc[idx,'score_away']:\n",
    "                winner = spread_scores.loc[idx,'team_away_id']  \n",
    "            else:\n",
    "                winner = 'tie'\n",
    "            \n",
    "            \n",
    "            # if the winner was picked, then pass and keep going, if the winner was not picked, then toggle to dead and update life_span.   \n",
    "            # print('season',season,'week',week,'pick',pick,'winner',winner)\n",
    "            if pick == winner:\n",
    "                pass\n",
    "            else:\n",
    "                self.life_span = int(week)-1\n",
    "                self.alive = False\n",
    "            \n",
    "    def run_season(self, season): \n",
    "        # runs a season for a bettor, but I want to move this outside of the bettor class to allow more flexibility \n",
    "        # (e.g., bettors acting as a team)\n",
    "        self.alive = True\n",
    "        self.picked = []\n",
    "        self.life_span = 0\n",
    "    \n",
    "        for week in range(1,18):\n",
    "            p, pi = self.make_pick(season, str(week))\n",
    "            self.survive(p, pi, season, str(week))\n",
    "            if self.alive == False:\n",
    "                break\n",
    "                \n",
    "        return self.life_span\n"
   ]
  },
  {
   "cell_type": "markdown",
   "metadata": {},
   "source": [
    "Run some checks to see if the bettor class is working as intended"
   ]
  },
  {
   "cell_type": "code",
   "execution_count": null,
   "metadata": {},
   "outputs": [],
   "source": [
    "swill = bettor(strategy = 0, strategy0_top_n = 3, strategy1_n = 1)\n",
    "swill.run_season(2016)"
   ]
  },
  {
   "cell_type": "code",
   "execution_count": null,
   "metadata": {},
   "outputs": [],
   "source": [
    "swill = bettor(strategy = 1, strategy0_top_n = 1, strategy1_n = 3)\n",
    "swill.run_season(2016)"
   ]
  },
  {
   "cell_type": "markdown",
   "metadata": {},
   "source": [
    "Run some tournaments"
   ]
  },
  {
   "cell_type": "code",
   "execution_count": null,
   "metadata": {},
   "outputs": [],
   "source": [
    "# a function to run 40 years of simulations\n",
    "def tournaments(bettors, strategies):\n",
    "    \n",
    "    results = pd.DataFrame()\n",
    "    results['strategy'] = strategies\n",
    "    \n",
    "    for season in range (1979, 2019):\n",
    "        life_spans = []\n",
    "        for bettor_obj in bettors:\n",
    "            life_spans.append(bettor_obj.run_season(season))\n",
    "        results[season] = life_spans    \n",
    "        maximum = max(life_spans)\n",
    "        results[str(season)+'_take'] = results[season]==maximum\n",
    "        results[str(season)+'_take'] = results[str(season)+'_take']/sum(results[str(season)+'_take'])        \n",
    "        print('completed',season,'season')\n",
    "    return results"
   ]
  },
  {
   "cell_type": "code",
   "execution_count": null,
   "metadata": {},
   "outputs": [],
   "source": [
    "# make a list of bettors and strategies for the tournament\n",
    "bettor_list = []\n",
    "strategy_list = []\n",
    "bettors = 4\n",
    "for n in range(1,10):\n",
    "    for s in range(2):\n",
    "        for b in range(bettors):\n",
    "            swill = bettor(strategy = s, strategy0_top_n = n, strategy1_n = n)\n",
    "            bettor_list.append(swill)\n",
    "            strategy_list.append('s'+str(s)+'_'+'n'+str(n))\n",
    "\n",
    "# print(bettor_list,strategy_list)"
   ]
  },
  {
   "cell_type": "code",
   "execution_count": null,
   "metadata": {},
   "outputs": [],
   "source": [
    "results = tournaments(bettor_list, strategy_list)"
   ]
  },
  {
   "cell_type": "code",
   "execution_count": null,
   "metadata": {},
   "outputs": [],
   "source": [
    "# crunch the results of the simulation\n",
    "cols = results.columns.tolist()\n",
    "take_cols = list(c for c in cols if 'take' in str(c))\n",
    "results.groupby(by = 'strategy').sum()[take_cols]"
   ]
  },
  {
   "cell_type": "code",
   "execution_count": null,
   "metadata": {},
   "outputs": [],
   "source": [
    "pd.DataFrame(results.groupby(by = 'strategy').sum()[take_cols].sum(axis=1))"
   ]
  },
  {
   "cell_type": "code",
   "execution_count": null,
   "metadata": {},
   "outputs": [],
   "source": []
  }
 ],
 "metadata": {
  "kernelspec": {
   "display_name": "Python 3",
   "language": "python",
   "name": "python3"
  },
  "language_info": {
   "codemirror_mode": {
    "name": "ipython",
    "version": 3
   },
   "file_extension": ".py",
   "mimetype": "text/x-python",
   "name": "python",
   "nbconvert_exporter": "python",
   "pygments_lexer": "ipython3",
   "version": "3.7.1"
  }
 },
 "nbformat": 4,
 "nbformat_minor": 2
}
