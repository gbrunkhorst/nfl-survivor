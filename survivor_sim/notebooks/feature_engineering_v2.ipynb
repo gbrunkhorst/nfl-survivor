{
 "cells": [
  {
   "cell_type": "markdown",
   "metadata": {},
   "source": [
    "# Feature engineering on the NFL spread_scores dataset\n",
    "\n",
    "Try more feature engineering combinations with the functions from the previous feature_engineering notebook moved to straight .py scripts.  "
   ]
  },
  {
   "cell_type": "code",
   "execution_count": 1,
   "metadata": {},
   "outputs": [],
   "source": [
    "import pandas as pd\n",
    "import numpy as np\n",
    "# feature_engineering.py has the functions that we want\n",
    "import feature_engineering as fe\n",
    "# prediction_functions.py has some wrappers around some shallow learning algos\n",
    "# including train_test split \n",
    "import prediction_functions as pf"
   ]
  },
  {
   "cell_type": "markdown",
   "metadata": {},
   "source": [
    "## Load the data and add some features"
   ]
  },
  {
   "cell_type": "code",
   "execution_count": 2,
   "metadata": {},
   "outputs": [],
   "source": [
    "data = fe.read_data()\n",
    "data = fe.process(data)\n",
    "data, new_features = fe.for_against_weighted(data, \n",
    "                            lookbacks = [4,14], drop_unweighted = True)"
   ]
  },
  {
   "cell_type": "code",
   "execution_count": 3,
   "metadata": {},
   "outputs": [
    {
     "data": {
      "text/html": [
       "<div>\n",
       "<style scoped>\n",
       "    .dataframe tbody tr th:only-of-type {\n",
       "        vertical-align: middle;\n",
       "    }\n",
       "\n",
       "    .dataframe tbody tr th {\n",
       "        vertical-align: top;\n",
       "    }\n",
       "\n",
       "    .dataframe thead th {\n",
       "        text-align: right;\n",
       "    }\n",
       "</style>\n",
       "<table border=\"1\" class=\"dataframe\">\n",
       "  <thead>\n",
       "    <tr style=\"text-align: right;\">\n",
       "      <th></th>\n",
       "      <th>schedule_season</th>\n",
       "      <th>schedule_week</th>\n",
       "      <th>team</th>\n",
       "      <th>opponent</th>\n",
       "      <th>home</th>\n",
       "      <th>spread</th>\n",
       "      <th>pts_for</th>\n",
       "      <th>pts_against</th>\n",
       "      <th>won</th>\n",
       "      <th>pts_for_adj_roll_4</th>\n",
       "      <th>pts_against_adj_roll_4</th>\n",
       "      <th>pts_for_adj_roll_14</th>\n",
       "      <th>pts_against_adj_roll_14</th>\n",
       "      <th>opp_pts_for_adj_roll_4</th>\n",
       "      <th>opp_pts_against_adj_roll_4</th>\n",
       "      <th>opp_pts_for_adj_roll_14</th>\n",
       "      <th>opp_pts_against_adj_roll_14</th>\n",
       "    </tr>\n",
       "  </thead>\n",
       "  <tbody>\n",
       "    <tr>\n",
       "      <th>0</th>\n",
       "      <td>1979</td>\n",
       "      <td>1</td>\n",
       "      <td>ARI</td>\n",
       "      <td>DAL</td>\n",
       "      <td>True</td>\n",
       "      <td>4.0</td>\n",
       "      <td>21.0</td>\n",
       "      <td>22.0</td>\n",
       "      <td>False</td>\n",
       "      <td>0.034506</td>\n",
       "      <td>0.034506</td>\n",
       "      <td>0.034506</td>\n",
       "      <td>0.034506</td>\n",
       "      <td>0.034506</td>\n",
       "      <td>0.034506</td>\n",
       "      <td>0.034506</td>\n",
       "      <td>0.034506</td>\n",
       "    </tr>\n",
       "    <tr>\n",
       "      <th>1</th>\n",
       "      <td>1979</td>\n",
       "      <td>1</td>\n",
       "      <td>ATL</td>\n",
       "      <td>NO</td>\n",
       "      <td>False</td>\n",
       "      <td>5.0</td>\n",
       "      <td>40.0</td>\n",
       "      <td>34.0</td>\n",
       "      <td>True</td>\n",
       "      <td>0.034506</td>\n",
       "      <td>0.034506</td>\n",
       "      <td>0.034506</td>\n",
       "      <td>0.034506</td>\n",
       "      <td>0.034506</td>\n",
       "      <td>0.034506</td>\n",
       "      <td>0.034506</td>\n",
       "      <td>0.034506</td>\n",
       "    </tr>\n",
       "    <tr>\n",
       "      <th>2</th>\n",
       "      <td>1979</td>\n",
       "      <td>1</td>\n",
       "      <td>BUF</td>\n",
       "      <td>MIA</td>\n",
       "      <td>True</td>\n",
       "      <td>5.0</td>\n",
       "      <td>7.0</td>\n",
       "      <td>9.0</td>\n",
       "      <td>False</td>\n",
       "      <td>0.034506</td>\n",
       "      <td>0.034506</td>\n",
       "      <td>0.034506</td>\n",
       "      <td>0.034506</td>\n",
       "      <td>0.034506</td>\n",
       "      <td>0.034506</td>\n",
       "      <td>0.034506</td>\n",
       "      <td>0.034506</td>\n",
       "    </tr>\n",
       "    <tr>\n",
       "      <th>3</th>\n",
       "      <td>1979</td>\n",
       "      <td>1</td>\n",
       "      <td>CHI</td>\n",
       "      <td>GB</td>\n",
       "      <td>True</td>\n",
       "      <td>-3.0</td>\n",
       "      <td>6.0</td>\n",
       "      <td>3.0</td>\n",
       "      <td>True</td>\n",
       "      <td>0.034506</td>\n",
       "      <td>0.034506</td>\n",
       "      <td>0.034506</td>\n",
       "      <td>0.034506</td>\n",
       "      <td>0.034506</td>\n",
       "      <td>0.034506</td>\n",
       "      <td>0.034506</td>\n",
       "      <td>0.034506</td>\n",
       "    </tr>\n",
       "    <tr>\n",
       "      <th>4</th>\n",
       "      <td>1979</td>\n",
       "      <td>1</td>\n",
       "      <td>CIN</td>\n",
       "      <td>DEN</td>\n",
       "      <td>False</td>\n",
       "      <td>3.0</td>\n",
       "      <td>0.0</td>\n",
       "      <td>10.0</td>\n",
       "      <td>False</td>\n",
       "      <td>0.034506</td>\n",
       "      <td>0.034506</td>\n",
       "      <td>0.034506</td>\n",
       "      <td>0.034506</td>\n",
       "      <td>0.034506</td>\n",
       "      <td>0.034506</td>\n",
       "      <td>0.034506</td>\n",
       "      <td>0.034506</td>\n",
       "    </tr>\n",
       "  </tbody>\n",
       "</table>\n",
       "</div>"
      ],
      "text/plain": [
       "   schedule_season  schedule_week team opponent   home  spread  pts_for  \\\n",
       "0             1979              1  ARI      DAL   True     4.0     21.0   \n",
       "1             1979              1  ATL       NO  False     5.0     40.0   \n",
       "2             1979              1  BUF      MIA   True     5.0      7.0   \n",
       "3             1979              1  CHI       GB   True    -3.0      6.0   \n",
       "4             1979              1  CIN      DEN  False     3.0      0.0   \n",
       "\n",
       "   pts_against    won  pts_for_adj_roll_4  pts_against_adj_roll_4  \\\n",
       "0         22.0  False            0.034506                0.034506   \n",
       "1         34.0   True            0.034506                0.034506   \n",
       "2          9.0  False            0.034506                0.034506   \n",
       "3          3.0   True            0.034506                0.034506   \n",
       "4         10.0  False            0.034506                0.034506   \n",
       "\n",
       "   pts_for_adj_roll_14  pts_against_adj_roll_14  opp_pts_for_adj_roll_4  \\\n",
       "0             0.034506                 0.034506                0.034506   \n",
       "1             0.034506                 0.034506                0.034506   \n",
       "2             0.034506                 0.034506                0.034506   \n",
       "3             0.034506                 0.034506                0.034506   \n",
       "4             0.034506                 0.034506                0.034506   \n",
       "\n",
       "   opp_pts_against_adj_roll_4  opp_pts_for_adj_roll_14  \\\n",
       "0                    0.034506                 0.034506   \n",
       "1                    0.034506                 0.034506   \n",
       "2                    0.034506                 0.034506   \n",
       "3                    0.034506                 0.034506   \n",
       "4                    0.034506                 0.034506   \n",
       "\n",
       "   opp_pts_against_adj_roll_14  \n",
       "0                     0.034506  \n",
       "1                     0.034506  \n",
       "2                     0.034506  \n",
       "3                     0.034506  \n",
       "4                     0.034506  "
      ]
     },
     "execution_count": 3,
     "metadata": {},
     "output_type": "execute_result"
    }
   ],
   "source": [
    "data.head()"
   ]
  },
  {
   "cell_type": "code",
   "execution_count": 4,
   "metadata": {},
   "outputs": [
    {
     "data": {
      "text/plain": [
       "['pts_for_adj_roll_4',\n",
       " 'pts_against_adj_roll_4',\n",
       " 'pts_for_adj_roll_14',\n",
       " 'pts_against_adj_roll_14',\n",
       " 'opp_pts_for_adj_roll_4',\n",
       " 'opp_pts_against_adj_roll_4',\n",
       " 'opp_pts_for_adj_roll_14',\n",
       " 'opp_pts_against_adj_roll_14']"
      ]
     },
     "execution_count": 4,
     "metadata": {},
     "output_type": "execute_result"
    }
   ],
   "source": [
    "new_features"
   ]
  },
  {
   "cell_type": "markdown",
   "metadata": {},
   "source": [
    "## Try several options to see how the new features fare"
   ]
  },
  {
   "cell_type": "code",
   "execution_count": 5,
   "metadata": {},
   "outputs": [
    {
     "name": "stdout",
     "output_type": "stream",
     "text": [
      "percent_correct =  65.68462830102274\n",
      "log_loss =  0.6197260837410923\n"
     ]
    },
    {
     "name": "stderr",
     "output_type": "stream",
     "text": [
      "C:\\Users\\greg\\AppData\\Local\\Continuum\\anaconda3\\lib\\site-packages\\sklearn\\linear_model\\logistic.py:433: FutureWarning: Default solver will be changed to 'lbfgs' in 0.22. Specify a solver to silence this warning.\n",
      "  FutureWarning)\n"
     ]
    }
   ],
   "source": [
    "pf.log_reg(X = data['spread'].values.reshape(-1, 1), y = data.won)"
   ]
  },
  {
   "cell_type": "code",
   "execution_count": 6,
   "metadata": {},
   "outputs": [
    {
     "name": "stdout",
     "output_type": "stream",
     "text": [
      "percent_correct =  65.4556556250954\n",
      "log_loss =  0.6200619268454557\n"
     ]
    },
    {
     "name": "stderr",
     "output_type": "stream",
     "text": [
      "C:\\Users\\greg\\AppData\\Local\\Continuum\\anaconda3\\lib\\site-packages\\sklearn\\linear_model\\logistic.py:433: FutureWarning: Default solver will be changed to 'lbfgs' in 0.22. Specify a solver to silence this warning.\n",
      "  FutureWarning)\n"
     ]
    }
   ],
   "source": [
    "pf.log_reg(X = data[new_features+['spread']], y = data.won)"
   ]
  },
  {
   "cell_type": "code",
   "execution_count": 7,
   "metadata": {},
   "outputs": [
    {
     "name": "stdout",
     "output_type": "stream",
     "text": [
      "percent_correct =  61.120439627537785\n",
      "log_loss =  0.6526686862934007\n"
     ]
    },
    {
     "name": "stderr",
     "output_type": "stream",
     "text": [
      "C:\\Users\\greg\\AppData\\Local\\Continuum\\anaconda3\\lib\\site-packages\\sklearn\\linear_model\\logistic.py:433: FutureWarning: Default solver will be changed to 'lbfgs' in 0.22. Specify a solver to silence this warning.\n",
      "  FutureWarning)\n"
     ]
    }
   ],
   "source": [
    "pf.log_reg(X = data[new_features], y = data.won)"
   ]
  },
  {
   "cell_type": "code",
   "execution_count": 8,
   "metadata": {},
   "outputs": [
    {
     "name": "stdout",
     "output_type": "stream",
     "text": [
      "    percent_correct =  65.54724469546635\n",
      "    log_loss =  0.6243288950238\n"
     ]
    }
   ],
   "source": [
    "pf.rand_for(X = data[new_features+['spread']], y = data.won)"
   ]
  },
  {
   "cell_type": "markdown",
   "metadata": {},
   "source": [
    "## Try some more features"
   ]
  },
  {
   "cell_type": "code",
   "execution_count": 9,
   "metadata": {},
   "outputs": [],
   "source": [
    "data, new_feature = fe.param_cube(data, param = 'spread')\n",
    "new_features.append(new_feature)"
   ]
  },
  {
   "cell_type": "code",
   "execution_count": 10,
   "metadata": {},
   "outputs": [
    {
     "data": {
      "text/html": [
       "<div>\n",
       "<style scoped>\n",
       "    .dataframe tbody tr th:only-of-type {\n",
       "        vertical-align: middle;\n",
       "    }\n",
       "\n",
       "    .dataframe tbody tr th {\n",
       "        vertical-align: top;\n",
       "    }\n",
       "\n",
       "    .dataframe thead th {\n",
       "        text-align: right;\n",
       "    }\n",
       "</style>\n",
       "<table border=\"1\" class=\"dataframe\">\n",
       "  <thead>\n",
       "    <tr style=\"text-align: right;\">\n",
       "      <th></th>\n",
       "      <th>schedule_season</th>\n",
       "      <th>schedule_week</th>\n",
       "      <th>team</th>\n",
       "      <th>opponent</th>\n",
       "      <th>home</th>\n",
       "      <th>spread</th>\n",
       "      <th>pts_for</th>\n",
       "      <th>pts_against</th>\n",
       "      <th>won</th>\n",
       "      <th>pts_for_adj_roll_4</th>\n",
       "      <th>pts_against_adj_roll_4</th>\n",
       "      <th>pts_for_adj_roll_14</th>\n",
       "      <th>pts_against_adj_roll_14</th>\n",
       "      <th>opp_pts_for_adj_roll_4</th>\n",
       "      <th>opp_pts_against_adj_roll_4</th>\n",
       "      <th>opp_pts_for_adj_roll_14</th>\n",
       "      <th>opp_pts_against_adj_roll_14</th>\n",
       "      <th>spread3</th>\n",
       "    </tr>\n",
       "  </thead>\n",
       "  <tbody>\n",
       "    <tr>\n",
       "      <th>0</th>\n",
       "      <td>1979</td>\n",
       "      <td>1</td>\n",
       "      <td>ARI</td>\n",
       "      <td>DAL</td>\n",
       "      <td>True</td>\n",
       "      <td>4.0</td>\n",
       "      <td>21.0</td>\n",
       "      <td>22.0</td>\n",
       "      <td>False</td>\n",
       "      <td>0.034506</td>\n",
       "      <td>0.034506</td>\n",
       "      <td>0.034506</td>\n",
       "      <td>0.034506</td>\n",
       "      <td>0.034506</td>\n",
       "      <td>0.034506</td>\n",
       "      <td>0.034506</td>\n",
       "      <td>0.034506</td>\n",
       "      <td>64.0</td>\n",
       "    </tr>\n",
       "    <tr>\n",
       "      <th>1</th>\n",
       "      <td>1979</td>\n",
       "      <td>1</td>\n",
       "      <td>ATL</td>\n",
       "      <td>NO</td>\n",
       "      <td>False</td>\n",
       "      <td>5.0</td>\n",
       "      <td>40.0</td>\n",
       "      <td>34.0</td>\n",
       "      <td>True</td>\n",
       "      <td>0.034506</td>\n",
       "      <td>0.034506</td>\n",
       "      <td>0.034506</td>\n",
       "      <td>0.034506</td>\n",
       "      <td>0.034506</td>\n",
       "      <td>0.034506</td>\n",
       "      <td>0.034506</td>\n",
       "      <td>0.034506</td>\n",
       "      <td>125.0</td>\n",
       "    </tr>\n",
       "    <tr>\n",
       "      <th>2</th>\n",
       "      <td>1979</td>\n",
       "      <td>1</td>\n",
       "      <td>BUF</td>\n",
       "      <td>MIA</td>\n",
       "      <td>True</td>\n",
       "      <td>5.0</td>\n",
       "      <td>7.0</td>\n",
       "      <td>9.0</td>\n",
       "      <td>False</td>\n",
       "      <td>0.034506</td>\n",
       "      <td>0.034506</td>\n",
       "      <td>0.034506</td>\n",
       "      <td>0.034506</td>\n",
       "      <td>0.034506</td>\n",
       "      <td>0.034506</td>\n",
       "      <td>0.034506</td>\n",
       "      <td>0.034506</td>\n",
       "      <td>125.0</td>\n",
       "    </tr>\n",
       "    <tr>\n",
       "      <th>3</th>\n",
       "      <td>1979</td>\n",
       "      <td>1</td>\n",
       "      <td>CHI</td>\n",
       "      <td>GB</td>\n",
       "      <td>True</td>\n",
       "      <td>-3.0</td>\n",
       "      <td>6.0</td>\n",
       "      <td>3.0</td>\n",
       "      <td>True</td>\n",
       "      <td>0.034506</td>\n",
       "      <td>0.034506</td>\n",
       "      <td>0.034506</td>\n",
       "      <td>0.034506</td>\n",
       "      <td>0.034506</td>\n",
       "      <td>0.034506</td>\n",
       "      <td>0.034506</td>\n",
       "      <td>0.034506</td>\n",
       "      <td>-27.0</td>\n",
       "    </tr>\n",
       "    <tr>\n",
       "      <th>4</th>\n",
       "      <td>1979</td>\n",
       "      <td>1</td>\n",
       "      <td>CIN</td>\n",
       "      <td>DEN</td>\n",
       "      <td>False</td>\n",
       "      <td>3.0</td>\n",
       "      <td>0.0</td>\n",
       "      <td>10.0</td>\n",
       "      <td>False</td>\n",
       "      <td>0.034506</td>\n",
       "      <td>0.034506</td>\n",
       "      <td>0.034506</td>\n",
       "      <td>0.034506</td>\n",
       "      <td>0.034506</td>\n",
       "      <td>0.034506</td>\n",
       "      <td>0.034506</td>\n",
       "      <td>0.034506</td>\n",
       "      <td>27.0</td>\n",
       "    </tr>\n",
       "  </tbody>\n",
       "</table>\n",
       "</div>"
      ],
      "text/plain": [
       "   schedule_season  schedule_week team opponent   home  spread  pts_for  \\\n",
       "0             1979              1  ARI      DAL   True     4.0     21.0   \n",
       "1             1979              1  ATL       NO  False     5.0     40.0   \n",
       "2             1979              1  BUF      MIA   True     5.0      7.0   \n",
       "3             1979              1  CHI       GB   True    -3.0      6.0   \n",
       "4             1979              1  CIN      DEN  False     3.0      0.0   \n",
       "\n",
       "   pts_against    won  pts_for_adj_roll_4  pts_against_adj_roll_4  \\\n",
       "0         22.0  False            0.034506                0.034506   \n",
       "1         34.0   True            0.034506                0.034506   \n",
       "2          9.0  False            0.034506                0.034506   \n",
       "3          3.0   True            0.034506                0.034506   \n",
       "4         10.0  False            0.034506                0.034506   \n",
       "\n",
       "   pts_for_adj_roll_14  pts_against_adj_roll_14  opp_pts_for_adj_roll_4  \\\n",
       "0             0.034506                 0.034506                0.034506   \n",
       "1             0.034506                 0.034506                0.034506   \n",
       "2             0.034506                 0.034506                0.034506   \n",
       "3             0.034506                 0.034506                0.034506   \n",
       "4             0.034506                 0.034506                0.034506   \n",
       "\n",
       "   opp_pts_against_adj_roll_4  opp_pts_for_adj_roll_14  \\\n",
       "0                    0.034506                 0.034506   \n",
       "1                    0.034506                 0.034506   \n",
       "2                    0.034506                 0.034506   \n",
       "3                    0.034506                 0.034506   \n",
       "4                    0.034506                 0.034506   \n",
       "\n",
       "   opp_pts_against_adj_roll_14  spread3  \n",
       "0                     0.034506     64.0  \n",
       "1                     0.034506    125.0  \n",
       "2                     0.034506    125.0  \n",
       "3                     0.034506    -27.0  \n",
       "4                     0.034506     27.0  "
      ]
     },
     "execution_count": 10,
     "metadata": {},
     "output_type": "execute_result"
    }
   ],
   "source": [
    "data.head()"
   ]
  },
  {
   "cell_type": "code",
   "execution_count": 11,
   "metadata": {},
   "outputs": [
    {
     "name": "stdout",
     "output_type": "stream",
     "text": [
      "    percent_correct =  65.7914822164555\n",
      "    log_loss =  0.6227814536319197\n"
     ]
    }
   ],
   "source": [
    "pf.rand_for(X = data[new_features+['spread']], y = data.won)"
   ]
  },
  {
   "cell_type": "markdown",
   "metadata": {},
   "source": [
    "#### Spread cubed is an improvement\n",
    "\n",
    "Try some subtraction then cubed features that could be good in theory.  "
   ]
  },
  {
   "cell_type": "code",
   "execution_count": 13,
   "metadata": {},
   "outputs": [],
   "source": [
    "data, new_feature = fe.params_subtract(data, param0 = 'pts_for_adj_roll_4', param1 = 'opp_pts_against_adj_roll_4')\n",
    "new_features.append(new_feature)\n",
    "data, new_feature = fe.param_cube(data, param = new_feature)\n",
    "new_features.append(new_feature)\n",
    "data, new_feature = fe.params_subtract(data, param0 = 'pts_against_adj_roll_4', param1 = 'opp_pts_for_adj_roll_4')\n",
    "new_features.append(new_feature)\n",
    "data, new_feature = fe.param_cube(data, param = new_feature)\n",
    "new_features.append(new_feature)"
   ]
  },
  {
   "cell_type": "code",
   "execution_count": 14,
   "metadata": {},
   "outputs": [
    {
     "name": "stdout",
     "output_type": "stream",
     "text": [
      "    percent_correct =  65.40986108990994\n",
      "    log_loss =  0.6229624860279247\n"
     ]
    }
   ],
   "source": [
    "pf.rand_for(X = data[new_features+['spread']], y = data.won)"
   ]
  },
  {
   "cell_type": "markdown",
   "metadata": {},
   "source": [
    "Not much happening.  What next?  Add the win/loss record to the mix.  Rolls 4 and 14 again"
   ]
  },
  {
   "cell_type": "code",
   "execution_count": 15,
   "metadata": {},
   "outputs": [],
   "source": [
    "data, more_new_features = fe.win_loss(data, lookbacks = [4,14])\n",
    "new_features += more_new_features"
   ]
  },
  {
   "cell_type": "code",
   "execution_count": 16,
   "metadata": {},
   "outputs": [
    {
     "name": "stdout",
     "output_type": "stream",
     "text": [
      "    percent_correct =  66.68679245283019\n",
      "    log_loss =  0.613425558194899\n"
     ]
    }
   ],
   "source": [
    "pf.rand_for(X = data[new_features+['spread']], y = data.won)"
   ]
  },
  {
   "cell_type": "markdown",
   "metadata": {},
   "source": [
    "Helps a little.  Try 10^spread?  "
   ]
  },
  {
   "cell_type": "code",
   "execution_count": 17,
   "metadata": {},
   "outputs": [
    {
     "name": "stdout",
     "output_type": "stream",
     "text": [
      "    percent_correct =  66.70188679245283\n",
      "    log_loss =  0.6129176842213229\n"
     ]
    }
   ],
   "source": [
    "data, new_feature = fe.param_exp(data, param = 'spread')\n",
    "new_features.append(new_feature)\n",
    "pf.rand_for(X = data[new_features+['spread']], y = data.won)"
   ]
  },
  {
   "cell_type": "code",
   "execution_count": 18,
   "metadata": {},
   "outputs": [
    {
     "name": "stdout",
     "output_type": "stream",
     "text": [
      "percent_correct =  65.87169811320754\n",
      "log_loss =  0.6171984151410731\n"
     ]
    },
    {
     "name": "stderr",
     "output_type": "stream",
     "text": [
      "C:\\Users\\greg\\AppData\\Local\\Continuum\\anaconda3\\lib\\site-packages\\sklearn\\linear_model\\logistic.py:433: FutureWarning: Default solver will be changed to 'lbfgs' in 0.22. Specify a solver to silence this warning.\n",
      "  FutureWarning)\n"
     ]
    }
   ],
   "source": [
    "pf.log_reg(X = data[new_features+['spread']], y = data.won)"
   ]
  },
  {
   "cell_type": "code",
   "execution_count": null,
   "metadata": {},
   "outputs": [],
   "source": []
  }
 ],
 "metadata": {
  "file_extension": ".py",
  "kernelspec": {
   "display_name": "Python 3",
   "language": "python",
   "name": "python3"
  },
  "language_info": {
   "codemirror_mode": {
    "name": "ipython",
    "version": 3
   },
   "file_extension": ".py",
   "mimetype": "text/x-python",
   "name": "python",
   "nbconvert_exporter": "python",
   "pygments_lexer": "ipython3",
   "version": "3.7.1"
  },
  "mimetype": "text/x-python",
  "name": "python",
  "npconvert_exporter": "python",
  "pygments_lexer": "ipython3",
  "version": 3
 },
 "nbformat": 4,
 "nbformat_minor": 2
}
