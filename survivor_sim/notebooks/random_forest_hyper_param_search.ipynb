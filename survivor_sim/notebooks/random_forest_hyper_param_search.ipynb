{
 "cells": [
  {
   "cell_type": "markdown",
   "metadata": {},
   "source": [
    "# Notebook to document that the hyperparameter tuned random forest does not improve to the point of a linear regression\n",
    "\n",
    "\n",
    "\n",
    "# Feature engineering on the NFL spread_scores dataset\n",
    "The general plan is to add a bunch of features, make a shallow learning predictive pipeline, and test the effectiveness of the features.  The goal is to improve the percent chance of winning prediction component of the simulation.    \n",
    "\n",
    "Plan of basic features to add:  \n",
    "* win/loss percent\n",
    "* streak\n",
    "* points for/ points against\n",
    "* home/ away\n",
    "* team name (one-hot-encode)\n",
    "\n",
    "These features can be calculated with various parameter settings:\n",
    "* number of games to look back\n",
    "* whether to look back to the previous season\n",
    "* whether to weight the data based on the opponent at the time\n",
    "* operations on parameters, e.g., squared, log normalized, parameters multiplied or added together  \n",
    "\n",
    "There are a lot of potential combinations.  All features will end up being doubled (added for the opponent as well).\n",
    "\n",
    "There are two ways to approach this: either build all the features in a large CSV file, and then test the algorithms, or build them one or a few at a time and test as we go.  The second sounds more fun, so I'll go with that.  \n",
    "\n"
   ]
  },
  {
   "cell_type": "code",
   "execution_count": 17,
   "metadata": {},
   "outputs": [],
   "source": [
    "import pandas as pd\n",
    "from sklearn.linear_model import LogisticRegression\n",
    "from sklearn.model_selection import train_test_split\n",
    "import numpy as np\n",
    "from sklearn.metrics import log_loss\n",
    "from sklearn.preprocessing import StandardScaler\n",
    "from sklearn.ensemble import RandomForestClassifier\n",
    "from sklearn.ensemble import ExtraTreesClassifier\n",
    "from sklearn.model_selection import RandomizedSearchCV\n",
    "from sklearn.tree import DecisionTreeClassifier"
   ]
  },
  {
   "cell_type": "markdown",
   "metadata": {},
   "source": [
    "## Load the data and do some wrangling"
   ]
  },
  {
   "cell_type": "code",
   "execution_count": 2,
   "metadata": {},
   "outputs": [],
   "source": [
    "path = r'..\\processed_data'\n",
    "data = pd.read_csv(path + '\\\\spreadspoke_scores_processed.csv')"
   ]
  },
  {
   "cell_type": "code",
   "execution_count": 3,
   "metadata": {},
   "outputs": [
    {
     "data": {
      "text/plain": [
       "Index(['Unnamed: 0', 'schedule_date', 'schedule_season', 'schedule_week',\n",
       "       'schedule_playoff', 'team_home', 'score_home', 'score_away',\n",
       "       'team_away', 'team_favorite_id', 'spread_favorite', 'over_under_line',\n",
       "       'stadium', 'stadium_neutral', 'weather_temperature', 'weather_wind_mph',\n",
       "       'weather_humidity', 'weather_detail', 'team_home_id', 'team_away_id',\n",
       "       'winner', 'favorite_won', 'team_underdog_id'],\n",
       "      dtype='object')"
      ]
     },
     "execution_count": 3,
     "metadata": {},
     "output_type": "execute_result"
    }
   ],
   "source": [
    "data.columns"
   ]
  },
  {
   "cell_type": "code",
   "execution_count": 4,
   "metadata": {},
   "outputs": [],
   "source": [
    "# base the \"left hand\" team based on the home team; make the spread negative = favorite   \n",
    "data.loc[(data.team_home_id == data.team_favorite_id),'spread_home'] = data['spread_favorite']\n",
    "data.loc[(data.team_home_id != data.team_favorite_id),'spread_home'] = -data['spread_favorite']"
   ]
  },
  {
   "cell_type": "code",
   "execution_count": 5,
   "metadata": {},
   "outputs": [],
   "source": [
    "data['home_won'] = (data.winner == data.team_home_id)"
   ]
  },
  {
   "cell_type": "code",
   "execution_count": 6,
   "metadata": {},
   "outputs": [
    {
     "data": {
      "text/html": [
       "<div>\n",
       "<style scoped>\n",
       "    .dataframe tbody tr th:only-of-type {\n",
       "        vertical-align: middle;\n",
       "    }\n",
       "\n",
       "    .dataframe tbody tr th {\n",
       "        vertical-align: top;\n",
       "    }\n",
       "\n",
       "    .dataframe thead th {\n",
       "        text-align: right;\n",
       "    }\n",
       "</style>\n",
       "<table border=\"1\" class=\"dataframe\">\n",
       "  <thead>\n",
       "    <tr style=\"text-align: right;\">\n",
       "      <th></th>\n",
       "      <th>Unnamed: 0</th>\n",
       "      <th>schedule_date</th>\n",
       "      <th>schedule_season</th>\n",
       "      <th>schedule_week</th>\n",
       "      <th>schedule_playoff</th>\n",
       "      <th>team_home</th>\n",
       "      <th>score_home</th>\n",
       "      <th>score_away</th>\n",
       "      <th>team_away</th>\n",
       "      <th>team_favorite_id</th>\n",
       "      <th>...</th>\n",
       "      <th>weather_wind_mph</th>\n",
       "      <th>weather_humidity</th>\n",
       "      <th>weather_detail</th>\n",
       "      <th>team_home_id</th>\n",
       "      <th>team_away_id</th>\n",
       "      <th>winner</th>\n",
       "      <th>favorite_won</th>\n",
       "      <th>team_underdog_id</th>\n",
       "      <th>spread_home</th>\n",
       "      <th>home_won</th>\n",
       "    </tr>\n",
       "  </thead>\n",
       "  <tbody>\n",
       "    <tr>\n",
       "      <th>0</th>\n",
       "      <td>0</td>\n",
       "      <td>09/01/1979</td>\n",
       "      <td>1979</td>\n",
       "      <td>1</td>\n",
       "      <td>False</td>\n",
       "      <td>Tampa Bay Buccaneers</td>\n",
       "      <td>31.0</td>\n",
       "      <td>16.0</td>\n",
       "      <td>Detroit Lions</td>\n",
       "      <td>TB</td>\n",
       "      <td>...</td>\n",
       "      <td>9.0</td>\n",
       "      <td>87.0</td>\n",
       "      <td>NaN</td>\n",
       "      <td>TB</td>\n",
       "      <td>DET</td>\n",
       "      <td>TB</td>\n",
       "      <td>True</td>\n",
       "      <td>DET</td>\n",
       "      <td>-3.0</td>\n",
       "      <td>True</td>\n",
       "    </tr>\n",
       "    <tr>\n",
       "      <th>1</th>\n",
       "      <td>1</td>\n",
       "      <td>11/23/1980</td>\n",
       "      <td>1980</td>\n",
       "      <td>12</td>\n",
       "      <td>False</td>\n",
       "      <td>Tampa Bay Buccaneers</td>\n",
       "      <td>10.0</td>\n",
       "      <td>24.0</td>\n",
       "      <td>Detroit Lions</td>\n",
       "      <td>TB</td>\n",
       "      <td>...</td>\n",
       "      <td>9.0</td>\n",
       "      <td>77.0</td>\n",
       "      <td>NaN</td>\n",
       "      <td>TB</td>\n",
       "      <td>DET</td>\n",
       "      <td>DET</td>\n",
       "      <td>False</td>\n",
       "      <td>DET</td>\n",
       "      <td>-3.0</td>\n",
       "      <td>False</td>\n",
       "    </tr>\n",
       "    <tr>\n",
       "      <th>2</th>\n",
       "      <td>2</td>\n",
       "      <td>10/04/1981</td>\n",
       "      <td>1981</td>\n",
       "      <td>5</td>\n",
       "      <td>False</td>\n",
       "      <td>Tampa Bay Buccaneers</td>\n",
       "      <td>28.0</td>\n",
       "      <td>10.0</td>\n",
       "      <td>Detroit Lions</td>\n",
       "      <td>TB</td>\n",
       "      <td>...</td>\n",
       "      <td>9.0</td>\n",
       "      <td>76.0</td>\n",
       "      <td>NaN</td>\n",
       "      <td>TB</td>\n",
       "      <td>DET</td>\n",
       "      <td>TB</td>\n",
       "      <td>True</td>\n",
       "      <td>DET</td>\n",
       "      <td>-1.0</td>\n",
       "      <td>True</td>\n",
       "    </tr>\n",
       "    <tr>\n",
       "      <th>3</th>\n",
       "      <td>3</td>\n",
       "      <td>12/26/1982</td>\n",
       "      <td>1982</td>\n",
       "      <td>8</td>\n",
       "      <td>False</td>\n",
       "      <td>Tampa Bay Buccaneers</td>\n",
       "      <td>23.0</td>\n",
       "      <td>21.0</td>\n",
       "      <td>Detroit Lions</td>\n",
       "      <td>TB</td>\n",
       "      <td>...</td>\n",
       "      <td>11.0</td>\n",
       "      <td>72.0</td>\n",
       "      <td>NaN</td>\n",
       "      <td>TB</td>\n",
       "      <td>DET</td>\n",
       "      <td>TB</td>\n",
       "      <td>True</td>\n",
       "      <td>DET</td>\n",
       "      <td>-3.5</td>\n",
       "      <td>True</td>\n",
       "    </tr>\n",
       "    <tr>\n",
       "      <th>4</th>\n",
       "      <td>4</td>\n",
       "      <td>09/04/1983</td>\n",
       "      <td>1983</td>\n",
       "      <td>1</td>\n",
       "      <td>False</td>\n",
       "      <td>Tampa Bay Buccaneers</td>\n",
       "      <td>0.0</td>\n",
       "      <td>11.0</td>\n",
       "      <td>Detroit Lions</td>\n",
       "      <td>TB</td>\n",
       "      <td>...</td>\n",
       "      <td>7.0</td>\n",
       "      <td>83.0</td>\n",
       "      <td>NaN</td>\n",
       "      <td>TB</td>\n",
       "      <td>DET</td>\n",
       "      <td>DET</td>\n",
       "      <td>False</td>\n",
       "      <td>DET</td>\n",
       "      <td>-3.0</td>\n",
       "      <td>False</td>\n",
       "    </tr>\n",
       "  </tbody>\n",
       "</table>\n",
       "<p>5 rows × 25 columns</p>\n",
       "</div>"
      ],
      "text/plain": [
       "   Unnamed: 0 schedule_date  schedule_season  schedule_week  schedule_playoff  \\\n",
       "0           0    09/01/1979             1979              1             False   \n",
       "1           1    11/23/1980             1980             12             False   \n",
       "2           2    10/04/1981             1981              5             False   \n",
       "3           3    12/26/1982             1982              8             False   \n",
       "4           4    09/04/1983             1983              1             False   \n",
       "\n",
       "              team_home  score_home  score_away      team_away  \\\n",
       "0  Tampa Bay Buccaneers        31.0        16.0  Detroit Lions   \n",
       "1  Tampa Bay Buccaneers        10.0        24.0  Detroit Lions   \n",
       "2  Tampa Bay Buccaneers        28.0        10.0  Detroit Lions   \n",
       "3  Tampa Bay Buccaneers        23.0        21.0  Detroit Lions   \n",
       "4  Tampa Bay Buccaneers         0.0        11.0  Detroit Lions   \n",
       "\n",
       "  team_favorite_id   ...     weather_wind_mph weather_humidity weather_detail  \\\n",
       "0               TB   ...                  9.0             87.0            NaN   \n",
       "1               TB   ...                  9.0             77.0            NaN   \n",
       "2               TB   ...                  9.0             76.0            NaN   \n",
       "3               TB   ...                 11.0             72.0            NaN   \n",
       "4               TB   ...                  7.0             83.0            NaN   \n",
       "\n",
       "   team_home_id  team_away_id  winner  favorite_won team_underdog_id  \\\n",
       "0            TB           DET      TB          True              DET   \n",
       "1            TB           DET     DET         False              DET   \n",
       "2            TB           DET      TB          True              DET   \n",
       "3            TB           DET      TB          True              DET   \n",
       "4            TB           DET     DET         False              DET   \n",
       "\n",
       "  spread_home home_won  \n",
       "0        -3.0     True  \n",
       "1        -3.0    False  \n",
       "2        -1.0     True  \n",
       "3        -3.5     True  \n",
       "4        -3.0    False  \n",
       "\n",
       "[5 rows x 25 columns]"
      ]
     },
     "execution_count": 6,
     "metadata": {},
     "output_type": "execute_result"
    }
   ],
   "source": [
    "# replace the playoffs with numbers\n",
    "playoff_list = data.schedule_week.drop_duplicates().sort_values()[-6::].tolist()\n",
    "number_playoffs = {'Conference':21, 'Division':20, 'SuperBowl':22, 'Superbowl':22, 'WildCard':19, 'Wildcard':19}\n",
    "data.loc[data.schedule_week.isin(playoff_list), 'schedule_week'] = data.loc[data.schedule_week.isin(playoff_list), 'schedule_week'].map(number_playoffs)\n",
    "data.schedule_week = pd.to_numeric(data.schedule_week)\n",
    "data.score_home = pd.to_numeric(data.score_home)\n",
    "data.score_away = pd.to_numeric(data.score_away)\n",
    "data.head()"
   ]
  },
  {
   "cell_type": "markdown",
   "metadata": {},
   "source": [
    "## First Benchmark = logistic regression on point spreads"
   ]
  },
  {
   "cell_type": "code",
   "execution_count": 7,
   "metadata": {},
   "outputs": [],
   "source": [
    "X = data.spread_home\n",
    "X = X.values.reshape(-1, 1) \n",
    "y = data.home_won\n",
    "X_train, X_test, y_train, y_test = train_test_split(\n",
    "    X, y, test_size=0.33, random_state=42)"
   ]
  },
  {
   "cell_type": "code",
   "execution_count": 8,
   "metadata": {},
   "outputs": [],
   "source": [
    "model = LogisticRegression().fit(X_train, y_train)"
   ]
  },
  {
   "cell_type": "code",
   "execution_count": 9,
   "metadata": {},
   "outputs": [
    {
     "data": {
      "text/plain": [
       "0.6597370834607154"
      ]
     },
     "execution_count": 9,
     "metadata": {},
     "output_type": "execute_result"
    }
   ],
   "source": [
    "percent_correct = sum(model.predict(X_test)==y_test)/len(y_test)\n",
    "percent_correct"
   ]
  },
  {
   "cell_type": "code",
   "execution_count": 10,
   "metadata": {},
   "outputs": [
    {
     "data": {
      "text/plain": [
       "0.6148705115814553"
      ]
     },
     "execution_count": 10,
     "metadata": {},
     "output_type": "execute_result"
    }
   ],
   "source": [
    "log_loss(y_pred=model.predict_proba(X_test), y_true=y_test)"
   ]
  },
  {
   "cell_type": "markdown",
   "metadata": {},
   "source": [
    "## Second Benchmark = decision tree on point spreads"
   ]
  },
  {
   "cell_type": "code",
   "execution_count": 11,
   "metadata": {},
   "outputs": [],
   "source": [
    "model = DecisionTreeClassifier().fit(X_train, y_train)"
   ]
  },
  {
   "cell_type": "code",
   "execution_count": 12,
   "metadata": {},
   "outputs": [
    {
     "data": {
      "text/plain": [
       "0.6502598593702231"
      ]
     },
     "execution_count": 12,
     "metadata": {},
     "output_type": "execute_result"
    }
   ],
   "source": [
    "percent_correct = sum(model.predict(X_test)==y_test)/len(y_test)\n",
    "percent_correct"
   ]
  },
  {
   "cell_type": "code",
   "execution_count": 13,
   "metadata": {},
   "outputs": [
    {
     "data": {
      "text/plain": [
       "0.6588701109321393"
      ]
     },
     "execution_count": 13,
     "metadata": {},
     "output_type": "execute_result"
    }
   ],
   "source": [
    "log_loss(y_pred=model.predict_proba(X_test), y_true=y_test)"
   ]
  },
  {
   "cell_type": "markdown",
   "metadata": {},
   "source": [
    "## Third Benchmark = random forest on point spreads"
   ]
  },
  {
   "cell_type": "code",
   "execution_count": 14,
   "metadata": {},
   "outputs": [],
   "source": [
    "model = RandomForestClassifier().fit(X_train, y_train)"
   ]
  },
  {
   "cell_type": "code",
   "execution_count": 15,
   "metadata": {},
   "outputs": [
    {
     "data": {
      "text/plain": [
       "0.6514827269948028"
      ]
     },
     "execution_count": 15,
     "metadata": {},
     "output_type": "execute_result"
    }
   ],
   "source": [
    "percent_correct = sum(model.predict(X_test)==y_test)/len(y_test)\n",
    "percent_correct"
   ]
  },
  {
   "cell_type": "code",
   "execution_count": 16,
   "metadata": {},
   "outputs": [
    {
     "data": {
      "text/plain": [
       "0.6592703381789566"
      ]
     },
     "execution_count": 16,
     "metadata": {},
     "output_type": "execute_result"
    }
   ],
   "source": [
    "log_loss(y_pred=model.predict_proba(X_test), y_true=y_test)"
   ]
  },
  {
   "cell_type": "markdown",
   "metadata": {},
   "source": [
    "## Fourth Benchmark = extra trees on point spreads"
   ]
  },
  {
   "cell_type": "code",
   "execution_count": 19,
   "metadata": {},
   "outputs": [],
   "source": [
    "model = ExtraTreesClassifier().fit(X_train, y_train)"
   ]
  },
  {
   "cell_type": "code",
   "execution_count": 20,
   "metadata": {},
   "outputs": [
    {
     "data": {
      "text/plain": [
       "0.6502598593702231"
      ]
     },
     "execution_count": 20,
     "metadata": {},
     "output_type": "execute_result"
    }
   ],
   "source": [
    "percent_correct = sum(model.predict(X_test)==y_test)/len(y_test)\n",
    "percent_correct"
   ]
  },
  {
   "cell_type": "code",
   "execution_count": 21,
   "metadata": {},
   "outputs": [
    {
     "data": {
      "text/plain": [
       "0.6588701109321392"
      ]
     },
     "execution_count": 21,
     "metadata": {},
     "output_type": "execute_result"
    }
   ],
   "source": [
    "log_loss(y_pred=model.predict_proba(X_test), y_true=y_test)"
   ]
  },
  {
   "cell_type": "markdown",
   "metadata": {},
   "source": [
    "## Make the first feature\n",
    "Points for - points against in the last n games"
   ]
  },
  {
   "cell_type": "markdown",
   "metadata": {},
   "source": [
    "### Some more wrangling"
   ]
  },
  {
   "cell_type": "code",
   "execution_count": 72,
   "metadata": {},
   "outputs": [
    {
     "data": {
      "text/html": [
       "<div>\n",
       "<style scoped>\n",
       "    .dataframe tbody tr th:only-of-type {\n",
       "        vertical-align: middle;\n",
       "    }\n",
       "\n",
       "    .dataframe tbody tr th {\n",
       "        vertical-align: top;\n",
       "    }\n",
       "\n",
       "    .dataframe thead th {\n",
       "        text-align: right;\n",
       "    }\n",
       "</style>\n",
       "<table border=\"1\" class=\"dataframe\">\n",
       "  <thead>\n",
       "    <tr style=\"text-align: right;\">\n",
       "      <th></th>\n",
       "      <th>schedule_season</th>\n",
       "      <th>schedule_week</th>\n",
       "      <th>team</th>\n",
       "      <th>opponent</th>\n",
       "      <th>spread</th>\n",
       "      <th>pts_for</th>\n",
       "      <th>pts_against</th>\n",
       "      <th>won</th>\n",
       "      <th>home</th>\n",
       "    </tr>\n",
       "  </thead>\n",
       "  <tbody>\n",
       "    <tr>\n",
       "      <th>9901</th>\n",
       "      <td>2018</td>\n",
       "      <td>20</td>\n",
       "      <td>NE</td>\n",
       "      <td>LAC</td>\n",
       "      <td>-3.5</td>\n",
       "      <td>41.0</td>\n",
       "      <td>28.0</td>\n",
       "      <td>True</td>\n",
       "      <td>True</td>\n",
       "    </tr>\n",
       "    <tr>\n",
       "      <th>2514</th>\n",
       "      <td>2018</td>\n",
       "      <td>20</td>\n",
       "      <td>NO</td>\n",
       "      <td>PHI</td>\n",
       "      <td>-8.5</td>\n",
       "      <td>20.0</td>\n",
       "      <td>14.0</td>\n",
       "      <td>True</td>\n",
       "      <td>True</td>\n",
       "    </tr>\n",
       "    <tr>\n",
       "      <th>6312</th>\n",
       "      <td>2018</td>\n",
       "      <td>21</td>\n",
       "      <td>KC</td>\n",
       "      <td>NE</td>\n",
       "      <td>-3.0</td>\n",
       "      <td>31.0</td>\n",
       "      <td>37.0</td>\n",
       "      <td>False</td>\n",
       "      <td>True</td>\n",
       "    </tr>\n",
       "    <tr>\n",
       "      <th>370</th>\n",
       "      <td>2018</td>\n",
       "      <td>21</td>\n",
       "      <td>NO</td>\n",
       "      <td>LAR</td>\n",
       "      <td>-3.0</td>\n",
       "      <td>23.0</td>\n",
       "      <td>26.0</td>\n",
       "      <td>False</td>\n",
       "      <td>True</td>\n",
       "    </tr>\n",
       "    <tr>\n",
       "      <th>6316</th>\n",
       "      <td>2018</td>\n",
       "      <td>22</td>\n",
       "      <td>LAR</td>\n",
       "      <td>NE</td>\n",
       "      <td>2.0</td>\n",
       "      <td>3.0</td>\n",
       "      <td>13.0</td>\n",
       "      <td>False</td>\n",
       "      <td>True</td>\n",
       "    </tr>\n",
       "  </tbody>\n",
       "</table>\n",
       "</div>"
      ],
      "text/plain": [
       "      schedule_season  schedule_week team opponent  spread  pts_for  \\\n",
       "9901             2018             20   NE      LAC    -3.5     41.0   \n",
       "2514             2018             20   NO      PHI    -8.5     20.0   \n",
       "6312             2018             21   KC       NE    -3.0     31.0   \n",
       "370              2018             21   NO      LAR    -3.0     23.0   \n",
       "6316             2018             22  LAR       NE     2.0      3.0   \n",
       "\n",
       "      pts_against    won  home  \n",
       "9901         28.0   True  True  \n",
       "2514         14.0   True  True  \n",
       "6312         37.0  False  True  \n",
       "370          26.0  False  True  \n",
       "6316         13.0  False  True  "
      ]
     },
     "execution_count": 72,
     "metadata": {},
     "output_type": "execute_result"
    }
   ],
   "source": [
    "# reorganize the DF so each team is listed once (each game is listed twice)\n",
    "games = data[['schedule_season', 'schedule_week', 'team_home_id', 'team_away_id', 'spread_home', \n",
    "              'score_home', 'score_away','home_won']].sort_values(by = ['schedule_season', 'schedule_week', 'team_home_id'])\n",
    "games['home'] = True\n",
    "games.rename(columns = {'team_home_id':'team', 'team_away_id': 'opponent', 'spread_home':'spread',\n",
    "                        'score_home':'pts_for', 'score_away': 'pts_against', 'home_won' : 'won'}, inplace = True)\n",
    "games.tail()"
   ]
  },
  {
   "cell_type": "code",
   "execution_count": 73,
   "metadata": {},
   "outputs": [
    {
     "data": {
      "text/html": [
       "<div>\n",
       "<style scoped>\n",
       "    .dataframe tbody tr th:only-of-type {\n",
       "        vertical-align: middle;\n",
       "    }\n",
       "\n",
       "    .dataframe tbody tr th {\n",
       "        vertical-align: top;\n",
       "    }\n",
       "\n",
       "    .dataframe thead th {\n",
       "        text-align: right;\n",
       "    }\n",
       "</style>\n",
       "<table border=\"1\" class=\"dataframe\">\n",
       "  <thead>\n",
       "    <tr style=\"text-align: right;\">\n",
       "      <th></th>\n",
       "      <th>schedule_season</th>\n",
       "      <th>schedule_week</th>\n",
       "      <th>opponent</th>\n",
       "      <th>team</th>\n",
       "      <th>spread</th>\n",
       "      <th>pts_against</th>\n",
       "      <th>pts_for</th>\n",
       "      <th>won</th>\n",
       "      <th>home</th>\n",
       "    </tr>\n",
       "  </thead>\n",
       "  <tbody>\n",
       "    <tr>\n",
       "      <th>9901</th>\n",
       "      <td>2018</td>\n",
       "      <td>20</td>\n",
       "      <td>NE</td>\n",
       "      <td>LAC</td>\n",
       "      <td>3.5</td>\n",
       "      <td>41.0</td>\n",
       "      <td>28.0</td>\n",
       "      <td>False</td>\n",
       "      <td>False</td>\n",
       "    </tr>\n",
       "    <tr>\n",
       "      <th>2514</th>\n",
       "      <td>2018</td>\n",
       "      <td>20</td>\n",
       "      <td>NO</td>\n",
       "      <td>PHI</td>\n",
       "      <td>8.5</td>\n",
       "      <td>20.0</td>\n",
       "      <td>14.0</td>\n",
       "      <td>False</td>\n",
       "      <td>False</td>\n",
       "    </tr>\n",
       "    <tr>\n",
       "      <th>6312</th>\n",
       "      <td>2018</td>\n",
       "      <td>21</td>\n",
       "      <td>KC</td>\n",
       "      <td>NE</td>\n",
       "      <td>3.0</td>\n",
       "      <td>31.0</td>\n",
       "      <td>37.0</td>\n",
       "      <td>True</td>\n",
       "      <td>False</td>\n",
       "    </tr>\n",
       "    <tr>\n",
       "      <th>370</th>\n",
       "      <td>2018</td>\n",
       "      <td>21</td>\n",
       "      <td>NO</td>\n",
       "      <td>LAR</td>\n",
       "      <td>3.0</td>\n",
       "      <td>23.0</td>\n",
       "      <td>26.0</td>\n",
       "      <td>True</td>\n",
       "      <td>False</td>\n",
       "    </tr>\n",
       "    <tr>\n",
       "      <th>6316</th>\n",
       "      <td>2018</td>\n",
       "      <td>22</td>\n",
       "      <td>LAR</td>\n",
       "      <td>NE</td>\n",
       "      <td>-2.0</td>\n",
       "      <td>3.0</td>\n",
       "      <td>13.0</td>\n",
       "      <td>True</td>\n",
       "      <td>False</td>\n",
       "    </tr>\n",
       "  </tbody>\n",
       "</table>\n",
       "</div>"
      ],
      "text/plain": [
       "      schedule_season  schedule_week opponent team  spread  pts_against  \\\n",
       "9901             2018             20       NE  LAC     3.5         41.0   \n",
       "2514             2018             20       NO  PHI     8.5         20.0   \n",
       "6312             2018             21       KC   NE     3.0         31.0   \n",
       "370              2018             21       NO  LAR     3.0         23.0   \n",
       "6316             2018             22      LAR   NE    -2.0          3.0   \n",
       "\n",
       "      pts_for    won   home  \n",
       "9901     28.0  False  False  \n",
       "2514     14.0  False  False  \n",
       "6312     37.0   True  False  \n",
       "370      26.0   True  False  \n",
       "6316     13.0   True  False  "
      ]
     },
     "execution_count": 73,
     "metadata": {},
     "output_type": "execute_result"
    }
   ],
   "source": [
    "copy = games.copy()\n",
    "copy.rename(columns = {'team':'opponent', 'opponent':'team', 'pts_for': 'pts_against', 'pts_against':'pts_for'}, inplace = True)\n",
    "copy.home = False\n",
    "copy.spread = -copy.spread\n",
    "copy.won = -copy.won\n",
    "copy.tail()"
   ]
  },
  {
   "cell_type": "code",
   "execution_count": 74,
   "metadata": {},
   "outputs": [
    {
     "name": "stderr",
     "output_type": "stream",
     "text": [
      "C:\\Users\\greg\\AppData\\Local\\Continuum\\anaconda3\\lib\\site-packages\\ipykernel_launcher.py:1: FutureWarning: Sorting because non-concatenation axis is not aligned. A future version\n",
      "of pandas will change to not sort by default.\n",
      "\n",
      "To accept the future behavior, pass 'sort=False'.\n",
      "\n",
      "To retain the current behavior and silence the warning, pass 'sort=True'.\n",
      "\n",
      "  \"\"\"Entry point for launching an IPython kernel.\n"
     ]
    }
   ],
   "source": [
    "games = pd.concat([games, copy]).sort_values(by = ['schedule_season', 'schedule_week', 'team'])"
   ]
  },
  {
   "cell_type": "code",
   "execution_count": 75,
   "metadata": {},
   "outputs": [],
   "source": [
    "games = games[[ 'schedule_season', 'schedule_week','team','opponent', 'home', 'spread','pts_for', 'pts_against', 'won']]"
   ]
  },
  {
   "cell_type": "code",
   "execution_count": 76,
   "metadata": {},
   "outputs": [
    {
     "data": {
      "text/html": [
       "<div>\n",
       "<style scoped>\n",
       "    .dataframe tbody tr th:only-of-type {\n",
       "        vertical-align: middle;\n",
       "    }\n",
       "\n",
       "    .dataframe tbody tr th {\n",
       "        vertical-align: top;\n",
       "    }\n",
       "\n",
       "    .dataframe thead th {\n",
       "        text-align: right;\n",
       "    }\n",
       "</style>\n",
       "<table border=\"1\" class=\"dataframe\">\n",
       "  <thead>\n",
       "    <tr style=\"text-align: right;\">\n",
       "      <th></th>\n",
       "      <th>schedule_season</th>\n",
       "      <th>schedule_week</th>\n",
       "      <th>team</th>\n",
       "      <th>opponent</th>\n",
       "      <th>home</th>\n",
       "      <th>spread</th>\n",
       "      <th>pts_for</th>\n",
       "      <th>pts_against</th>\n",
       "      <th>won</th>\n",
       "    </tr>\n",
       "  </thead>\n",
       "  <tbody>\n",
       "    <tr>\n",
       "      <th>370</th>\n",
       "      <td>2018</td>\n",
       "      <td>21</td>\n",
       "      <td>LAR</td>\n",
       "      <td>NO</td>\n",
       "      <td>False</td>\n",
       "      <td>3.0</td>\n",
       "      <td>26.0</td>\n",
       "      <td>23.0</td>\n",
       "      <td>True</td>\n",
       "    </tr>\n",
       "    <tr>\n",
       "      <th>6312</th>\n",
       "      <td>2018</td>\n",
       "      <td>21</td>\n",
       "      <td>NE</td>\n",
       "      <td>KC</td>\n",
       "      <td>False</td>\n",
       "      <td>3.0</td>\n",
       "      <td>37.0</td>\n",
       "      <td>31.0</td>\n",
       "      <td>True</td>\n",
       "    </tr>\n",
       "    <tr>\n",
       "      <th>370</th>\n",
       "      <td>2018</td>\n",
       "      <td>21</td>\n",
       "      <td>NO</td>\n",
       "      <td>LAR</td>\n",
       "      <td>True</td>\n",
       "      <td>-3.0</td>\n",
       "      <td>23.0</td>\n",
       "      <td>26.0</td>\n",
       "      <td>False</td>\n",
       "    </tr>\n",
       "    <tr>\n",
       "      <th>6316</th>\n",
       "      <td>2018</td>\n",
       "      <td>22</td>\n",
       "      <td>LAR</td>\n",
       "      <td>NE</td>\n",
       "      <td>True</td>\n",
       "      <td>2.0</td>\n",
       "      <td>3.0</td>\n",
       "      <td>13.0</td>\n",
       "      <td>False</td>\n",
       "    </tr>\n",
       "    <tr>\n",
       "      <th>6316</th>\n",
       "      <td>2018</td>\n",
       "      <td>22</td>\n",
       "      <td>NE</td>\n",
       "      <td>LAR</td>\n",
       "      <td>False</td>\n",
       "      <td>-2.0</td>\n",
       "      <td>13.0</td>\n",
       "      <td>3.0</td>\n",
       "      <td>True</td>\n",
       "    </tr>\n",
       "  </tbody>\n",
       "</table>\n",
       "</div>"
      ],
      "text/plain": [
       "      schedule_season  schedule_week team opponent   home  spread  pts_for  \\\n",
       "370              2018             21  LAR       NO  False     3.0     26.0   \n",
       "6312             2018             21   NE       KC  False     3.0     37.0   \n",
       "370              2018             21   NO      LAR   True    -3.0     23.0   \n",
       "6316             2018             22  LAR       NE   True     2.0      3.0   \n",
       "6316             2018             22   NE      LAR  False    -2.0     13.0   \n",
       "\n",
       "      pts_against    won  \n",
       "370          23.0   True  \n",
       "6312         31.0   True  \n",
       "370          26.0  False  \n",
       "6316         13.0  False  \n",
       "6316          3.0   True  "
      ]
     },
     "execution_count": 76,
     "metadata": {},
     "output_type": "execute_result"
    }
   ],
   "source": [
    "games.tail()"
   ]
  },
  {
   "cell_type": "code",
   "execution_count": 77,
   "metadata": {},
   "outputs": [],
   "source": [
    "# add running tally of game counts for each team\n",
    "teams = games.team.drop_duplicates().sort_values().to_list()\n",
    "for team in teams:\n",
    "    games.loc[games.team == team, 'team_game_count'] =  np.arange(sum(games.team == team)) "
   ]
  },
  {
   "cell_type": "code",
   "execution_count": 78,
   "metadata": {},
   "outputs": [
    {
     "data": {
      "text/html": [
       "<div>\n",
       "<style scoped>\n",
       "    .dataframe tbody tr th:only-of-type {\n",
       "        vertical-align: middle;\n",
       "    }\n",
       "\n",
       "    .dataframe tbody tr th {\n",
       "        vertical-align: top;\n",
       "    }\n",
       "\n",
       "    .dataframe thead th {\n",
       "        text-align: right;\n",
       "    }\n",
       "</style>\n",
       "<table border=\"1\" class=\"dataframe\">\n",
       "  <thead>\n",
       "    <tr style=\"text-align: right;\">\n",
       "      <th></th>\n",
       "      <th>schedule_season</th>\n",
       "      <th>schedule_week</th>\n",
       "      <th>team</th>\n",
       "      <th>opponent</th>\n",
       "      <th>home</th>\n",
       "      <th>spread</th>\n",
       "      <th>pts_for</th>\n",
       "      <th>pts_against</th>\n",
       "      <th>won</th>\n",
       "      <th>team_game_count</th>\n",
       "    </tr>\n",
       "  </thead>\n",
       "  <tbody>\n",
       "    <tr>\n",
       "      <th>5801</th>\n",
       "      <td>1979</td>\n",
       "      <td>1</td>\n",
       "      <td>WAS</td>\n",
       "      <td>TEN</td>\n",
       "      <td>True</td>\n",
       "      <td>4.0</td>\n",
       "      <td>27.0</td>\n",
       "      <td>29.0</td>\n",
       "      <td>False</td>\n",
       "      <td>0.0</td>\n",
       "    </tr>\n",
       "    <tr>\n",
       "      <th>4584</th>\n",
       "      <td>1979</td>\n",
       "      <td>2</td>\n",
       "      <td>WAS</td>\n",
       "      <td>DET</td>\n",
       "      <td>False</td>\n",
       "      <td>0.0</td>\n",
       "      <td>27.0</td>\n",
       "      <td>24.0</td>\n",
       "      <td>True</td>\n",
       "      <td>1.0</td>\n",
       "    </tr>\n",
       "    <tr>\n",
       "      <th>1269</th>\n",
       "      <td>1979</td>\n",
       "      <td>3</td>\n",
       "      <td>WAS</td>\n",
       "      <td>NYG</td>\n",
       "      <td>True</td>\n",
       "      <td>-6.0</td>\n",
       "      <td>27.0</td>\n",
       "      <td>0.0</td>\n",
       "      <td>True</td>\n",
       "      <td>2.0</td>\n",
       "    </tr>\n",
       "    <tr>\n",
       "      <th>4570</th>\n",
       "      <td>1979</td>\n",
       "      <td>4</td>\n",
       "      <td>WAS</td>\n",
       "      <td>ARI</td>\n",
       "      <td>False</td>\n",
       "      <td>3.0</td>\n",
       "      <td>17.0</td>\n",
       "      <td>7.0</td>\n",
       "      <td>True</td>\n",
       "      <td>3.0</td>\n",
       "    </tr>\n",
       "    <tr>\n",
       "      <th>4667</th>\n",
       "      <td>1979</td>\n",
       "      <td>5</td>\n",
       "      <td>WAS</td>\n",
       "      <td>ATL</td>\n",
       "      <td>False</td>\n",
       "      <td>3.0</td>\n",
       "      <td>16.0</td>\n",
       "      <td>7.0</td>\n",
       "      <td>True</td>\n",
       "      <td>4.0</td>\n",
       "    </tr>\n",
       "  </tbody>\n",
       "</table>\n",
       "</div>"
      ],
      "text/plain": [
       "      schedule_season  schedule_week team opponent   home  spread  pts_for  \\\n",
       "5801             1979              1  WAS      TEN   True     4.0     27.0   \n",
       "4584             1979              2  WAS      DET  False     0.0     27.0   \n",
       "1269             1979              3  WAS      NYG   True    -6.0     27.0   \n",
       "4570             1979              4  WAS      ARI  False     3.0     17.0   \n",
       "4667             1979              5  WAS      ATL  False     3.0     16.0   \n",
       "\n",
       "      pts_against    won  team_game_count  \n",
       "5801         29.0  False              0.0  \n",
       "4584         24.0   True              1.0  \n",
       "1269          0.0   True              2.0  \n",
       "4570          7.0   True              3.0  \n",
       "4667          7.0   True              4.0  "
      ]
     },
     "execution_count": 78,
     "metadata": {},
     "output_type": "execute_result"
    }
   ],
   "source": [
    "games[games.team == team].head()"
   ]
  },
  {
   "cell_type": "markdown",
   "metadata": {},
   "source": [
    "## Add points for/ points against features"
   ]
  },
  {
   "cell_type": "code",
   "execution_count": 79,
   "metadata": {},
   "outputs": [],
   "source": [
    "def log_reg(X, y):\n",
    "    X_train, X_test, y_train, y_test = train_test_split(\n",
    "        X, y, test_size=0.33, random_state=42)\n",
    "    scaler = StandardScaler()\n",
    "    X_train = scaler.fit_transform(X_train)\n",
    "    X_test = scaler.transform(X_test)\n",
    "    \n",
    "    lr = LogisticRegression().fit(X_train, y_train)\n",
    "    \n",
    "    percent_correct = sum(lr.predict(X_test)==y_test)/len(y_test)\n",
    "    ll = log_loss(y_pred=lr.predict_proba(X_test), y_true=y_test)\n",
    "    print('percent_correct = ',percent_correct*100)\n",
    "    print('log_loss = ', ll)"
   ]
  },
  {
   "cell_type": "code",
   "execution_count": 80,
   "metadata": {},
   "outputs": [],
   "source": [
    "# add previous pts_for/ pts_against in previous n games\n",
    "\n",
    "def for_against(df, lookbacks = [1]):\n",
    "    games = df.copy()\n",
    "    \n",
    "    average_pts_for = games.pts_for.mean() # for imputing the first value\n",
    "    params = ['pts_for', 'pts_against']\n",
    "    new_features = []\n",
    "\n",
    "\n",
    "    for lookback in lookbacks:\n",
    "\n",
    "        for param in params:\n",
    "            new_feature = param+'_roll_'+str(lookback)\n",
    "            new_features.append(new_feature)\n",
    "            for team in teams:\n",
    "                rolling  = games[games.team == team][param].rolling(window = lookback, min_periods = 1).mean().to_list()\n",
    "                # rolling average is inclusive - shift back and impute the first value as the global average\n",
    "                rolling.insert(0,average_pts_for)\n",
    "                del rolling[-1]\n",
    "                games.loc[games.team == team, new_feature] = rolling\n",
    "\n",
    "    # add opponents' pts for and against\n",
    "    opp_features = []\n",
    "    for feature in new_features:\n",
    "        opp_features.append('opp_'+feature)\n",
    "\n",
    "    col_names = { 'team':'opponent'}\n",
    "    col_names.update(dict(zip(new_features, opp_features)))\n",
    "    col_names\n",
    "\n",
    "    games = games.merge(games[['schedule_season', 'schedule_week', 'team']+new_features\n",
    "                     ].rename(columns  = col_names), \n",
    "                on = ['schedule_season', 'schedule_week', 'opponent'] )\n",
    "\n",
    "    games.columns\n",
    "\n",
    "    features = new_features+opp_features\n",
    "    target = 'won'\n",
    "\n",
    "    # keep home games and features\n",
    "    X = games[games.home][features]\n",
    "    y = games[games.home][target]\n",
    "    print('lookbacks = ',lookbacks)\n",
    "    log_reg(X, y)"
   ]
  },
  {
   "cell_type": "code",
   "execution_count": 82,
   "metadata": {},
   "outputs": [
    {
     "data": {
      "text/html": [
       "<div>\n",
       "<style scoped>\n",
       "    .dataframe tbody tr th:only-of-type {\n",
       "        vertical-align: middle;\n",
       "    }\n",
       "\n",
       "    .dataframe tbody tr th {\n",
       "        vertical-align: top;\n",
       "    }\n",
       "\n",
       "    .dataframe thead th {\n",
       "        text-align: right;\n",
       "    }\n",
       "</style>\n",
       "<table border=\"1\" class=\"dataframe\">\n",
       "  <thead>\n",
       "    <tr style=\"text-align: right;\">\n",
       "      <th></th>\n",
       "      <th>schedule_season</th>\n",
       "      <th>schedule_week</th>\n",
       "      <th>team</th>\n",
       "      <th>opponent</th>\n",
       "      <th>home</th>\n",
       "      <th>spread</th>\n",
       "      <th>pts_for</th>\n",
       "      <th>pts_against</th>\n",
       "      <th>won</th>\n",
       "      <th>team_game_count</th>\n",
       "    </tr>\n",
       "  </thead>\n",
       "  <tbody>\n",
       "    <tr>\n",
       "      <th>7346</th>\n",
       "      <td>1979</td>\n",
       "      <td>1</td>\n",
       "      <td>ARI</td>\n",
       "      <td>DAL</td>\n",
       "      <td>True</td>\n",
       "      <td>4.0</td>\n",
       "      <td>21.0</td>\n",
       "      <td>22.0</td>\n",
       "      <td>False</td>\n",
       "      <td>0.0</td>\n",
       "    </tr>\n",
       "    <tr>\n",
       "      <th>3888</th>\n",
       "      <td>1979</td>\n",
       "      <td>1</td>\n",
       "      <td>ATL</td>\n",
       "      <td>NO</td>\n",
       "      <td>False</td>\n",
       "      <td>5.0</td>\n",
       "      <td>40.0</td>\n",
       "      <td>34.0</td>\n",
       "      <td>True</td>\n",
       "      <td>0.0</td>\n",
       "    </tr>\n",
       "    <tr>\n",
       "      <th>4784</th>\n",
       "      <td>1979</td>\n",
       "      <td>1</td>\n",
       "      <td>BUF</td>\n",
       "      <td>MIA</td>\n",
       "      <td>True</td>\n",
       "      <td>5.0</td>\n",
       "      <td>7.0</td>\n",
       "      <td>9.0</td>\n",
       "      <td>False</td>\n",
       "      <td>0.0</td>\n",
       "    </tr>\n",
       "    <tr>\n",
       "      <th>839</th>\n",
       "      <td>1979</td>\n",
       "      <td>1</td>\n",
       "      <td>CHI</td>\n",
       "      <td>GB</td>\n",
       "      <td>True</td>\n",
       "      <td>-3.0</td>\n",
       "      <td>6.0</td>\n",
       "      <td>3.0</td>\n",
       "      <td>True</td>\n",
       "      <td>0.0</td>\n",
       "    </tr>\n",
       "    <tr>\n",
       "      <th>5452</th>\n",
       "      <td>1979</td>\n",
       "      <td>1</td>\n",
       "      <td>CIN</td>\n",
       "      <td>DEN</td>\n",
       "      <td>False</td>\n",
       "      <td>3.0</td>\n",
       "      <td>0.0</td>\n",
       "      <td>10.0</td>\n",
       "      <td>False</td>\n",
       "      <td>0.0</td>\n",
       "    </tr>\n",
       "  </tbody>\n",
       "</table>\n",
       "</div>"
      ],
      "text/plain": [
       "      schedule_season  schedule_week team opponent   home  spread  pts_for  \\\n",
       "7346             1979              1  ARI      DAL   True     4.0     21.0   \n",
       "3888             1979              1  ATL       NO  False     5.0     40.0   \n",
       "4784             1979              1  BUF      MIA   True     5.0      7.0   \n",
       "839              1979              1  CHI       GB   True    -3.0      6.0   \n",
       "5452             1979              1  CIN      DEN  False     3.0      0.0   \n",
       "\n",
       "      pts_against    won  team_game_count  \n",
       "7346         22.0  False              0.0  \n",
       "3888         34.0   True              0.0  \n",
       "4784          9.0  False              0.0  \n",
       "839           3.0   True              0.0  \n",
       "5452         10.0  False              0.0  "
      ]
     },
     "execution_count": 82,
     "metadata": {},
     "output_type": "execute_result"
    }
   ],
   "source": [
    "games.head()"
   ]
  },
  {
   "cell_type": "code",
   "execution_count": 85,
   "metadata": {},
   "outputs": [
    {
     "name": "stdout",
     "output_type": "stream",
     "text": [
      "percent_correct =  65.60684805869764\n",
      "log_loss =  0.61929562483345\n"
     ]
    },
    {
     "name": "stderr",
     "output_type": "stream",
     "text": [
      "C:\\Users\\greg\\AppData\\Local\\Continuum\\anaconda3\\lib\\site-packages\\sklearn\\linear_model\\logistic.py:433: FutureWarning: Default solver will be changed to 'lbfgs' in 0.22. Specify a solver to silence this warning.\n",
      "  FutureWarning)\n"
     ]
    }
   ],
   "source": [
    "# logistic regression based on the point spreads only\n",
    "features = 'spread'\n",
    "target = 'won'\n",
    "X = games[games.home][features]\n",
    "X = X.values.reshape(-1, 1) \n",
    "y = games[games.home][target]\n",
    "log_reg(X, y)"
   ]
  },
  {
   "cell_type": "code",
   "execution_count": 86,
   "metadata": {},
   "outputs": [
    {
     "name": "stdout",
     "output_type": "stream",
     "text": [
      "lookbacks =  [1]\n",
      "percent_correct =  60.26894865525673\n",
      "log_loss =  0.6653583924555065\n"
     ]
    },
    {
     "name": "stderr",
     "output_type": "stream",
     "text": [
      "C:\\Users\\greg\\AppData\\Local\\Continuum\\anaconda3\\lib\\site-packages\\sklearn\\linear_model\\logistic.py:433: FutureWarning: Default solver will be changed to 'lbfgs' in 0.22. Specify a solver to silence this warning.\n",
      "  FutureWarning)\n"
     ]
    },
    {
     "name": "stdout",
     "output_type": "stream",
     "text": [
      "lookbacks =  [2]\n",
      "percent_correct =  62.011002444987774\n",
      "log_loss =  0.6567845479612643\n"
     ]
    },
    {
     "name": "stderr",
     "output_type": "stream",
     "text": [
      "C:\\Users\\greg\\AppData\\Local\\Continuum\\anaconda3\\lib\\site-packages\\sklearn\\linear_model\\logistic.py:433: FutureWarning: Default solver will be changed to 'lbfgs' in 0.22. Specify a solver to silence this warning.\n",
      "  FutureWarning)\n"
     ]
    },
    {
     "name": "stdout",
     "output_type": "stream",
     "text": [
      "lookbacks =  [3]\n",
      "percent_correct =  61.980440097799516\n",
      "log_loss =  0.6489572274590097\n"
     ]
    },
    {
     "name": "stderr",
     "output_type": "stream",
     "text": [
      "C:\\Users\\greg\\AppData\\Local\\Continuum\\anaconda3\\lib\\site-packages\\sklearn\\linear_model\\logistic.py:433: FutureWarning: Default solver will be changed to 'lbfgs' in 0.22. Specify a solver to silence this warning.\n",
      "  FutureWarning)\n"
     ]
    },
    {
     "name": "stdout",
     "output_type": "stream",
     "text": [
      "lookbacks =  [4]\n",
      "percent_correct =  63.6002444987775\n",
      "log_loss =  0.6408653205514933\n"
     ]
    },
    {
     "name": "stderr",
     "output_type": "stream",
     "text": [
      "C:\\Users\\greg\\AppData\\Local\\Continuum\\anaconda3\\lib\\site-packages\\sklearn\\linear_model\\logistic.py:433: FutureWarning: Default solver will be changed to 'lbfgs' in 0.22. Specify a solver to silence this warning.\n",
      "  FutureWarning)\n"
     ]
    },
    {
     "name": "stdout",
     "output_type": "stream",
     "text": [
      "lookbacks =  [5]\n",
      "percent_correct =  63.997555012224936\n",
      "log_loss =  0.6383520778954074\n"
     ]
    },
    {
     "name": "stderr",
     "output_type": "stream",
     "text": [
      "C:\\Users\\greg\\AppData\\Local\\Continuum\\anaconda3\\lib\\site-packages\\sklearn\\linear_model\\logistic.py:433: FutureWarning: Default solver will be changed to 'lbfgs' in 0.22. Specify a solver to silence this warning.\n",
      "  FutureWarning)\n"
     ]
    },
    {
     "name": "stdout",
     "output_type": "stream",
     "text": [
      "lookbacks =  [6]\n",
      "percent_correct =  64.82273838630806\n",
      "log_loss =  0.6355631187644272\n"
     ]
    },
    {
     "name": "stderr",
     "output_type": "stream",
     "text": [
      "C:\\Users\\greg\\AppData\\Local\\Continuum\\anaconda3\\lib\\site-packages\\sklearn\\linear_model\\logistic.py:433: FutureWarning: Default solver will be changed to 'lbfgs' in 0.22. Specify a solver to silence this warning.\n",
      "  FutureWarning)\n"
     ]
    },
    {
     "name": "stdout",
     "output_type": "stream",
     "text": [
      "lookbacks =  [7]\n",
      "percent_correct =  64.60880195599023\n",
      "log_loss =  0.6333306841198364\n"
     ]
    },
    {
     "name": "stderr",
     "output_type": "stream",
     "text": [
      "C:\\Users\\greg\\AppData\\Local\\Continuum\\anaconda3\\lib\\site-packages\\sklearn\\linear_model\\logistic.py:433: FutureWarning: Default solver will be changed to 'lbfgs' in 0.22. Specify a solver to silence this warning.\n",
      "  FutureWarning)\n"
     ]
    },
    {
     "name": "stdout",
     "output_type": "stream",
     "text": [
      "lookbacks =  [8]\n",
      "percent_correct =  64.70048899755501\n",
      "log_loss =  0.6310308028084285\n"
     ]
    },
    {
     "name": "stderr",
     "output_type": "stream",
     "text": [
      "C:\\Users\\greg\\AppData\\Local\\Continuum\\anaconda3\\lib\\site-packages\\sklearn\\linear_model\\logistic.py:433: FutureWarning: Default solver will be changed to 'lbfgs' in 0.22. Specify a solver to silence this warning.\n",
      "  FutureWarning)\n"
     ]
    },
    {
     "name": "stdout",
     "output_type": "stream",
     "text": [
      "lookbacks =  [9]\n",
      "percent_correct =  64.60880195599023\n",
      "log_loss =  0.6298247966674227\n"
     ]
    },
    {
     "name": "stderr",
     "output_type": "stream",
     "text": [
      "C:\\Users\\greg\\AppData\\Local\\Continuum\\anaconda3\\lib\\site-packages\\sklearn\\linear_model\\logistic.py:433: FutureWarning: Default solver will be changed to 'lbfgs' in 0.22. Specify a solver to silence this warning.\n",
      "  FutureWarning)\n"
     ]
    },
    {
     "name": "stdout",
     "output_type": "stream",
     "text": [
      "lookbacks =  [10]\n",
      "percent_correct =  65.00611246943765\n",
      "log_loss =  0.6284413480901965\n"
     ]
    },
    {
     "name": "stderr",
     "output_type": "stream",
     "text": [
      "C:\\Users\\greg\\AppData\\Local\\Continuum\\anaconda3\\lib\\site-packages\\sklearn\\linear_model\\logistic.py:433: FutureWarning: Default solver will be changed to 'lbfgs' in 0.22. Specify a solver to silence this warning.\n",
      "  FutureWarning)\n"
     ]
    },
    {
     "name": "stdout",
     "output_type": "stream",
     "text": [
      "lookbacks =  [11]\n",
      "percent_correct =  65.03667481662592\n",
      "log_loss =  0.6268448517354653\n"
     ]
    },
    {
     "name": "stderr",
     "output_type": "stream",
     "text": [
      "C:\\Users\\greg\\AppData\\Local\\Continuum\\anaconda3\\lib\\site-packages\\sklearn\\linear_model\\logistic.py:433: FutureWarning: Default solver will be changed to 'lbfgs' in 0.22. Specify a solver to silence this warning.\n",
      "  FutureWarning)\n"
     ]
    },
    {
     "name": "stdout",
     "output_type": "stream",
     "text": [
      "lookbacks =  [12]\n",
      "percent_correct =  64.82273838630806\n",
      "log_loss =  0.6273310266480503\n"
     ]
    },
    {
     "name": "stderr",
     "output_type": "stream",
     "text": [
      "C:\\Users\\greg\\AppData\\Local\\Continuum\\anaconda3\\lib\\site-packages\\sklearn\\linear_model\\logistic.py:433: FutureWarning: Default solver will be changed to 'lbfgs' in 0.22. Specify a solver to silence this warning.\n",
      "  FutureWarning)\n"
     ]
    },
    {
     "name": "stdout",
     "output_type": "stream",
     "text": [
      "lookbacks =  [13]\n",
      "percent_correct =  65.3117359413203\n",
      "log_loss =  0.6270436155738742\n"
     ]
    },
    {
     "name": "stderr",
     "output_type": "stream",
     "text": [
      "C:\\Users\\greg\\AppData\\Local\\Continuum\\anaconda3\\lib\\site-packages\\sklearn\\linear_model\\logistic.py:433: FutureWarning: Default solver will be changed to 'lbfgs' in 0.22. Specify a solver to silence this warning.\n",
      "  FutureWarning)\n"
     ]
    },
    {
     "name": "stdout",
     "output_type": "stream",
     "text": [
      "lookbacks =  [14]\n",
      "percent_correct =  65.25061124694376\n",
      "log_loss =  0.6279597693537401\n"
     ]
    },
    {
     "name": "stderr",
     "output_type": "stream",
     "text": [
      "C:\\Users\\greg\\AppData\\Local\\Continuum\\anaconda3\\lib\\site-packages\\sklearn\\linear_model\\logistic.py:433: FutureWarning: Default solver will be changed to 'lbfgs' in 0.22. Specify a solver to silence this warning.\n",
      "  FutureWarning)\n"
     ]
    },
    {
     "name": "stdout",
     "output_type": "stream",
     "text": [
      "lookbacks =  [15]\n",
      "percent_correct =  64.79217603911981\n",
      "log_loss =  0.6287333999920309\n"
     ]
    },
    {
     "name": "stderr",
     "output_type": "stream",
     "text": [
      "C:\\Users\\greg\\AppData\\Local\\Continuum\\anaconda3\\lib\\site-packages\\sklearn\\linear_model\\logistic.py:433: FutureWarning: Default solver will be changed to 'lbfgs' in 0.22. Specify a solver to silence this warning.\n",
      "  FutureWarning)\n"
     ]
    },
    {
     "name": "stdout",
     "output_type": "stream",
     "text": [
      "lookbacks =  [16]\n",
      "percent_correct =  64.8838630806846\n",
      "log_loss =  0.6283667875785148\n"
     ]
    },
    {
     "name": "stderr",
     "output_type": "stream",
     "text": [
      "C:\\Users\\greg\\AppData\\Local\\Continuum\\anaconda3\\lib\\site-packages\\sklearn\\linear_model\\logistic.py:433: FutureWarning: Default solver will be changed to 'lbfgs' in 0.22. Specify a solver to silence this warning.\n",
      "  FutureWarning)\n"
     ]
    },
    {
     "name": "stdout",
     "output_type": "stream",
     "text": [
      "lookbacks =  [17]\n",
      "percent_correct =  64.91442542787286\n",
      "log_loss =  0.6287644871671937\n"
     ]
    },
    {
     "name": "stderr",
     "output_type": "stream",
     "text": [
      "C:\\Users\\greg\\AppData\\Local\\Continuum\\anaconda3\\lib\\site-packages\\sklearn\\linear_model\\logistic.py:433: FutureWarning: Default solver will be changed to 'lbfgs' in 0.22. Specify a solver to silence this warning.\n",
      "  FutureWarning)\n"
     ]
    },
    {
     "name": "stdout",
     "output_type": "stream",
     "text": [
      "lookbacks =  [18]\n",
      "percent_correct =  64.63936430317848\n",
      "log_loss =  0.6291610534802983\n"
     ]
    },
    {
     "name": "stderr",
     "output_type": "stream",
     "text": [
      "C:\\Users\\greg\\AppData\\Local\\Continuum\\anaconda3\\lib\\site-packages\\sklearn\\linear_model\\logistic.py:433: FutureWarning: Default solver will be changed to 'lbfgs' in 0.22. Specify a solver to silence this warning.\n",
      "  FutureWarning)\n"
     ]
    },
    {
     "name": "stdout",
     "output_type": "stream",
     "text": [
      "lookbacks =  [19]\n",
      "percent_correct =  64.39486552567237\n",
      "log_loss =  0.6298917731400313\n"
     ]
    },
    {
     "name": "stderr",
     "output_type": "stream",
     "text": [
      "C:\\Users\\greg\\AppData\\Local\\Continuum\\anaconda3\\lib\\site-packages\\sklearn\\linear_model\\logistic.py:433: FutureWarning: Default solver will be changed to 'lbfgs' in 0.22. Specify a solver to silence this warning.\n",
      "  FutureWarning)\n"
     ]
    },
    {
     "name": "stdout",
     "output_type": "stream",
     "text": [
      "lookbacks =  [20]\n",
      "percent_correct =  64.18092909535453\n",
      "log_loss =  0.6309164693404898\n"
     ]
    },
    {
     "name": "stderr",
     "output_type": "stream",
     "text": [
      "C:\\Users\\greg\\AppData\\Local\\Continuum\\anaconda3\\lib\\site-packages\\sklearn\\linear_model\\logistic.py:433: FutureWarning: Default solver will be changed to 'lbfgs' in 0.22. Specify a solver to silence this warning.\n",
      "  FutureWarning)\n"
     ]
    }
   ],
   "source": [
    "for l in range(1,21):\n",
    "    lookbacks = [l]\n",
    "    for_against(games, lookbacks = lookbacks)"
   ]
  },
  {
   "cell_type": "markdown",
   "metadata": {},
   "source": [
    "10 - 14 are the best.  Try with combinations of 2 lookbacks"
   ]
  },
  {
   "cell_type": "code",
   "execution_count": 389,
   "metadata": {},
   "outputs": [],
   "source": [
    "def rand_for(X, y):\n",
    "    X_train, X_test, y_train, y_test = train_test_split(\n",
    "        X, y, test_size=0.33, random_state=42)\n",
    "\n",
    "    clf = RandomForestClassifier(bootstrap=True, class_weight=None, criterion='gini',\n",
    "            max_depth=10, max_features='sqrt', max_leaf_nodes=None,\n",
    "            min_impurity_decrease=0.0, min_impurity_split=None,\n",
    "            min_samples_leaf=4, min_samples_split=2,\n",
    "            min_weight_fraction_leaf=0.0, n_estimators=1600, n_jobs=None,\n",
    "            oob_score=False, verbose=0,\n",
    "            warm_start=False, random_state=42)\n",
    "    clf.fit(X_train, y_train) \n",
    "    \n",
    "    percent_correct = sum(clf.predict(X_test)==y_test)/len(y_test)\n",
    "    ll = log_loss(y_pred = clf.predict_proba(X_test), y_true=y_test)\n",
    "    print('percent_correct = ',percent_correct*100)\n",
    "    print('log_loss = ', ll)\n",
    "\n"
   ]
  },
  {
   "cell_type": "code",
   "execution_count": 390,
   "metadata": {},
   "outputs": [
    {
     "name": "stdout",
     "output_type": "stream",
     "text": [
      "percent_correct =  64.3643031784841\n",
      "log_loss =  0.6349863853069838\n"
     ]
    }
   ],
   "source": [
    "rand_for(X, y)"
   ]
  },
  {
   "cell_type": "markdown",
   "metadata": {},
   "source": [
    "Ouch!  Badly overfit."
   ]
  },
  {
   "cell_type": "code",
   "execution_count": 367,
   "metadata": {},
   "outputs": [
    {
     "name": "stdout",
     "output_type": "stream",
     "text": [
      "percent_correct =  57.12102689486552\n",
      "log_loss =  0.8951736766868521\n"
     ]
    },
    {
     "name": "stderr",
     "output_type": "stream",
     "text": [
      "C:\\Users\\greg\\AppData\\Local\\Continuum\\anaconda3\\lib\\site-packages\\sklearn\\ensemble\\forest.py:246: FutureWarning: The default value of n_estimators will change from 10 in version 0.20 to 100 in 0.22.\n",
      "  \"10 in version 0.20 to 100 in 0.22.\", FutureWarning)\n"
     ]
    }
   ],
   "source": [
    "X_train, X_test, y_train, y_test = train_test_split(\n",
    "    X, y, test_size=0.33, random_state=42)\n",
    "\n",
    "clf = RandomForestClassifier(random_state=42)\n",
    "clf.fit(X_train, y_train) \n",
    "\n",
    "percent_correct = sum(clf.predict(X_test)==y_test)/len(y_test)\n",
    "ll = log_loss(y_pred = clf.predict_proba(X_test), y_true=y_test)\n",
    "print('percent_correct = ',percent_correct*100)\n",
    "print('log_loss = ', ll)"
   ]
  },
  {
   "cell_type": "code",
   "execution_count": 379,
   "metadata": {},
   "outputs": [
    {
     "data": {
      "text/plain": [
       "RandomForestClassifier(bootstrap=True, class_weight=None, criterion='gini',\n",
       "            max_depth=None, max_features='auto', max_leaf_nodes=None,\n",
       "            min_impurity_decrease=0.0, min_impurity_split=None,\n",
       "            min_samples_leaf=1, min_samples_split=2,\n",
       "            min_weight_fraction_leaf=0.0, n_estimators=10, n_jobs=None,\n",
       "            oob_score=False, random_state=42, verbose=0, warm_start=False)"
      ]
     },
     "execution_count": 379,
     "metadata": {},
     "output_type": "execute_result"
    }
   ],
   "source": [
    "# try to whole dataset to see how bad overfitting can get\n",
    "clf.fit(X,y)"
   ]
  },
  {
   "cell_type": "code",
   "execution_count": 380,
   "metadata": {},
   "outputs": [
    {
     "data": {
      "text/plain": [
       "0.9836578230606274"
      ]
     },
     "execution_count": 380,
     "metadata": {},
     "output_type": "execute_result"
    }
   ],
   "source": [
    "sum(clf.predict(X)==y)/len(y)"
   ]
  },
  {
   "cell_type": "code",
   "execution_count": 381,
   "metadata": {},
   "outputs": [
    {
     "data": {
      "text/plain": [
       "0.19527542206080925"
      ]
     },
     "execution_count": 381,
     "metadata": {},
     "output_type": "execute_result"
    }
   ],
   "source": [
    "log_loss(y_pred = clf.predict_proba(X), y_true=y)"
   ]
  },
  {
   "cell_type": "code",
   "execution_count": 384,
   "metadata": {},
   "outputs": [
    {
     "data": {
      "text/plain": [
       "{'n_estimators': [200, 400, 600, 800, 1000, 1200, 1400, 1600, 1800, 2000],\n",
       " 'max_features': ['auto', 'sqrt'],\n",
       " 'max_depth': [10, 20, 30, 40, 50, 60, 70, 80, 90, 100, 110, None],\n",
       " 'min_samples_split': [2, 5, 10],\n",
       " 'min_samples_leaf': [1, 2, 4],\n",
       " 'bootstrap': [True, False]}"
      ]
     },
     "execution_count": 384,
     "metadata": {},
     "output_type": "execute_result"
    }
   ],
   "source": [
    "# hyperparameter tuning with help from here: \n",
    "# https://towardsdatascience.com/hyperparameter-tuning-the-random-forest-in-python-using-scikit-learn-28d2aa77dd74\n",
    "\n",
    "# Number of trees in random forest\n",
    "n_estimators = [int(x) for x in np.linspace(start = 200, stop = 2000, num = 10)]\n",
    "# Number of features to consider at every split\n",
    "max_features = ['auto', 'sqrt']\n",
    "# Maximum number of levels in tree\n",
    "max_depth = [int(x) for x in np.linspace(10, 110, num = 11)]\n",
    "max_depth.append(None)\n",
    "# Minimum number of samples required to split a node\n",
    "min_samples_split = [2, 5, 10]\n",
    "# Minimum number of samples required at each leaf node\n",
    "min_samples_leaf = [1, 2, 4]\n",
    "# Method of selecting samples for training each tree\n",
    "bootstrap = [True, False]# Create the random grid\n",
    "random_grid = {'n_estimators': n_estimators,\n",
    "               'max_features': max_features,\n",
    "               'max_depth': max_depth,\n",
    "               'min_samples_split': min_samples_split,\n",
    "               'min_samples_leaf': min_samples_leaf,\n",
    "               'bootstrap': bootstrap}\n",
    "\n",
    "random_grid"
   ]
  },
  {
   "cell_type": "code",
   "execution_count": 386,
   "metadata": {},
   "outputs": [
    {
     "name": "stdout",
     "output_type": "stream",
     "text": [
      "Fitting 3 folds for each of 100 candidates, totalling 300 fits\n"
     ]
    },
    {
     "name": "stderr",
     "output_type": "stream",
     "text": [
      "[Parallel(n_jobs=-1)]: Using backend LokyBackend with 8 concurrent workers.\n",
      "[Parallel(n_jobs=-1)]: Done  25 tasks      | elapsed:  2.5min\n",
      "[Parallel(n_jobs=-1)]: Done 146 tasks      | elapsed: 10.4min\n",
      "[Parallel(n_jobs=-1)]: Done 300 out of 300 | elapsed: 20.3min finished\n"
     ]
    },
    {
     "data": {
      "text/plain": [
       "RandomizedSearchCV(cv=3, error_score='raise-deprecating',\n",
       "          estimator=RandomForestClassifier(bootstrap=True, class_weight=None, criterion='gini',\n",
       "            max_depth=None, max_features='auto', max_leaf_nodes=None,\n",
       "            min_impurity_decrease=0.0, min_impurity_split=None,\n",
       "            min_samples_leaf=1, min_samples_split=2,\n",
       "            min_weight_fraction_leaf=0.0, n_estimators='warn', n_jobs=None,\n",
       "            oob_score=False, random_state=None, verbose=0,\n",
       "            warm_start=False),\n",
       "          fit_params=None, iid='warn', n_iter=100, n_jobs=-1,\n",
       "          param_distributions={'n_estimators': [200, 400, 600, 800, 1000, 1200, 1400, 1600, 1800, 2000], 'max_features': ['auto', 'sqrt'], 'max_depth': [10, 20, 30, 40, 50, 60, 70, 80, 90, 100, 110, None], 'min_samples_split': [2, 5, 10], 'min_samples_leaf': [1, 2, 4], 'bootstrap': [True, False]},\n",
       "          pre_dispatch='2*n_jobs', random_state=42, refit=True,\n",
       "          return_train_score='warn', scoring=None, verbose=2)"
      ]
     },
     "execution_count": 386,
     "metadata": {},
     "output_type": "execute_result"
    }
   ],
   "source": [
    "# Use the random grid to search for best hyperparameters\n",
    "# First create the base model to tune\n",
    "rf = RandomForestClassifier()\n",
    "# Random search of parameters, using 3 fold cross validation, \n",
    "# search across 100 different combinations, and use all available cores\n",
    "rf_random = RandomizedSearchCV(estimator = rf, param_distributions = random_grid, \n",
    "                               n_iter = 100, cv = 3, verbose=2, random_state=42, n_jobs = -1)# Fit the random search model\n",
    "rf_random.fit(X, y)"
   ]
  },
  {
   "cell_type": "code",
   "execution_count": 388,
   "metadata": {},
   "outputs": [
    {
     "data": {
      "text/plain": [
       "RandomForestClassifier(bootstrap=True, class_weight=None, criterion='gini',\n",
       "            max_depth=10, max_features='sqrt', max_leaf_nodes=None,\n",
       "            min_impurity_decrease=0.0, min_impurity_split=None,\n",
       "            min_samples_leaf=4, min_samples_split=2,\n",
       "            min_weight_fraction_leaf=0.0, n_estimators=1600, n_jobs=None,\n",
       "            oob_score=False, random_state=None, verbose=0,\n",
       "            warm_start=False)"
      ]
     },
     "execution_count": 388,
     "metadata": {},
     "output_type": "execute_result"
    }
   ],
   "source": [
    "rf_random.best_estimator_"
   ]
  },
  {
   "cell_type": "code",
   "execution_count": null,
   "metadata": {},
   "outputs": [],
   "source": []
  },
  {
   "cell_type": "code",
   "execution_count": 373,
   "metadata": {},
   "outputs": [
    {
     "data": {
      "text/plain": [
       "array([False,  True,  True, ..., False, False,  True])"
      ]
     },
     "execution_count": 373,
     "metadata": {},
     "output_type": "execute_result"
    }
   ],
   "source": [
    "clf.predict(X_test)"
   ]
  },
  {
   "cell_type": "code",
   "execution_count": 369,
   "metadata": {},
   "outputs": [
    {
     "data": {
      "text/plain": [
       "11660    False\n",
       "16078     True\n",
       "721       True\n",
       "7077      True\n",
       "11996    False\n",
       "5485     False\n",
       "2308     False\n",
       "14383    False\n",
       "17060    False\n",
       "13506     True\n",
       "8604      True\n",
       "6785     False\n",
       "19200    False\n",
       "16669     True\n",
       "18994    False\n",
       "13327    False\n",
       "8084      True\n",
       "18992     True\n",
       "14712    False\n",
       "4465     False\n",
       "9410      True\n",
       "17616     True\n",
       "622       True\n",
       "5477      True\n",
       "13938    False\n",
       "14934     True\n",
       "69        True\n",
       "15507    False\n",
       "17218    False\n",
       "1704     False\n",
       "         ...  \n",
       "5251      True\n",
       "11163    False\n",
       "16357     True\n",
       "9069      True\n",
       "1609     False\n",
       "9108      True\n",
       "9683      True\n",
       "10941    False\n",
       "17556    False\n",
       "15371    False\n",
       "6929      True\n",
       "10852     True\n",
       "2486      True\n",
       "16370     True\n",
       "10933     True\n",
       "19610     True\n",
       "1094      True\n",
       "6043     False\n",
       "16055     True\n",
       "7825      True\n",
       "50        True\n",
       "9731     False\n",
       "17490     True\n",
       "5016     False\n",
       "2867      True\n",
       "5164     False\n",
       "2605     False\n",
       "11424    False\n",
       "12813     True\n",
       "19709     True\n",
       "Name: won, Length: 3272, dtype: bool"
      ]
     },
     "execution_count": 369,
     "metadata": {},
     "output_type": "execute_result"
    }
   ],
   "source": [
    "y_test"
   ]
  },
  {
   "cell_type": "code",
   "execution_count": null,
   "metadata": {},
   "outputs": [],
   "source": []
  }
 ],
 "metadata": {
  "file_extension": ".py",
  "kernelspec": {
   "display_name": "Python 3",
   "language": "python",
   "name": "python3"
  },
  "language_info": {
   "codemirror_mode": {
    "name": "ipython",
    "version": 3
   },
   "file_extension": ".py",
   "mimetype": "text/x-python",
   "name": "python",
   "nbconvert_exporter": "python",
   "pygments_lexer": "ipython3",
   "version": "3.7.0"
  },
  "mimetype": "text/x-python",
  "name": "python",
  "npconvert_exporter": "python",
  "pygments_lexer": "ipython3",
  "version": 3
 },
 "nbformat": 4,
 "nbformat_minor": 2
}
