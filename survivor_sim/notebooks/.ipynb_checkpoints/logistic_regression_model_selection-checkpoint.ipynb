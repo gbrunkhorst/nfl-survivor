{
 "cells": [
  {
   "cell_type": "markdown",
   "metadata": {},
   "source": [
    "## Modeling Work  "
   ]
  },
  {
   "cell_type": "code",
   "execution_count": 1,
   "metadata": {},
   "outputs": [],
   "source": [
    "import pandas as pd\n",
    "import seaborn as sns\n",
    "import matplotlib.pyplot as plt\n",
    "import numpy as np\n",
    "from itertools import product"
   ]
  },
  {
   "cell_type": "markdown",
   "metadata": {},
   "source": [
    "## Run some vizzes to work with the logistical regression "
   ]
  },
  {
   "cell_type": "code",
   "execution_count": 2,
   "metadata": {},
   "outputs": [
    {
     "data": {
      "text/html": [
       "<div>\n",
       "<style scoped>\n",
       "    .dataframe tbody tr th:only-of-type {\n",
       "        vertical-align: middle;\n",
       "    }\n",
       "\n",
       "    .dataframe tbody tr th {\n",
       "        vertical-align: top;\n",
       "    }\n",
       "\n",
       "    .dataframe thead th {\n",
       "        text-align: right;\n",
       "    }\n",
       "</style>\n",
       "<table border=\"1\" class=\"dataframe\">\n",
       "  <thead>\n",
       "    <tr style=\"text-align: right;\">\n",
       "      <th></th>\n",
       "      <th>Unnamed: 0</th>\n",
       "      <th>schedule_date</th>\n",
       "      <th>schedule_season</th>\n",
       "      <th>schedule_week</th>\n",
       "      <th>schedule_playoff</th>\n",
       "      <th>team_home</th>\n",
       "      <th>score_home</th>\n",
       "      <th>score_away</th>\n",
       "      <th>team_away</th>\n",
       "      <th>team_favorite_id</th>\n",
       "      <th>...</th>\n",
       "      <th>stadium_neutral</th>\n",
       "      <th>weather_temperature</th>\n",
       "      <th>weather_wind_mph</th>\n",
       "      <th>weather_humidity</th>\n",
       "      <th>weather_detail</th>\n",
       "      <th>team_home_id</th>\n",
       "      <th>team_away_id</th>\n",
       "      <th>winner</th>\n",
       "      <th>favorite_won</th>\n",
       "      <th>team_underdog_id</th>\n",
       "    </tr>\n",
       "  </thead>\n",
       "  <tbody>\n",
       "    <tr>\n",
       "      <th>0</th>\n",
       "      <td>0</td>\n",
       "      <td>09/01/1979</td>\n",
       "      <td>1979</td>\n",
       "      <td>1</td>\n",
       "      <td>False</td>\n",
       "      <td>Tampa Bay Buccaneers</td>\n",
       "      <td>31.0</td>\n",
       "      <td>16.0</td>\n",
       "      <td>Detroit Lions</td>\n",
       "      <td>TB</td>\n",
       "      <td>...</td>\n",
       "      <td>False</td>\n",
       "      <td>79.0</td>\n",
       "      <td>9.0</td>\n",
       "      <td>87.0</td>\n",
       "      <td>NaN</td>\n",
       "      <td>TB</td>\n",
       "      <td>DET</td>\n",
       "      <td>TB</td>\n",
       "      <td>True</td>\n",
       "      <td>DET</td>\n",
       "    </tr>\n",
       "    <tr>\n",
       "      <th>1</th>\n",
       "      <td>1</td>\n",
       "      <td>11/23/1980</td>\n",
       "      <td>1980</td>\n",
       "      <td>12</td>\n",
       "      <td>False</td>\n",
       "      <td>Tampa Bay Buccaneers</td>\n",
       "      <td>10.0</td>\n",
       "      <td>24.0</td>\n",
       "      <td>Detroit Lions</td>\n",
       "      <td>TB</td>\n",
       "      <td>...</td>\n",
       "      <td>False</td>\n",
       "      <td>69.0</td>\n",
       "      <td>9.0</td>\n",
       "      <td>77.0</td>\n",
       "      <td>NaN</td>\n",
       "      <td>TB</td>\n",
       "      <td>DET</td>\n",
       "      <td>DET</td>\n",
       "      <td>False</td>\n",
       "      <td>DET</td>\n",
       "    </tr>\n",
       "    <tr>\n",
       "      <th>2</th>\n",
       "      <td>2</td>\n",
       "      <td>10/04/1981</td>\n",
       "      <td>1981</td>\n",
       "      <td>5</td>\n",
       "      <td>False</td>\n",
       "      <td>Tampa Bay Buccaneers</td>\n",
       "      <td>28.0</td>\n",
       "      <td>10.0</td>\n",
       "      <td>Detroit Lions</td>\n",
       "      <td>TB</td>\n",
       "      <td>...</td>\n",
       "      <td>False</td>\n",
       "      <td>76.0</td>\n",
       "      <td>9.0</td>\n",
       "      <td>76.0</td>\n",
       "      <td>NaN</td>\n",
       "      <td>TB</td>\n",
       "      <td>DET</td>\n",
       "      <td>TB</td>\n",
       "      <td>True</td>\n",
       "      <td>DET</td>\n",
       "    </tr>\n",
       "    <tr>\n",
       "      <th>3</th>\n",
       "      <td>3</td>\n",
       "      <td>12/26/1982</td>\n",
       "      <td>1982</td>\n",
       "      <td>8</td>\n",
       "      <td>False</td>\n",
       "      <td>Tampa Bay Buccaneers</td>\n",
       "      <td>23.0</td>\n",
       "      <td>21.0</td>\n",
       "      <td>Detroit Lions</td>\n",
       "      <td>TB</td>\n",
       "      <td>...</td>\n",
       "      <td>False</td>\n",
       "      <td>73.0</td>\n",
       "      <td>11.0</td>\n",
       "      <td>72.0</td>\n",
       "      <td>NaN</td>\n",
       "      <td>TB</td>\n",
       "      <td>DET</td>\n",
       "      <td>TB</td>\n",
       "      <td>True</td>\n",
       "      <td>DET</td>\n",
       "    </tr>\n",
       "    <tr>\n",
       "      <th>4</th>\n",
       "      <td>4</td>\n",
       "      <td>09/04/1983</td>\n",
       "      <td>1983</td>\n",
       "      <td>1</td>\n",
       "      <td>False</td>\n",
       "      <td>Tampa Bay Buccaneers</td>\n",
       "      <td>0.0</td>\n",
       "      <td>11.0</td>\n",
       "      <td>Detroit Lions</td>\n",
       "      <td>TB</td>\n",
       "      <td>...</td>\n",
       "      <td>False</td>\n",
       "      <td>82.0</td>\n",
       "      <td>7.0</td>\n",
       "      <td>83.0</td>\n",
       "      <td>NaN</td>\n",
       "      <td>TB</td>\n",
       "      <td>DET</td>\n",
       "      <td>DET</td>\n",
       "      <td>False</td>\n",
       "      <td>DET</td>\n",
       "    </tr>\n",
       "  </tbody>\n",
       "</table>\n",
       "<p>5 rows × 23 columns</p>\n",
       "</div>"
      ],
      "text/plain": [
       "   Unnamed: 0 schedule_date  schedule_season schedule_week  schedule_playoff  \\\n",
       "0           0    09/01/1979             1979             1             False   \n",
       "1           1    11/23/1980             1980            12             False   \n",
       "2           2    10/04/1981             1981             5             False   \n",
       "3           3    12/26/1982             1982             8             False   \n",
       "4           4    09/04/1983             1983             1             False   \n",
       "\n",
       "              team_home  score_home  score_away      team_away  \\\n",
       "0  Tampa Bay Buccaneers        31.0        16.0  Detroit Lions   \n",
       "1  Tampa Bay Buccaneers        10.0        24.0  Detroit Lions   \n",
       "2  Tampa Bay Buccaneers        28.0        10.0  Detroit Lions   \n",
       "3  Tampa Bay Buccaneers        23.0        21.0  Detroit Lions   \n",
       "4  Tampa Bay Buccaneers         0.0        11.0  Detroit Lions   \n",
       "\n",
       "  team_favorite_id  ...  stadium_neutral weather_temperature weather_wind_mph  \\\n",
       "0               TB  ...            False                79.0              9.0   \n",
       "1               TB  ...            False                69.0              9.0   \n",
       "2               TB  ...            False                76.0              9.0   \n",
       "3               TB  ...            False                73.0             11.0   \n",
       "4               TB  ...            False                82.0              7.0   \n",
       "\n",
       "   weather_humidity  weather_detail  team_home_id  team_away_id winner  \\\n",
       "0              87.0             NaN            TB           DET     TB   \n",
       "1              77.0             NaN            TB           DET    DET   \n",
       "2              76.0             NaN            TB           DET     TB   \n",
       "3              72.0             NaN            TB           DET     TB   \n",
       "4              83.0             NaN            TB           DET    DET   \n",
       "\n",
       "  favorite_won team_underdog_id  \n",
       "0         True              DET  \n",
       "1        False              DET  \n",
       "2         True              DET  \n",
       "3         True              DET  \n",
       "4        False              DET  \n",
       "\n",
       "[5 rows x 23 columns]"
      ]
     },
     "execution_count": 2,
     "metadata": {},
     "output_type": "execute_result"
    }
   ],
   "source": [
    "path = r'C:\\Users\\greg\\Documents\\NFL\\lastmansim\\data'\n",
    "\n",
    "spread_scores = pd.read_csv(path + '\\\\spreadspoke_scores_processed.csv')\n",
    "spread_scores.head()\n"
   ]
  },
  {
   "cell_type": "code",
   "execution_count": 3,
   "metadata": {},
   "outputs": [],
   "source": [
    "df = spread_scores[['spread_favorite','favorite_won']\n",
    "                ].groupby(by = 'spread_favorite').agg(['mean', 'count'])"
   ]
  },
  {
   "cell_type": "code",
   "execution_count": 4,
   "metadata": {},
   "outputs": [],
   "source": [
    "#%%\n",
    "df.reset_index(inplace = True)"
   ]
  },
  {
   "cell_type": "code",
   "execution_count": 5,
   "metadata": {},
   "outputs": [
    {
     "data": {
      "text/html": [
       "<div>\n",
       "<style scoped>\n",
       "    .dataframe tbody tr th:only-of-type {\n",
       "        vertical-align: middle;\n",
       "    }\n",
       "\n",
       "    .dataframe tbody tr th {\n",
       "        vertical-align: top;\n",
       "    }\n",
       "\n",
       "    .dataframe thead tr th {\n",
       "        text-align: left;\n",
       "    }\n",
       "</style>\n",
       "<table border=\"1\" class=\"dataframe\">\n",
       "  <thead>\n",
       "    <tr>\n",
       "      <th></th>\n",
       "      <th>spread_favorite</th>\n",
       "      <th colspan=\"2\" halign=\"left\">favorite_won</th>\n",
       "    </tr>\n",
       "    <tr>\n",
       "      <th></th>\n",
       "      <th></th>\n",
       "      <th>mean</th>\n",
       "      <th>count</th>\n",
       "    </tr>\n",
       "  </thead>\n",
       "  <tbody>\n",
       "    <tr>\n",
       "      <th>0</th>\n",
       "      <td>-26.5</td>\n",
       "      <td>1.0</td>\n",
       "      <td>1</td>\n",
       "    </tr>\n",
       "    <tr>\n",
       "      <th>1</th>\n",
       "      <td>-24.5</td>\n",
       "      <td>1.0</td>\n",
       "      <td>1</td>\n",
       "    </tr>\n",
       "    <tr>\n",
       "      <th>2</th>\n",
       "      <td>-24.0</td>\n",
       "      <td>1.0</td>\n",
       "      <td>1</td>\n",
       "    </tr>\n",
       "    <tr>\n",
       "      <th>3</th>\n",
       "      <td>-22.5</td>\n",
       "      <td>1.0</td>\n",
       "      <td>1</td>\n",
       "    </tr>\n",
       "    <tr>\n",
       "      <th>4</th>\n",
       "      <td>-20.5</td>\n",
       "      <td>1.0</td>\n",
       "      <td>2</td>\n",
       "    </tr>\n",
       "  </tbody>\n",
       "</table>\n",
       "</div>"
      ],
      "text/plain": [
       "  spread_favorite favorite_won      \n",
       "                          mean count\n",
       "0           -26.5          1.0     1\n",
       "1           -24.5          1.0     1\n",
       "2           -24.0          1.0     1\n",
       "3           -22.5          1.0     1\n",
       "4           -20.5          1.0     2"
      ]
     },
     "execution_count": 5,
     "metadata": {},
     "output_type": "execute_result"
    }
   ],
   "source": [
    "df.head()"
   ]
  },
  {
   "cell_type": "code",
   "execution_count": 6,
   "metadata": {},
   "outputs": [
    {
     "data": {
      "text/plain": [
       "<matplotlib.axes._subplots.AxesSubplot at 0x2df70c0b2e8>"
      ]
     },
     "execution_count": 6,
     "metadata": {},
     "output_type": "execute_result"
    },
    {
     "data": {
      "image/png": "[encoded data removed]",
      "text/plain": [
       "<Figure size 432x288 with 1 Axes>"
      ]
     },
     "metadata": {
      "needs_background": "light"
     },
     "output_type": "display_data"
    }
   ],
   "source": [
    "#%%\n",
    "sns.scatterplot(data = df, x = 'spread_favorite', y = ('favorite_won','mean'))"
   ]
  },
  {
   "cell_type": "code",
   "execution_count": 7,
   "metadata": {},
   "outputs": [
    {
     "data": {
      "text/html": [
       "<div>\n",
       "<style scoped>\n",
       "    .dataframe tbody tr th:only-of-type {\n",
       "        vertical-align: middle;\n",
       "    }\n",
       "\n",
       "    .dataframe tbody tr th {\n",
       "        vertical-align: top;\n",
       "    }\n",
       "\n",
       "    .dataframe thead th {\n",
       "        text-align: right;\n",
       "    }\n",
       "</style>\n",
       "<table border=\"1\" class=\"dataframe\">\n",
       "  <thead>\n",
       "    <tr style=\"text-align: right;\">\n",
       "      <th></th>\n",
       "      <th>Unnamed: 0</th>\n",
       "      <th>schedule_date</th>\n",
       "      <th>schedule_season</th>\n",
       "      <th>schedule_week</th>\n",
       "      <th>schedule_playoff</th>\n",
       "      <th>team_home</th>\n",
       "      <th>score_home</th>\n",
       "      <th>score_away</th>\n",
       "      <th>team_away</th>\n",
       "      <th>team_favorite_id</th>\n",
       "      <th>...</th>\n",
       "      <th>stadium_neutral</th>\n",
       "      <th>weather_temperature</th>\n",
       "      <th>weather_wind_mph</th>\n",
       "      <th>weather_humidity</th>\n",
       "      <th>weather_detail</th>\n",
       "      <th>team_home_id</th>\n",
       "      <th>team_away_id</th>\n",
       "      <th>winner</th>\n",
       "      <th>favorite_won</th>\n",
       "      <th>team_underdog_id</th>\n",
       "    </tr>\n",
       "  </thead>\n",
       "  <tbody>\n",
       "    <tr>\n",
       "      <th>0</th>\n",
       "      <td>0</td>\n",
       "      <td>09/01/1979</td>\n",
       "      <td>1979</td>\n",
       "      <td>1</td>\n",
       "      <td>False</td>\n",
       "      <td>Tampa Bay Buccaneers</td>\n",
       "      <td>31.0</td>\n",
       "      <td>16.0</td>\n",
       "      <td>Detroit Lions</td>\n",
       "      <td>TB</td>\n",
       "      <td>...</td>\n",
       "      <td>False</td>\n",
       "      <td>79.0</td>\n",
       "      <td>9.0</td>\n",
       "      <td>87.0</td>\n",
       "      <td>NaN</td>\n",
       "      <td>TB</td>\n",
       "      <td>DET</td>\n",
       "      <td>TB</td>\n",
       "      <td>True</td>\n",
       "      <td>DET</td>\n",
       "    </tr>\n",
       "    <tr>\n",
       "      <th>1</th>\n",
       "      <td>1</td>\n",
       "      <td>11/23/1980</td>\n",
       "      <td>1980</td>\n",
       "      <td>12</td>\n",
       "      <td>False</td>\n",
       "      <td>Tampa Bay Buccaneers</td>\n",
       "      <td>10.0</td>\n",
       "      <td>24.0</td>\n",
       "      <td>Detroit Lions</td>\n",
       "      <td>TB</td>\n",
       "      <td>...</td>\n",
       "      <td>False</td>\n",
       "      <td>69.0</td>\n",
       "      <td>9.0</td>\n",
       "      <td>77.0</td>\n",
       "      <td>NaN</td>\n",
       "      <td>TB</td>\n",
       "      <td>DET</td>\n",
       "      <td>DET</td>\n",
       "      <td>False</td>\n",
       "      <td>DET</td>\n",
       "    </tr>\n",
       "    <tr>\n",
       "      <th>2</th>\n",
       "      <td>2</td>\n",
       "      <td>10/04/1981</td>\n",
       "      <td>1981</td>\n",
       "      <td>5</td>\n",
       "      <td>False</td>\n",
       "      <td>Tampa Bay Buccaneers</td>\n",
       "      <td>28.0</td>\n",
       "      <td>10.0</td>\n",
       "      <td>Detroit Lions</td>\n",
       "      <td>TB</td>\n",
       "      <td>...</td>\n",
       "      <td>False</td>\n",
       "      <td>76.0</td>\n",
       "      <td>9.0</td>\n",
       "      <td>76.0</td>\n",
       "      <td>NaN</td>\n",
       "      <td>TB</td>\n",
       "      <td>DET</td>\n",
       "      <td>TB</td>\n",
       "      <td>True</td>\n",
       "      <td>DET</td>\n",
       "    </tr>\n",
       "    <tr>\n",
       "      <th>3</th>\n",
       "      <td>3</td>\n",
       "      <td>12/26/1982</td>\n",
       "      <td>1982</td>\n",
       "      <td>8</td>\n",
       "      <td>False</td>\n",
       "      <td>Tampa Bay Buccaneers</td>\n",
       "      <td>23.0</td>\n",
       "      <td>21.0</td>\n",
       "      <td>Detroit Lions</td>\n",
       "      <td>TB</td>\n",
       "      <td>...</td>\n",
       "      <td>False</td>\n",
       "      <td>73.0</td>\n",
       "      <td>11.0</td>\n",
       "      <td>72.0</td>\n",
       "      <td>NaN</td>\n",
       "      <td>TB</td>\n",
       "      <td>DET</td>\n",
       "      <td>TB</td>\n",
       "      <td>True</td>\n",
       "      <td>DET</td>\n",
       "    </tr>\n",
       "    <tr>\n",
       "      <th>4</th>\n",
       "      <td>4</td>\n",
       "      <td>09/04/1983</td>\n",
       "      <td>1983</td>\n",
       "      <td>1</td>\n",
       "      <td>False</td>\n",
       "      <td>Tampa Bay Buccaneers</td>\n",
       "      <td>0.0</td>\n",
       "      <td>11.0</td>\n",
       "      <td>Detroit Lions</td>\n",
       "      <td>TB</td>\n",
       "      <td>...</td>\n",
       "      <td>False</td>\n",
       "      <td>82.0</td>\n",
       "      <td>7.0</td>\n",
       "      <td>83.0</td>\n",
       "      <td>NaN</td>\n",
       "      <td>TB</td>\n",
       "      <td>DET</td>\n",
       "      <td>DET</td>\n",
       "      <td>False</td>\n",
       "      <td>DET</td>\n",
       "    </tr>\n",
       "  </tbody>\n",
       "</table>\n",
       "<p>5 rows × 23 columns</p>\n",
       "</div>"
      ],
      "text/plain": [
       "   Unnamed: 0 schedule_date  schedule_season schedule_week  schedule_playoff  \\\n",
       "0           0    09/01/1979             1979             1             False   \n",
       "1           1    11/23/1980             1980            12             False   \n",
       "2           2    10/04/1981             1981             5             False   \n",
       "3           3    12/26/1982             1982             8             False   \n",
       "4           4    09/04/1983             1983             1             False   \n",
       "\n",
       "              team_home  score_home  score_away      team_away  \\\n",
       "0  Tampa Bay Buccaneers        31.0        16.0  Detroit Lions   \n",
       "1  Tampa Bay Buccaneers        10.0        24.0  Detroit Lions   \n",
       "2  Tampa Bay Buccaneers        28.0        10.0  Detroit Lions   \n",
       "3  Tampa Bay Buccaneers        23.0        21.0  Detroit Lions   \n",
       "4  Tampa Bay Buccaneers         0.0        11.0  Detroit Lions   \n",
       "\n",
       "  team_favorite_id  ...  stadium_neutral weather_temperature weather_wind_mph  \\\n",
       "0               TB  ...            False                79.0              9.0   \n",
       "1               TB  ...            False                69.0              9.0   \n",
       "2               TB  ...            False                76.0              9.0   \n",
       "3               TB  ...            False                73.0             11.0   \n",
       "4               TB  ...            False                82.0              7.0   \n",
       "\n",
       "   weather_humidity  weather_detail  team_home_id  team_away_id winner  \\\n",
       "0              87.0             NaN            TB           DET     TB   \n",
       "1              77.0             NaN            TB           DET    DET   \n",
       "2              76.0             NaN            TB           DET     TB   \n",
       "3              72.0             NaN            TB           DET     TB   \n",
       "4              83.0             NaN            TB           DET    DET   \n",
       "\n",
       "  favorite_won team_underdog_id  \n",
       "0         True              DET  \n",
       "1        False              DET  \n",
       "2         True              DET  \n",
       "3         True              DET  \n",
       "4        False              DET  \n",
       "\n",
       "[5 rows x 23 columns]"
      ]
     },
     "execution_count": 7,
     "metadata": {},
     "output_type": "execute_result"
    }
   ],
   "source": [
    "spread_scores.head()"
   ]
  },
  {
   "cell_type": "code",
   "execution_count": 8,
   "metadata": {},
   "outputs": [
    {
     "name": "stderr",
     "output_type": "stream",
     "text": [
      "C:\\Users\\greg\\AppData\\Local\\Continuum\\anaconda3\\lib\\site-packages\\scipy\\stats\\stats.py:1713: FutureWarning: Using a non-tuple sequence for multidimensional indexing is deprecated; use `arr[tuple(seq)]` instead of `arr[seq]`. In the future this will be interpreted as an array index, `arr[np.array(seq)]`, which will result either in an error or a different result.\n",
      "  return np.add.reduce(sorted[indexer] * weights, axis=axis) / sumval\n"
     ]
    },
    {
     "data": {
      "image/png": "[encoded data removed]",
      "text/plain": [
       "<Figure size 432x288 with 1 Axes>"
      ]
     },
     "metadata": {
      "needs_background": "light"
     },
     "output_type": "display_data"
    }
   ],
   "source": [
    "fig, ax  = plt.subplots()\n",
    "sns.regplot(x = 'spread_favorite', y='favorite_won', data=spread_scores, \n",
    "            logistic=True, ax = ax, scatter_kws={'alpha':0.1})\n",
    "x = df['spread_favorite']\n",
    "y = df[('favorite_won','mean')]\n",
    "s = df[('favorite_won','count')]\n",
    "ax.scatter(x = x, y = y, c = 'r',s = s,alpha = .5)\n",
    "sns.despine()"
   ]
  },
  {
   "cell_type": "code",
   "execution_count": 9,
   "metadata": {},
   "outputs": [
    {
     "data": {
      "image/png": "[encoded data removed]",
      "text/plain": [
       "<Figure size 432x288 with 1 Axes>"
      ]
     },
     "metadata": {
      "needs_background": "light"
     },
     "output_type": "display_data"
    }
   ],
   "source": [
    "# try it as a mirror image to see how it changes\n",
    "X = pd.concat([spread_scores.spread_favorite, -spread_scores.spread_favorite])\n",
    "y = pd.concat([spread_scores.favorite_won, -spread_scores.favorite_won])\n",
    "\n",
    "\n",
    "fig, ax  = plt.subplots()\n",
    "sns.regplot(x = X, y= y, \n",
    "            logistic=True, ax = ax, scatter_kws={'alpha':0.1})\n",
    "x = df['spread_favorite']\n",
    "y = df[('favorite_won','mean')]\n",
    "s = df[('favorite_won','count')]\n",
    "ax.scatter(x = x, y = y, c = 'r',s = s,alpha = .5)\n",
    "sns.despine()"
   ]
  },
  {
   "cell_type": "code",
   "execution_count": 10,
   "metadata": {},
   "outputs": [
    {
     "data": {
      "image/png": "[encoded data removed]",
      "text/plain": [
       "<Figure size 432x288 with 1 Axes>"
      ]
     },
     "metadata": {
      "needs_background": "light"
     },
     "output_type": "display_data"
    }
   ],
   "source": [
    "# try it as a log norm to see how it changes\n",
    "X = spread_scores.spread_favorite**2\n",
    "y = spread_scores.favorite_won\n",
    "\n",
    "\n",
    "fig, ax  = plt.subplots()\n",
    "sns.regplot(x = X, y= y, \n",
    "            logistic=True, ax = ax, scatter_kws={'alpha':0.1})\n",
    "x = df['spread_favorite']**2\n",
    "y = df[('favorite_won','mean')]\n",
    "s = df[('favorite_won','count')]\n",
    "ax.scatter(x = x, y = y, c = 'r',s = s,alpha = .5)\n",
    "sns.despine()"
   ]
  },
  {
   "cell_type": "code",
   "execution_count": 11,
   "metadata": {},
   "outputs": [
    {
     "data": {
      "image/png": "[encoded data removed]",
      "text/plain": [
       "<Figure size 432x288 with 1 Axes>"
      ]
     },
     "metadata": {
      "needs_background": "light"
     },
     "output_type": "display_data"
    }
   ],
   "source": [
    "# try it as a mirror image to see how it changes\n",
    "X = pd.concat([spread_scores.spread_favorite**2, -(spread_scores.spread_favorite**2)])\n",
    "y = pd.concat([spread_scores.favorite_won, -spread_scores.favorite_won])\n",
    "\n",
    "\n",
    "fig, ax  = plt.subplots()\n",
    "sns.regplot(x = X, y= y, \n",
    "            logistic=True, ax = ax, scatter_kws={'alpha':0.1})\n",
    "x = df['spread_favorite']**2\n",
    "y = df[('favorite_won','mean')]\n",
    "s = df[('favorite_won','count')]\n",
    "ax.scatter(x = x, y = y, c = 'r',s = s,alpha = .5)\n",
    "sns.despine()"
   ]
  },
  {
   "cell_type": "markdown",
   "metadata": {},
   "source": [
    "Concluding from this - just make the spread squared a feature and let the log regression wieght the two.    "
   ]
  },
  {
   "cell_type": "code",
   "execution_count": 12,
   "metadata": {},
   "outputs": [
    {
     "data": {
      "text/plain": [
       "Index(['Unnamed: 0', 'schedule_date', 'schedule_season', 'schedule_week',\n",
       "       'schedule_playoff', 'team_home', 'score_home', 'score_away',\n",
       "       'team_away', 'team_favorite_id', 'spread_favorite', 'over_under_line',\n",
       "       'stadium', 'stadium_neutral', 'weather_temperature', 'weather_wind_mph',\n",
       "       'weather_humidity', 'weather_detail', 'team_home_id', 'team_away_id',\n",
       "       'winner', 'favorite_won', 'team_underdog_id'],\n",
       "      dtype='object')"
      ]
     },
     "execution_count": 12,
     "metadata": {},
     "output_type": "execute_result"
    }
   ],
   "source": [
    "spread_scores.columns"
   ]
  },
  {
   "cell_type": "code",
   "execution_count": 13,
   "metadata": {},
   "outputs": [
    {
     "data": {
      "text/html": [
       "<div>\n",
       "<style scoped>\n",
       "    .dataframe tbody tr th:only-of-type {\n",
       "        vertical-align: middle;\n",
       "    }\n",
       "\n",
       "    .dataframe tbody tr th {\n",
       "        vertical-align: top;\n",
       "    }\n",
       "\n",
       "    .dataframe thead th {\n",
       "        text-align: right;\n",
       "    }\n",
       "</style>\n",
       "<table border=\"1\" class=\"dataframe\">\n",
       "  <thead>\n",
       "    <tr style=\"text-align: right;\">\n",
       "      <th></th>\n",
       "      <th>Unnamed: 0</th>\n",
       "      <th>schedule_date</th>\n",
       "      <th>schedule_season</th>\n",
       "      <th>schedule_week</th>\n",
       "      <th>schedule_playoff</th>\n",
       "      <th>team_home</th>\n",
       "      <th>score_home</th>\n",
       "      <th>score_away</th>\n",
       "      <th>team_away</th>\n",
       "      <th>team_favorite_id</th>\n",
       "      <th>...</th>\n",
       "      <th>stadium_neutral</th>\n",
       "      <th>weather_temperature</th>\n",
       "      <th>weather_wind_mph</th>\n",
       "      <th>weather_humidity</th>\n",
       "      <th>weather_detail</th>\n",
       "      <th>team_home_id</th>\n",
       "      <th>team_away_id</th>\n",
       "      <th>winner</th>\n",
       "      <th>favorite_won</th>\n",
       "      <th>team_underdog_id</th>\n",
       "    </tr>\n",
       "  </thead>\n",
       "  <tbody>\n",
       "    <tr>\n",
       "      <th>0</th>\n",
       "      <td>0</td>\n",
       "      <td>09/01/1979</td>\n",
       "      <td>1979</td>\n",
       "      <td>1</td>\n",
       "      <td>False</td>\n",
       "      <td>Tampa Bay Buccaneers</td>\n",
       "      <td>31.0</td>\n",
       "      <td>16.0</td>\n",
       "      <td>Detroit Lions</td>\n",
       "      <td>TB</td>\n",
       "      <td>...</td>\n",
       "      <td>False</td>\n",
       "      <td>79.0</td>\n",
       "      <td>9.0</td>\n",
       "      <td>87.0</td>\n",
       "      <td>NaN</td>\n",
       "      <td>TB</td>\n",
       "      <td>DET</td>\n",
       "      <td>TB</td>\n",
       "      <td>True</td>\n",
       "      <td>DET</td>\n",
       "    </tr>\n",
       "    <tr>\n",
       "      <th>1</th>\n",
       "      <td>1</td>\n",
       "      <td>11/23/1980</td>\n",
       "      <td>1980</td>\n",
       "      <td>12</td>\n",
       "      <td>False</td>\n",
       "      <td>Tampa Bay Buccaneers</td>\n",
       "      <td>10.0</td>\n",
       "      <td>24.0</td>\n",
       "      <td>Detroit Lions</td>\n",
       "      <td>TB</td>\n",
       "      <td>...</td>\n",
       "      <td>False</td>\n",
       "      <td>69.0</td>\n",
       "      <td>9.0</td>\n",
       "      <td>77.0</td>\n",
       "      <td>NaN</td>\n",
       "      <td>TB</td>\n",
       "      <td>DET</td>\n",
       "      <td>DET</td>\n",
       "      <td>False</td>\n",
       "      <td>DET</td>\n",
       "    </tr>\n",
       "    <tr>\n",
       "      <th>2</th>\n",
       "      <td>2</td>\n",
       "      <td>10/04/1981</td>\n",
       "      <td>1981</td>\n",
       "      <td>5</td>\n",
       "      <td>False</td>\n",
       "      <td>Tampa Bay Buccaneers</td>\n",
       "      <td>28.0</td>\n",
       "      <td>10.0</td>\n",
       "      <td>Detroit Lions</td>\n",
       "      <td>TB</td>\n",
       "      <td>...</td>\n",
       "      <td>False</td>\n",
       "      <td>76.0</td>\n",
       "      <td>9.0</td>\n",
       "      <td>76.0</td>\n",
       "      <td>NaN</td>\n",
       "      <td>TB</td>\n",
       "      <td>DET</td>\n",
       "      <td>TB</td>\n",
       "      <td>True</td>\n",
       "      <td>DET</td>\n",
       "    </tr>\n",
       "    <tr>\n",
       "      <th>3</th>\n",
       "      <td>3</td>\n",
       "      <td>12/26/1982</td>\n",
       "      <td>1982</td>\n",
       "      <td>8</td>\n",
       "      <td>False</td>\n",
       "      <td>Tampa Bay Buccaneers</td>\n",
       "      <td>23.0</td>\n",
       "      <td>21.0</td>\n",
       "      <td>Detroit Lions</td>\n",
       "      <td>TB</td>\n",
       "      <td>...</td>\n",
       "      <td>False</td>\n",
       "      <td>73.0</td>\n",
       "      <td>11.0</td>\n",
       "      <td>72.0</td>\n",
       "      <td>NaN</td>\n",
       "      <td>TB</td>\n",
       "      <td>DET</td>\n",
       "      <td>TB</td>\n",
       "      <td>True</td>\n",
       "      <td>DET</td>\n",
       "    </tr>\n",
       "    <tr>\n",
       "      <th>4</th>\n",
       "      <td>4</td>\n",
       "      <td>09/04/1983</td>\n",
       "      <td>1983</td>\n",
       "      <td>1</td>\n",
       "      <td>False</td>\n",
       "      <td>Tampa Bay Buccaneers</td>\n",
       "      <td>0.0</td>\n",
       "      <td>11.0</td>\n",
       "      <td>Detroit Lions</td>\n",
       "      <td>TB</td>\n",
       "      <td>...</td>\n",
       "      <td>False</td>\n",
       "      <td>82.0</td>\n",
       "      <td>7.0</td>\n",
       "      <td>83.0</td>\n",
       "      <td>NaN</td>\n",
       "      <td>TB</td>\n",
       "      <td>DET</td>\n",
       "      <td>DET</td>\n",
       "      <td>False</td>\n",
       "      <td>DET</td>\n",
       "    </tr>\n",
       "  </tbody>\n",
       "</table>\n",
       "<p>5 rows × 23 columns</p>\n",
       "</div>"
      ],
      "text/plain": [
       "   Unnamed: 0 schedule_date  schedule_season schedule_week  schedule_playoff  \\\n",
       "0           0    09/01/1979             1979             1             False   \n",
       "1           1    11/23/1980             1980            12             False   \n",
       "2           2    10/04/1981             1981             5             False   \n",
       "3           3    12/26/1982             1982             8             False   \n",
       "4           4    09/04/1983             1983             1             False   \n",
       "\n",
       "              team_home  score_home  score_away      team_away  \\\n",
       "0  Tampa Bay Buccaneers        31.0        16.0  Detroit Lions   \n",
       "1  Tampa Bay Buccaneers        10.0        24.0  Detroit Lions   \n",
       "2  Tampa Bay Buccaneers        28.0        10.0  Detroit Lions   \n",
       "3  Tampa Bay Buccaneers        23.0        21.0  Detroit Lions   \n",
       "4  Tampa Bay Buccaneers         0.0        11.0  Detroit Lions   \n",
       "\n",
       "  team_favorite_id  ...  stadium_neutral weather_temperature weather_wind_mph  \\\n",
       "0               TB  ...            False                79.0              9.0   \n",
       "1               TB  ...            False                69.0              9.0   \n",
       "2               TB  ...            False                76.0              9.0   \n",
       "3               TB  ...            False                73.0             11.0   \n",
       "4               TB  ...            False                82.0              7.0   \n",
       "\n",
       "   weather_humidity  weather_detail  team_home_id  team_away_id winner  \\\n",
       "0              87.0             NaN            TB           DET     TB   \n",
       "1              77.0             NaN            TB           DET    DET   \n",
       "2              76.0             NaN            TB           DET     TB   \n",
       "3              72.0             NaN            TB           DET     TB   \n",
       "4              83.0             NaN            TB           DET    DET   \n",
       "\n",
       "  favorite_won team_underdog_id  \n",
       "0         True              DET  \n",
       "1        False              DET  \n",
       "2         True              DET  \n",
       "3         True              DET  \n",
       "4        False              DET  \n",
       "\n",
       "[5 rows x 23 columns]"
      ]
     },
     "execution_count": 13,
     "metadata": {},
     "output_type": "execute_result"
    }
   ],
   "source": [
    "spread_scores.head()"
   ]
  },
  {
   "cell_type": "markdown",
   "metadata": {},
   "source": [
    "## scikitlearn logistical regression model"
   ]
  },
  {
   "cell_type": "code",
   "execution_count": 14,
   "metadata": {},
   "outputs": [],
   "source": [
    "from sklearn.linear_model import LogisticRegression"
   ]
  },
  {
   "cell_type": "code",
   "execution_count": 15,
   "metadata": {},
   "outputs": [],
   "source": [
    "X = spread_scores.spread_favorite\n",
    "X = X.values.reshape(-1, 1) \n",
    "y = spread_scores.favorite_won"
   ]
  },
  {
   "cell_type": "code",
   "execution_count": 16,
   "metadata": {},
   "outputs": [
    {
     "name": "stderr",
     "output_type": "stream",
     "text": [
      "C:\\Users\\greg\\AppData\\Local\\Continuum\\anaconda3\\lib\\site-packages\\sklearn\\linear_model\\logistic.py:433: FutureWarning: Default solver will be changed to 'lbfgs' in 0.22. Specify a solver to silence this warning.\n",
      "  FutureWarning)\n"
     ]
    }
   ],
   "source": [
    "lr = LogisticRegression().fit(X, y)\n"
   ]
  },
  {
   "cell_type": "code",
   "execution_count": 17,
   "metadata": {},
   "outputs": [],
   "source": [
    "spreads = df['spread_favorite'].values.reshape(-1, 1)"
   ]
  },
  {
   "cell_type": "code",
   "execution_count": 18,
   "metadata": {},
   "outputs": [
    {
     "data": {
      "text/plain": [
       "array([0.58480743, 0.58480743, 0.51029319, ..., 0.81345927, 0.65563493,\n",
       "       0.58480743])"
      ]
     },
     "execution_count": 18,
     "metadata": {},
     "output_type": "execute_result"
    }
   ],
   "source": [
    "lr.predict_proba(X)[:,1]"
   ]
  },
  {
   "cell_type": "markdown",
   "metadata": {},
   "source": [
    "## write the model to a pickle file \n",
    "Work with pickle files\n",
    "https://machinelearningmastery.com/save-load-machine-learning-models-python-scikit-learn/\n"
   ]
  },
  {
   "cell_type": "code",
   "execution_count": 19,
   "metadata": {},
   "outputs": [],
   "source": [
    "import pickle"
   ]
  },
  {
   "cell_type": "code",
   "execution_count": 60,
   "metadata": {},
   "outputs": [],
   "source": [
    "# save the model to disk\n",
    "filename = 'log_reg_spread_model.pkl'\n",
    "pickle.dump(lr, open(filename, 'wb'))\n",
    " "
   ]
  },
  {
   "cell_type": "code",
   "execution_count": 61,
   "metadata": {},
   "outputs": [
    {
     "data": {
      "text/plain": [
       "array([0.58480743, 0.58480743, 0.51029319, ..., 0.81345927, 0.65563493,\n",
       "       0.58480743])"
      ]
     },
     "execution_count": 61,
     "metadata": {},
     "output_type": "execute_result"
    }
   ],
   "source": [
    "# load the model from disk\n",
    "loaded_model = pickle.load(open(filename, 'rb'))\n",
    "result = loaded_model.predict_proba(X)[:,1]\n",
    "result"
   ]
  },
  {
   "cell_type": "markdown",
   "metadata": {},
   "source": [
    "## Run some single week probabilities"
   ]
  },
  {
   "cell_type": "code",
   "execution_count": 22,
   "metadata": {},
   "outputs": [],
   "source": [
    "week7 = pd.read_excel(path+'\\\\week_7.xlsx')"
   ]
  },
  {
   "cell_type": "markdown",
   "metadata": {},
   "source": [
    "#### Use the regression function"
   ]
  },
  {
   "cell_type": "code",
   "execution_count": 23,
   "metadata": {},
   "outputs": [],
   "source": [
    "week7.sort_values(by='Spread', inplace = True)"
   ]
  },
  {
   "cell_type": "code",
   "execution_count": 24,
   "metadata": {},
   "outputs": [],
   "source": [
    "spreads = week7.Spread.values.reshape(-1, 1)\n",
    "week7['probs'] = lr.predict_proba(spreads)[:,1]"
   ]
  },
  {
   "cell_type": "code",
   "execution_count": 25,
   "metadata": {},
   "outputs": [
    {
     "data": {
      "text/plain": [
       "100.0"
      ]
     },
     "execution_count": 25,
     "metadata": {},
     "output_type": "execute_result"
    }
   ],
   "source": [
    "# assume that the bettors are 100 to make the math easier\n",
    "week7.Bettors = round(week7.Bettors*100/week7.Bettors.sum())\n",
    "week7.Bettors.sum()"
   ]
  },
  {
   "cell_type": "code",
   "execution_count": 26,
   "metadata": {},
   "outputs": [
    {
     "data": {
      "text/html": [
       "<div>\n",
       "<style scoped>\n",
       "    .dataframe tbody tr th:only-of-type {\n",
       "        vertical-align: middle;\n",
       "    }\n",
       "\n",
       "    .dataframe tbody tr th {\n",
       "        vertical-align: top;\n",
       "    }\n",
       "\n",
       "    .dataframe thead th {\n",
       "        text-align: right;\n",
       "    }\n",
       "</style>\n",
       "<table border=\"1\" class=\"dataframe\">\n",
       "  <thead>\n",
       "    <tr style=\"text-align: right;\">\n",
       "      <th></th>\n",
       "      <th>Rank</th>\n",
       "      <th>Team</th>\n",
       "      <th>Bettors</th>\n",
       "      <th>Spread</th>\n",
       "      <th>probs</th>\n",
       "    </tr>\n",
       "  </thead>\n",
       "  <tbody>\n",
       "    <tr>\n",
       "      <th>0</th>\n",
       "      <td>1</td>\n",
       "      <td>Buffalo Bills</td>\n",
       "      <td>66.0</td>\n",
       "      <td>-17.0</td>\n",
       "      <td>0.920713</td>\n",
       "    </tr>\n",
       "    <tr>\n",
       "      <th>1</th>\n",
       "      <td>2</td>\n",
       "      <td>San Francisco 49ers</td>\n",
       "      <td>24.0</td>\n",
       "      <td>-9.5</td>\n",
       "      <td>0.789509</td>\n",
       "    </tr>\n",
       "    <tr>\n",
       "      <th>3</th>\n",
       "      <td>4</td>\n",
       "      <td>New England Patriots</td>\n",
       "      <td>2.0</td>\n",
       "      <td>-9.5</td>\n",
       "      <td>0.789509</td>\n",
       "    </tr>\n",
       "    <tr>\n",
       "      <th>2</th>\n",
       "      <td>3</td>\n",
       "      <td>Green Bay Packers</td>\n",
       "      <td>4.0</td>\n",
       "      <td>-5.5</td>\n",
       "      <td>0.672440</td>\n",
       "    </tr>\n",
       "    <tr>\n",
       "      <th>4</th>\n",
       "      <td>5</td>\n",
       "      <td>Jacksonville Jaguars</td>\n",
       "      <td>1.0</td>\n",
       "      <td>-3.5</td>\n",
       "      <td>0.602976</td>\n",
       "    </tr>\n",
       "    <tr>\n",
       "      <th>5</th>\n",
       "      <td>6</td>\n",
       "      <td>Kansas City Chiefs</td>\n",
       "      <td>1.0</td>\n",
       "      <td>-3.0</td>\n",
       "      <td>0.584807</td>\n",
       "    </tr>\n",
       "    <tr>\n",
       "      <th>6</th>\n",
       "      <td>7</td>\n",
       "      <td>Los Angeles Rams</td>\n",
       "      <td>1.0</td>\n",
       "      <td>-3.0</td>\n",
       "      <td>0.584807</td>\n",
       "    </tr>\n",
       "    <tr>\n",
       "      <th>7</th>\n",
       "      <td>8</td>\n",
       "      <td>New York Giants</td>\n",
       "      <td>1.0</td>\n",
       "      <td>-3.0</td>\n",
       "      <td>0.584807</td>\n",
       "    </tr>\n",
       "  </tbody>\n",
       "</table>\n",
       "</div>"
      ],
      "text/plain": [
       "   Rank                  Team  Bettors  Spread     probs\n",
       "0     1         Buffalo Bills     66.0   -17.0  0.920713\n",
       "1     2   San Francisco 49ers     24.0    -9.5  0.789509\n",
       "3     4  New England Patriots      2.0    -9.5  0.789509\n",
       "2     3     Green Bay Packers      4.0    -5.5  0.672440\n",
       "4     5  Jacksonville Jaguars      1.0    -3.5  0.602976\n",
       "5     6    Kansas City Chiefs      1.0    -3.0  0.584807\n",
       "6     7      Los Angeles Rams      1.0    -3.0  0.584807\n",
       "7     8       New York Giants      1.0    -3.0  0.584807"
      ]
     },
     "execution_count": 26,
     "metadata": {},
     "output_type": "execute_result"
    }
   ],
   "source": [
    "week7"
   ]
  },
  {
   "cell_type": "markdown",
   "metadata": {},
   "source": [
    "#### Now crunch for all combinations of potential outcomes (2^n)"
   ]
  },
  {
   "cell_type": "code",
   "execution_count": 27,
   "metadata": {},
   "outputs": [
    {
     "data": {
      "text/plain": [
       "8"
      ]
     },
     "execution_count": 27,
     "metadata": {},
     "output_type": "execute_result"
    }
   ],
   "source": [
    "week7.shape[0]"
   ]
  },
  {
   "cell_type": "code",
   "execution_count": 29,
   "metadata": {},
   "outputs": [
    {
     "data": {
      "text/html": [
       "<div>\n",
       "<style scoped>\n",
       "    .dataframe tbody tr th:only-of-type {\n",
       "        vertical-align: middle;\n",
       "    }\n",
       "\n",
       "    .dataframe tbody tr th {\n",
       "        vertical-align: top;\n",
       "    }\n",
       "\n",
       "    .dataframe thead th {\n",
       "        text-align: right;\n",
       "    }\n",
       "</style>\n",
       "<table border=\"1\" class=\"dataframe\">\n",
       "  <thead>\n",
       "    <tr style=\"text-align: right;\">\n",
       "      <th></th>\n",
       "      <th>Rank</th>\n",
       "      <th>Team</th>\n",
       "      <th>Bettors</th>\n",
       "      <th>Spread</th>\n",
       "      <th>probs</th>\n",
       "    </tr>\n",
       "  </thead>\n",
       "  <tbody>\n",
       "    <tr>\n",
       "      <th>0</th>\n",
       "      <td>1</td>\n",
       "      <td>Buffalo Bills</td>\n",
       "      <td>66.0</td>\n",
       "      <td>-17.0</td>\n",
       "      <td>0.920713</td>\n",
       "    </tr>\n",
       "    <tr>\n",
       "      <th>1</th>\n",
       "      <td>2</td>\n",
       "      <td>San Francisco 49ers</td>\n",
       "      <td>24.0</td>\n",
       "      <td>-9.5</td>\n",
       "      <td>0.789509</td>\n",
       "    </tr>\n",
       "  </tbody>\n",
       "</table>\n",
       "</div>"
      ],
      "text/plain": [
       "   Rank                 Team  Bettors  Spread     probs\n",
       "0     1        Buffalo Bills     66.0   -17.0  0.920713\n",
       "1     2  San Francisco 49ers     24.0    -9.5  0.789509"
      ]
     },
     "execution_count": 29,
     "metadata": {},
     "output_type": "execute_result"
    }
   ],
   "source": [
    "# # of games to analyze\n",
    "n = 2\n",
    "week7 = week7.iloc[:n,:]\n",
    "week7"
   ]
  },
  {
   "cell_type": "code",
   "execution_count": 42,
   "metadata": {},
   "outputs": [
    {
     "name": "stderr",
     "output_type": "stream",
     "text": [
      "C:\\Users\\greg\\AppData\\Local\\Continuum\\anaconda3\\lib\\site-packages\\pandas\\core\\indexing.py:543: SettingWithCopyWarning: \n",
      "A value is trying to be set on a copy of a slice from a DataFrame.\n",
      "Try using .loc[row_indexer,col_indexer] = value instead\n",
      "\n",
      "See the caveats in the documentation: http://pandas.pydata.org/pandas-docs/stable/indexing.html#indexing-view-versus-copy\n",
      "  self.obj[item] = s\n"
     ]
    }
   ],
   "source": [
    "week7.loc[1,\"Bettors\"] = 100-66"
   ]
  },
  {
   "cell_type": "code",
   "execution_count": 44,
   "metadata": {},
   "outputs": [
    {
     "data": {
      "text/html": [
       "<div>\n",
       "<style scoped>\n",
       "    .dataframe tbody tr th:only-of-type {\n",
       "        vertical-align: middle;\n",
       "    }\n",
       "\n",
       "    .dataframe tbody tr th {\n",
       "        vertical-align: top;\n",
       "    }\n",
       "\n",
       "    .dataframe thead th {\n",
       "        text-align: right;\n",
       "    }\n",
       "</style>\n",
       "<table border=\"1\" class=\"dataframe\">\n",
       "  <thead>\n",
       "    <tr style=\"text-align: right;\">\n",
       "      <th></th>\n",
       "      <th>Rank</th>\n",
       "      <th>Team</th>\n",
       "      <th>Bettors</th>\n",
       "      <th>Spread</th>\n",
       "      <th>probs</th>\n",
       "      <th>prob_before</th>\n",
       "      <th>prob_if_survive</th>\n",
       "    </tr>\n",
       "  </thead>\n",
       "  <tbody>\n",
       "    <tr>\n",
       "      <th>0</th>\n",
       "      <td>1</td>\n",
       "      <td>Buffalo Bills</td>\n",
       "      <td>66.0</td>\n",
       "      <td>-17.0</td>\n",
       "      <td>0.920713</td>\n",
       "      <td>0.011111</td>\n",
       "      <td>0.011199</td>\n",
       "    </tr>\n",
       "    <tr>\n",
       "      <th>1</th>\n",
       "      <td>2</td>\n",
       "      <td>San Francisco 49ers</td>\n",
       "      <td>34.0</td>\n",
       "      <td>-9.5</td>\n",
       "      <td>0.789509</td>\n",
       "      <td>0.011111</td>\n",
       "      <td>0.010870</td>\n",
       "    </tr>\n",
       "  </tbody>\n",
       "</table>\n",
       "</div>"
      ],
      "text/plain": [
       "   Rank                 Team  Bettors  Spread     probs  prob_before  \\\n",
       "0     1        Buffalo Bills     66.0   -17.0  0.920713     0.011111   \n",
       "1     2  San Francisco 49ers     34.0    -9.5  0.789509     0.011111   \n",
       "\n",
       "   prob_if_survive  \n",
       "0         0.011199  \n",
       "1         0.010870  "
      ]
     },
     "execution_count": 44,
     "metadata": {},
     "output_type": "execute_result"
    }
   ],
   "source": [
    "week7"
   ]
  },
  {
   "cell_type": "code",
   "execution_count": 45,
   "metadata": {},
   "outputs": [
    {
     "data": {
      "text/plain": [
       "array([0.01668928, 0.06259792, 0.19380221, 0.7269106 ])"
      ]
     },
     "execution_count": 45,
     "metadata": {},
     "output_type": "execute_result"
    }
   ],
   "source": [
    "#combinations\n",
    "combs = np.array(list(product([0,1], repeat = n)),dtype=int)\n",
    "# game probabilities\n",
    "all_probs = week7.probs.values*combs + (1 - week7.probs.values)*(1 - combs)\n",
    "# combination probabilities\n",
    "comb_probs = np.prod(all_probs, axis = 1)\n",
    "comb_probs"
   ]
  },
  {
   "cell_type": "code",
   "execution_count": 56,
   "metadata": {},
   "outputs": [
    {
     "data": {
      "text/plain": [
       "array([[0, 0],\n",
       "       [0, 1],\n",
       "       [1, 0],\n",
       "       [1, 1]])"
      ]
     },
     "execution_count": 56,
     "metadata": {},
     "output_type": "execute_result"
    }
   ],
   "source": [
    "combs"
   ]
  },
  {
   "cell_type": "code",
   "execution_count": 46,
   "metadata": {},
   "outputs": [
    {
     "data": {
      "text/plain": [
       "1.0"
      ]
     },
     "execution_count": 46,
     "metadata": {},
     "output_type": "execute_result"
    }
   ],
   "source": [
    "comb_probs.sum()"
   ]
  },
  {
   "cell_type": "code",
   "execution_count": 47,
   "metadata": {},
   "outputs": [],
   "source": [
    "# normalize\n",
    "# week7.Bettors  = week7.Bettors / week7.Bettors.sum()"
   ]
  },
  {
   "cell_type": "code",
   "execution_count": 48,
   "metadata": {},
   "outputs": [
    {
     "data": {
      "text/plain": [
       "array([[ 0.,  0.],\n",
       "       [ 0., 34.],\n",
       "       [66.,  0.],\n",
       "       [66., 34.]])"
      ]
     },
     "execution_count": 48,
     "metadata": {},
     "output_type": "execute_result"
    }
   ],
   "source": [
    "# remaining bettors for each combination\n",
    "rem_bet = week7.Bettors.values*combs\n",
    "rem_bet"
   ]
  },
  {
   "cell_type": "code",
   "execution_count": 49,
   "metadata": {},
   "outputs": [
    {
     "data": {
      "text/plain": [
       "array([  0.,  34.,  66., 100.])"
      ]
     },
     "execution_count": 49,
     "metadata": {},
     "output_type": "execute_result"
    }
   ],
   "source": [
    "# total remaining bettors for each combination\n",
    "tot_rem_bet = np.sum(rem_bet, axis = 1)\n",
    "tot_rem_bet"
   ]
  },
  {
   "cell_type": "code",
   "execution_count": 50,
   "metadata": {},
   "outputs": [
    {
     "name": "stderr",
     "output_type": "stream",
     "text": [
      "C:\\Users\\greg\\AppData\\Local\\Continuum\\anaconda3\\lib\\site-packages\\ipykernel_launcher.py:2: RuntimeWarning: invalid value encountered in true_divide\n",
      "  \n"
     ]
    },
    {
     "data": {
      "text/plain": [
       "array([[0.01      , 0.01      ],\n",
       "       [0.        , 0.02941176],\n",
       "       [0.01515152, 0.        ],\n",
       "       [0.01      , 0.01      ]])"
      ]
     },
     "execution_count": 50,
     "metadata": {},
     "output_type": "execute_result"
    }
   ],
   "source": [
    "# new odds for each outcome\n",
    "cond_prob = np.where(rem_bet>0, 1, 0)/tot_rem_bet[:, np.newaxis]\n",
    "# assume they tie if they all loose\n",
    "cond_prob[0, :] =  (1/week7.Bettors.sum())\n",
    "cond_prob"
   ]
  },
  {
   "cell_type": "code",
   "execution_count": 51,
   "metadata": {},
   "outputs": [
    {
     "data": {
      "text/plain": [
       "array([[0.00016689, 0.00016689],\n",
       "       [0.        , 0.00184112],\n",
       "       [0.0029364 , 0.        ],\n",
       "       [0.00726911, 0.00726911]])"
      ]
     },
     "execution_count": 51,
     "metadata": {},
     "output_type": "execute_result"
    }
   ],
   "source": [
    "# multiply the odds \n",
    "# weighted probabilities are the conditional probabilities\n",
    "# times the combination probabilities to get weighted probabilities\n",
    "weight_prob = cond_prob * comb_probs[:, np.newaxis]\n",
    "weight_prob"
   ]
  },
  {
   "cell_type": "code",
   "execution_count": 52,
   "metadata": {},
   "outputs": [
    {
     "name": "stderr",
     "output_type": "stream",
     "text": [
      "C:\\Users\\greg\\AppData\\Local\\Continuum\\anaconda3\\lib\\site-packages\\ipykernel_launcher.py:2: SettingWithCopyWarning: \n",
      "A value is trying to be set on a copy of a slice from a DataFrame.\n",
      "Try using .loc[row_indexer,col_indexer] = value instead\n",
      "\n",
      "See the caveats in the documentation: http://pandas.pydata.org/pandas-docs/stable/indexing.html#indexing-view-versus-copy\n",
      "  \n"
     ]
    },
    {
     "data": {
      "text/html": [
       "<div>\n",
       "<style scoped>\n",
       "    .dataframe tbody tr th:only-of-type {\n",
       "        vertical-align: middle;\n",
       "    }\n",
       "\n",
       "    .dataframe tbody tr th {\n",
       "        vertical-align: top;\n",
       "    }\n",
       "\n",
       "    .dataframe thead th {\n",
       "        text-align: right;\n",
       "    }\n",
       "</style>\n",
       "<table border=\"1\" class=\"dataframe\">\n",
       "  <thead>\n",
       "    <tr style=\"text-align: right;\">\n",
       "      <th></th>\n",
       "      <th>Rank</th>\n",
       "      <th>Team</th>\n",
       "      <th>Bettors</th>\n",
       "      <th>Spread</th>\n",
       "      <th>probs</th>\n",
       "      <th>prob_before</th>\n",
       "      <th>prob_if_survive</th>\n",
       "    </tr>\n",
       "  </thead>\n",
       "  <tbody>\n",
       "    <tr>\n",
       "      <th>0</th>\n",
       "      <td>1</td>\n",
       "      <td>Buffalo Bills</td>\n",
       "      <td>66.0</td>\n",
       "      <td>-17.0</td>\n",
       "      <td>0.920713</td>\n",
       "      <td>0.01</td>\n",
       "      <td>0.011199</td>\n",
       "    </tr>\n",
       "    <tr>\n",
       "      <th>1</th>\n",
       "      <td>2</td>\n",
       "      <td>San Francisco 49ers</td>\n",
       "      <td>34.0</td>\n",
       "      <td>-9.5</td>\n",
       "      <td>0.789509</td>\n",
       "      <td>0.01</td>\n",
       "      <td>0.010870</td>\n",
       "    </tr>\n",
       "  </tbody>\n",
       "</table>\n",
       "</div>"
      ],
      "text/plain": [
       "   Rank                 Team  Bettors  Spread     probs  prob_before  \\\n",
       "0     1        Buffalo Bills     66.0   -17.0  0.920713         0.01   \n",
       "1     2  San Francisco 49ers     34.0    -9.5  0.789509         0.01   \n",
       "\n",
       "   prob_if_survive  \n",
       "0         0.011199  \n",
       "1         0.010870  "
      ]
     },
     "execution_count": 52,
     "metadata": {},
     "output_type": "execute_result"
    }
   ],
   "source": [
    "# add to dataframe\n",
    "week7['prob_before'] = 1/week7.Bettors.sum()\n",
    "week7"
   ]
  },
  {
   "cell_type": "code",
   "execution_count": 53,
   "metadata": {},
   "outputs": [
    {
     "name": "stderr",
     "output_type": "stream",
     "text": [
      "C:\\Users\\greg\\AppData\\Local\\Continuum\\anaconda3\\lib\\site-packages\\ipykernel_launcher.py:2: SettingWithCopyWarning: \n",
      "A value is trying to be set on a copy of a slice from a DataFrame.\n",
      "Try using .loc[row_indexer,col_indexer] = value instead\n",
      "\n",
      "See the caveats in the documentation: http://pandas.pydata.org/pandas-docs/stable/indexing.html#indexing-view-versus-copy\n",
      "  \n"
     ]
    },
    {
     "data": {
      "text/html": [
       "<div>\n",
       "<style scoped>\n",
       "    .dataframe tbody tr th:only-of-type {\n",
       "        vertical-align: middle;\n",
       "    }\n",
       "\n",
       "    .dataframe tbody tr th {\n",
       "        vertical-align: top;\n",
       "    }\n",
       "\n",
       "    .dataframe thead th {\n",
       "        text-align: right;\n",
       "    }\n",
       "</style>\n",
       "<table border=\"1\" class=\"dataframe\">\n",
       "  <thead>\n",
       "    <tr style=\"text-align: right;\">\n",
       "      <th></th>\n",
       "      <th>Rank</th>\n",
       "      <th>Team</th>\n",
       "      <th>Bettors</th>\n",
       "      <th>Spread</th>\n",
       "      <th>probs</th>\n",
       "      <th>prob_before</th>\n",
       "      <th>prob_if_survive</th>\n",
       "    </tr>\n",
       "  </thead>\n",
       "  <tbody>\n",
       "    <tr>\n",
       "      <th>0</th>\n",
       "      <td>1</td>\n",
       "      <td>Buffalo Bills</td>\n",
       "      <td>66.0</td>\n",
       "      <td>-17.0</td>\n",
       "      <td>0.920713</td>\n",
       "      <td>0.01</td>\n",
       "      <td>0.010372</td>\n",
       "    </tr>\n",
       "    <tr>\n",
       "      <th>1</th>\n",
       "      <td>2</td>\n",
       "      <td>San Francisco 49ers</td>\n",
       "      <td>34.0</td>\n",
       "      <td>-9.5</td>\n",
       "      <td>0.789509</td>\n",
       "      <td>0.01</td>\n",
       "      <td>0.009277</td>\n",
       "    </tr>\n",
       "  </tbody>\n",
       "</table>\n",
       "</div>"
      ],
      "text/plain": [
       "   Rank                 Team  Bettors  Spread     probs  prob_before  \\\n",
       "0     1        Buffalo Bills     66.0   -17.0  0.920713         0.01   \n",
       "1     2  San Francisco 49ers     34.0    -9.5  0.789509         0.01   \n",
       "\n",
       "   prob_if_survive  \n",
       "0         0.010372  \n",
       "1         0.009277  "
      ]
     },
     "execution_count": 53,
     "metadata": {},
     "output_type": "execute_result"
    }
   ],
   "source": [
    "# add to dataframe\n",
    "week7['prob_if_survive'] = np.sum(weight_prob, axis = 0)\n",
    "week7"
   ]
  },
  {
   "cell_type": "code",
   "execution_count": 54,
   "metadata": {},
   "outputs": [
    {
     "data": {
      "text/plain": [
       "array([1.03723958, 0.9277114 ])"
      ]
     },
     "execution_count": 54,
     "metadata": {},
     "output_type": "execute_result"
    }
   ],
   "source": [
    "probability_rating = np.sum(weight_prob, axis = 0)/(1/week7.Bettors.sum())\n",
    "probability_rating"
   ]
  },
  {
   "cell_type": "code",
   "execution_count": 55,
   "metadata": {},
   "outputs": [
    {
     "data": {
      "text/plain": [
       "1.9649509830314642"
      ]
     },
     "execution_count": 55,
     "metadata": {},
     "output_type": "execute_result"
    }
   ],
   "source": [
    "# here is where I'm confused, because the it seems like it still \n",
    "# should equal 2.0. . . I think it must be because we are summing\n",
    "# accross different numbers of remaining bettors, so it doesn't\n",
    "# need to equal the total p.\n",
    "probability_rating.sum()"
   ]
  },
  {
   "cell_type": "code",
   "execution_count": 57,
   "metadata": {},
   "outputs": [
    {
     "name": "stderr",
     "output_type": "stream",
     "text": [
      "C:\\Users\\greg\\AppData\\Local\\Continuum\\anaconda3\\lib\\site-packages\\ipykernel_launcher.py:2: SettingWithCopyWarning: \n",
      "A value is trying to be set on a copy of a slice from a DataFrame.\n",
      "Try using .loc[row_indexer,col_indexer] = value instead\n",
      "\n",
      "See the caveats in the documentation: http://pandas.pydata.org/pandas-docs/stable/indexing.html#indexing-view-versus-copy\n",
      "  \n"
     ]
    },
    {
     "data": {
      "text/html": [
       "<div>\n",
       "<style scoped>\n",
       "    .dataframe tbody tr th:only-of-type {\n",
       "        vertical-align: middle;\n",
       "    }\n",
       "\n",
       "    .dataframe tbody tr th {\n",
       "        vertical-align: top;\n",
       "    }\n",
       "\n",
       "    .dataframe thead th {\n",
       "        text-align: right;\n",
       "    }\n",
       "</style>\n",
       "<table border=\"1\" class=\"dataframe\">\n",
       "  <thead>\n",
       "    <tr style=\"text-align: right;\">\n",
       "      <th></th>\n",
       "      <th>Rank</th>\n",
       "      <th>Team</th>\n",
       "      <th>Bettors</th>\n",
       "      <th>Spread</th>\n",
       "      <th>probs</th>\n",
       "      <th>prob_before</th>\n",
       "      <th>prob_if_survive</th>\n",
       "      <th>prob_rating</th>\n",
       "    </tr>\n",
       "  </thead>\n",
       "  <tbody>\n",
       "    <tr>\n",
       "      <th>0</th>\n",
       "      <td>1</td>\n",
       "      <td>Buffalo Bills</td>\n",
       "      <td>66.0</td>\n",
       "      <td>-17.0</td>\n",
       "      <td>0.920713</td>\n",
       "      <td>0.01</td>\n",
       "      <td>0.010372</td>\n",
       "      <td>1.037240</td>\n",
       "    </tr>\n",
       "    <tr>\n",
       "      <th>1</th>\n",
       "      <td>2</td>\n",
       "      <td>San Francisco 49ers</td>\n",
       "      <td>34.0</td>\n",
       "      <td>-9.5</td>\n",
       "      <td>0.789509</td>\n",
       "      <td>0.01</td>\n",
       "      <td>0.009277</td>\n",
       "      <td>0.927711</td>\n",
       "    </tr>\n",
       "  </tbody>\n",
       "</table>\n",
       "</div>"
      ],
      "text/plain": [
       "   Rank                 Team  Bettors  Spread     probs  prob_before  \\\n",
       "0     1        Buffalo Bills     66.0   -17.0  0.920713         0.01   \n",
       "1     2  San Francisco 49ers     34.0    -9.5  0.789509         0.01   \n",
       "\n",
       "   prob_if_survive  prob_rating  \n",
       "0         0.010372     1.037240  \n",
       "1         0.009277     0.927711  "
      ]
     },
     "execution_count": 57,
     "metadata": {},
     "output_type": "execute_result"
    }
   ],
   "source": [
    "# add to dataframe\n",
    "week7['prob_rating'] = week7.prob_if_survive/week7.prob_before\n",
    "week7"
   ]
  },
  {
   "cell_type": "code",
   "execution_count": 58,
   "metadata": {},
   "outputs": [],
   "source": [
    "# package this up\n",
    "\n",
    "def spread_bettors_probs(week, lr_model, top_n = None):\n",
    "    '''\n",
    "    week is some week is a dataframe with fields:\n",
    "        Team: team\n",
    "        Bettors: number of people betting on each team\n",
    "        Spread: point spread as negative\n",
    "    \n",
    "    '''\n",
    "\n",
    "\n",
    "    week.sort_values(by='Spread', inplace = True)\n",
    "    # # of games to analyze\n",
    "    if top_n is None:\n",
    "        top_n = week.shape[0]\n",
    "    week = week.iloc[:top_n,:]\n",
    "    \n",
    "    week['probs'] = lr_model.predict_proba(\n",
    "        week.Spread.values.reshape(-1, 1))[:,1]\n",
    "    \n",
    "    #combinations\n",
    "    combs = np.array(list(product([0,1], repeat = top_n)),dtype=int)\n",
    "    # probability for each game outcome\n",
    "    all_probs = week.probs.values*combs + (\n",
    "                1 - week.probs.values)*(1 - combs)\n",
    "    #probability of any combination\n",
    "    comb_probs = np.prod(all_probs, axis = 1)\n",
    "    # remaining bettors for each combination\n",
    "    rem_bet = week.Bettors.values*combs\n",
    "    # new tournament odds for each outcome\n",
    "    cond_prob = np.where(rem_bet>0, 1, 0)/tot_rem_bet[:, np.newaxis]\n",
    "    # assume they tie if they all lose\n",
    "    cond_prob[0, :] =  (1/week.Bettors.sum())\n",
    "    # new tournament odds times the chance of the outcome occurring\n",
    "    weight_prob = cond_prob * comb_probs[:, np.newaxis]\n",
    "    # compare odds before the pick to odds after the pick   \n",
    "    probability_rating = np.sum(weight_prob, axis = 0\n",
    "                               )/(1/week7.Bettors.sum()) \n",
    "    # add to dataframe\n",
    "    week['prob_before'] = 1/week.Bettors.sum()\n",
    "    week['prob_if_survive'] = np.sum(weight_prob, axis = 0)\n",
    "    week['prob_rating'] = week.prob_if_survive/week.prob_before\n",
    "    \n",
    "    return week\n",
    "\n",
    "    \n",
    "    "
   ]
  },
  {
   "cell_type": "code",
   "execution_count": 59,
   "metadata": {},
   "outputs": [
    {
     "name": "stderr",
     "output_type": "stream",
     "text": [
      "C:\\Users\\greg\\AppData\\Local\\Continuum\\anaconda3\\lib\\site-packages\\ipykernel_launcher.py:13: SettingWithCopyWarning: \n",
      "A value is trying to be set on a copy of a slice from a DataFrame\n",
      "\n",
      "See the caveats in the documentation: http://pandas.pydata.org/pandas-docs/stable/indexing.html#indexing-view-versus-copy\n",
      "  del sys.path[0]\n",
      "C:\\Users\\greg\\AppData\\Local\\Continuum\\anaconda3\\lib\\site-packages\\ipykernel_launcher.py:32: RuntimeWarning: invalid value encountered in true_divide\n"
     ]
    },
    {
     "data": {
      "text/html": [
       "<div>\n",
       "<style scoped>\n",
       "    .dataframe tbody tr th:only-of-type {\n",
       "        vertical-align: middle;\n",
       "    }\n",
       "\n",
       "    .dataframe tbody tr th {\n",
       "        vertical-align: top;\n",
       "    }\n",
       "\n",
       "    .dataframe thead th {\n",
       "        text-align: right;\n",
       "    }\n",
       "</style>\n",
       "<table border=\"1\" class=\"dataframe\">\n",
       "  <thead>\n",
       "    <tr style=\"text-align: right;\">\n",
       "      <th></th>\n",
       "      <th>Rank</th>\n",
       "      <th>Team</th>\n",
       "      <th>Bettors</th>\n",
       "      <th>Spread</th>\n",
       "      <th>probs</th>\n",
       "      <th>prob_before</th>\n",
       "      <th>prob_if_survive</th>\n",
       "      <th>prob_rating</th>\n",
       "    </tr>\n",
       "  </thead>\n",
       "  <tbody>\n",
       "    <tr>\n",
       "      <th>0</th>\n",
       "      <td>1</td>\n",
       "      <td>Buffalo Bills</td>\n",
       "      <td>66.0</td>\n",
       "      <td>-17.0</td>\n",
       "      <td>0.920713</td>\n",
       "      <td>0.01</td>\n",
       "      <td>0.010372</td>\n",
       "      <td>1.037240</td>\n",
       "    </tr>\n",
       "    <tr>\n",
       "      <th>1</th>\n",
       "      <td>2</td>\n",
       "      <td>San Francisco 49ers</td>\n",
       "      <td>34.0</td>\n",
       "      <td>-9.5</td>\n",
       "      <td>0.789509</td>\n",
       "      <td>0.01</td>\n",
       "      <td>0.009277</td>\n",
       "      <td>0.927711</td>\n",
       "    </tr>\n",
       "  </tbody>\n",
       "</table>\n",
       "</div>"
      ],
      "text/plain": [
       "   Rank                 Team  Bettors  Spread     probs  prob_before  \\\n",
       "0     1        Buffalo Bills     66.0   -17.0  0.920713         0.01   \n",
       "1     2  San Francisco 49ers     34.0    -9.5  0.789509         0.01   \n",
       "\n",
       "   prob_if_survive  prob_rating  \n",
       "0         0.010372     1.037240  \n",
       "1         0.009277     0.927711  "
      ]
     },
     "execution_count": 59,
     "metadata": {},
     "output_type": "execute_result"
    }
   ],
   "source": [
    "spread_bettors_probs(week7, loaded_model)"
   ]
  },
  {
   "cell_type": "code",
   "execution_count": null,
   "metadata": {},
   "outputs": [],
   "source": []
  }
 ],
 "metadata": {
  "kernelspec": {
   "display_name": "Python 3",
   "language": "python",
   "name": "python3"
  },
  "language_info": {
   "codemirror_mode": {
    "name": "ipython",
    "version": 3
   },
   "file_extension": ".py",
   "mimetype": "text/x-python",
   "name": "python",
   "nbconvert_exporter": "python",
   "pygments_lexer": "ipython3",
   "version": "3.7.1"
  }
 },
 "nbformat": 4,
 "nbformat_minor": 2
}