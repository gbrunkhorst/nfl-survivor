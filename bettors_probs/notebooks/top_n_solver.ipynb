{
 "cells": [
  {
   "cell_type": "markdown",
   "metadata": {},
   "source": [
    "## Top_n_solver\n",
    "This notebook demonstrates a\\the use of the find_equilibrium functions that finds the break-even fraction of bettors for a series of teams with percent chances of winning for each game.\n",
    "\n",
    "For example, a team with a 90% chance of winning will be picked more than a team with a 80% chance of winning would be picked less.  The find_equilibrium function calculates how much more or less.    "
   ]
  },
  {
   "cell_type": "code",
   "execution_count": 1,
   "metadata": {},
   "outputs": [],
   "source": [
    "import sys\n",
    "path_to_working_script = r'..\\bettors_probs'\n",
    "sys.path.append(path_to_working_script)\n",
    "\n",
    "from itertools import product\n",
    "import bettors_probs\n",
    "import pandas as pd\n",
    "import matplotlib.pyplot as plt\n",
    "import numpy as np"
   ]
  },
  {
   "cell_type": "code",
   "execution_count": 2,
   "metadata": {},
   "outputs": [],
   "source": [
    "# create a BettorsProbs object\n",
    "bp = bettors_probs.BettorsProbs()"
   ]
  },
  {
   "cell_type": "code",
   "execution_count": 3,
   "metadata": {},
   "outputs": [],
   "source": [
    "bettors = pd.Series([33,33,33])\n",
    "probs = pd.Series([.9, .8, .7])"
   ]
  },
  {
   "cell_type": "code",
   "execution_count": 4,
   "metadata": {},
   "outputs": [
    {
     "name": "stderr",
     "output_type": "stream",
     "text": [
      "..\\bettors_probs\\bettors_probs.py:79: RuntimeWarning: invalid value encountered in true_divide\n",
      "  cond_prob = np.where(rem_bet>0, 1, 0)/rem_bet.sum(axis = 1)[:, np.newaxis]\n"
     ]
    },
    {
     "data": {
      "text/plain": [
       "0    65.185387\n",
       "1    26.004430\n",
       "2     8.810183\n",
       "dtype: float64"
      ]
     },
     "execution_count": 4,
     "metadata": {},
     "output_type": "execute_result"
    }
   ],
   "source": [
    "bp.find_equilibrium(bettors = bettors, probs = probs)"
   ]
  }
 ],
 "metadata": {
  "kernelspec": {
   "display_name": "Python 3",
   "language": "python",
   "name": "python3"
  },
  "language_info": {
   "codemirror_mode": {
    "name": "ipython",
    "version": 3
   },
   "file_extension": ".py",
   "mimetype": "text/x-python",
   "name": "python",
   "nbconvert_exporter": "python",
   "pygments_lexer": "ipython3",
   "version": "3.7.1"
  }
 },
 "nbformat": 4,
 "nbformat_minor": 2
}
