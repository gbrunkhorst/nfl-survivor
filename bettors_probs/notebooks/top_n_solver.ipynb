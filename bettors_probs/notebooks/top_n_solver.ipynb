{
 "cells": [
  {
   "cell_type": "markdown",
   "metadata": {},
   "source": [
    "## Work on the top_n_solver"
   ]
  },
  {
   "cell_type": "code",
   "execution_count": 1,
   "metadata": {},
   "outputs": [],
   "source": [
    "import sys\n",
    "path_to_working_script = r'C:\\Users\\greg\\Documents\\NFL\\bettors_probs\\bettors_probs'\n",
    "sys.path.append(path_to_working_script)\n",
    "\n",
    "from itertools import product\n",
    "import bettors_probs\n",
    "import pandas as pd\n",
    "import matplotlib.pyplot as plt\n",
    "import numpy as np"
   ]
  },
  {
   "cell_type": "code",
   "execution_count": 2,
   "metadata": {},
   "outputs": [],
   "source": [
    "# This function finds an equilibrium on a series of probabilities and bettors using brute force\n",
    "def find_equilibrium(probs = None, bettors = None):\n",
    "    # create a BettorsProbs object\n",
    "    bp = bettors_probs.BettorsProbs()\n",
    "    # make total bettors = 100 for convenience\n",
    "    bettors = bettors/bettors.sum()*100\n",
    "    bet_strength = bp.bet_strength(bettors  = bettors, probs = probs)\n",
    "\n",
    "    #[to do - add some decision logic to the find equilibrium and make the \n",
    "    # code less redundant]\n",
    "    \n",
    "    # loop through and adjust down toward one as we go\n",
    "    for increment in [1, .1]:\n",
    "        for pick in bettors.index:\n",
    "            while bet_strength[pick] > 1:\n",
    "                bet_strength = bp.bet_strength(bettors  = bettors, probs = probs)\n",
    "                bettors[pick] += increment\n",
    "                bettors[~bettors.index.isin([pick])] += -(increment * bettors[~bettors.index.isin([pick])] / \n",
    "                            bettors[~bettors.index.isin([pick])].sum())\n",
    "    # go the other way\n",
    "    for increment in [.1, .01]:\n",
    "        for pick in bettors.index:\n",
    "            while bet_strength[pick] < 1:\n",
    "                bet_strength = bp.bet_strength(bettors  = bettors, probs = probs)\n",
    "                bettors[pick] += -increment\n",
    "                bettors[~bettors.index.isin([pick])] += (increment * bettors[~bettors.index.isin([pick])] / \n",
    "                            bettors[~bettors.index.isin([pick])].sum())\n",
    "    # go the other way\n",
    "    for increment in [.01, .001]:\n",
    "        for pick in bettors.index:\n",
    "            while bet_strength[pick] > 1:\n",
    "                bet_strength = bp.bet_strength(bettors  = bettors, probs = probs)\n",
    "                bettors[pick] += increment\n",
    "                bettors[~bettors.index.isin([pick])] -= (increment * bettors[~bettors.index.isin([pick])] / \n",
    "                            bettors[~bettors.index.isin([pick])].sum())            \n",
    "    # one more normalization to 100\n",
    "    bettors = bettors/bettors.sum()*100\n",
    "    bet_strength = bp.bet_strength(bettors  = bettors, probs = probs)\n",
    "    return bettors, bet_strength"
   ]
  },
  {
   "cell_type": "code",
   "execution_count": 3,
   "metadata": {},
   "outputs": [],
   "source": [
    "bettors = pd.Series([33,33,33])\n",
    "probs = pd.Series([.9, .8, .7])"
   ]
  },
  {
   "cell_type": "code",
   "execution_count": 4,
   "metadata": {},
   "outputs": [
    {
     "name": "stderr",
     "output_type": "stream",
     "text": [
      "C:\\Users\\greg\\Documents\\NFL\\bettors_probs\\bettors_probs\\bettors_probs.py:77: RuntimeWarning: invalid value encountered in true_divide\n",
      "  cond_prob = np.where(rem_bet>0, 1, 0)/rem_bet.sum(axis = 1)[:, np.newaxis]\n"
     ]
    },
    {
     "data": {
      "text/plain": [
       "(0    65.175203\n",
       " 1    26.005367\n",
       " 2     8.819430\n",
       " dtype: float64, array([1.00002879, 0.99998618, 0.999828  ]))"
      ]
     },
     "execution_count": 4,
     "metadata": {},
     "output_type": "execute_result"
    }
   ],
   "source": [
    "find_equilibrium(bettors = bettors, probs = probs)"
   ]
  },
  {
   "cell_type": "code",
   "execution_count": 5,
   "metadata": {},
   "outputs": [],
   "source": [
    "bp = bettors_probs.BettorsProbs()"
   ]
  },
  {
   "cell_type": "code",
   "execution_count": 6,
   "metadata": {},
   "outputs": [
    {
     "data": {
      "text/plain": [
       "(0    65.185387\n",
       " 1    26.004430\n",
       " 2     8.810183\n",
       " dtype: float64, array([0.99998967, 1.00001252, 1.00003948]))"
      ]
     },
     "execution_count": 6,
     "metadata": {},
     "output_type": "execute_result"
    }
   ],
   "source": [
    "bp.find_equilibrium(probs = probs, bettors = bettors)"
   ]
  },
  {
   "cell_type": "code",
   "execution_count": null,
   "metadata": {},
   "outputs": [],
   "source": []
  }
 ],
 "metadata": {
  "kernelspec": {
   "display_name": "Python 3",
   "language": "python",
   "name": "python3"
  },
  "language_info": {
   "codemirror_mode": {
    "name": "ipython",
    "version": 3
   },
   "file_extension": ".py",
   "mimetype": "text/x-python",
   "name": "python",
   "nbconvert_exporter": "python",
   "pygments_lexer": "ipython3",
   "version": "3.7.1"
  }
 },
 "nbformat": 4,
 "nbformat_minor": 2
}
