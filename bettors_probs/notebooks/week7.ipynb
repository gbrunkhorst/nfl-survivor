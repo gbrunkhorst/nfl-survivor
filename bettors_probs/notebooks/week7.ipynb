{
 "cells": [
  {
   "cell_type": "markdown",
   "metadata": {},
   "source": [
    "## Betting Odds Selector"
   ]
  },
  {
   "cell_type": "code",
   "execution_count": 1,
   "metadata": {},
   "outputs": [],
   "source": [
    "import sys\n",
    "path_to_working_script = r'C:\\Users\\greg\\Documents\\NFL\\bettors_probs\\bettors_probs'\n",
    "sys.path.append(path_to_working_script)\n",
    "\n",
    "import bettors_probs\n",
    "import pandas as pd\n",
    "import pickle\n",
    "import warnings\n",
    "import matplotlib.pyplot as plt\n",
    "plt.style.use('seaborn-white')"
   ]
  },
  {
   "cell_type": "code",
   "execution_count": 9,
   "metadata": {},
   "outputs": [],
   "source": [
    "# load the starting dataframe\n",
    "path = r'C:\\Users\\greg\\Documents\\NFL\\bettors_probs\\source_data'\n",
    "file = 'week_7.xlsx'\n",
    "week7 = pd.read_excel(path+'\\\\'+file)\n",
    "file = 'week_10.xlsx'\n",
    "week10 = pd.read_excel(path+'\\\\'+file)\n",
    "\n",
    "# load the regression model pickle file\n",
    "file = 'log_reg_spread_model.pkl'\n",
    "loaded_model = pickle.load(open(path+'\\\\'+file, 'rb'))"
   ]
  },
  {
   "cell_type": "code",
   "execution_count": 3,
   "metadata": {},
   "outputs": [
    {
     "data": {
      "text/html": [
       "<div>\n",
       "<style scoped>\n",
       "    .dataframe tbody tr th:only-of-type {\n",
       "        vertical-align: middle;\n",
       "    }\n",
       "\n",
       "    .dataframe tbody tr th {\n",
       "        vertical-align: top;\n",
       "    }\n",
       "\n",
       "    .dataframe thead th {\n",
       "        text-align: right;\n",
       "    }\n",
       "</style>\n",
       "<table border=\"1\" class=\"dataframe\">\n",
       "  <thead>\n",
       "    <tr style=\"text-align: right;\">\n",
       "      <th></th>\n",
       "      <th>Rank</th>\n",
       "      <th>Team</th>\n",
       "      <th>Bettors</th>\n",
       "      <th>Spread</th>\n",
       "    </tr>\n",
       "  </thead>\n",
       "  <tbody>\n",
       "    <tr>\n",
       "      <th>0</th>\n",
       "      <td>1</td>\n",
       "      <td>Buffalo Bills</td>\n",
       "      <td>0.65</td>\n",
       "      <td>-17.0</td>\n",
       "    </tr>\n",
       "    <tr>\n",
       "      <th>1</th>\n",
       "      <td>2</td>\n",
       "      <td>San Francisco 49ers</td>\n",
       "      <td>0.24</td>\n",
       "      <td>-9.5</td>\n",
       "    </tr>\n",
       "    <tr>\n",
       "      <th>2</th>\n",
       "      <td>3</td>\n",
       "      <td>Green Bay Packers</td>\n",
       "      <td>0.04</td>\n",
       "      <td>-5.5</td>\n",
       "    </tr>\n",
       "    <tr>\n",
       "      <th>3</th>\n",
       "      <td>4</td>\n",
       "      <td>New England Patriots</td>\n",
       "      <td>0.02</td>\n",
       "      <td>-9.5</td>\n",
       "    </tr>\n",
       "    <tr>\n",
       "      <th>4</th>\n",
       "      <td>5</td>\n",
       "      <td>Jacksonville Jaguars</td>\n",
       "      <td>0.01</td>\n",
       "      <td>-3.5</td>\n",
       "    </tr>\n",
       "    <tr>\n",
       "      <th>5</th>\n",
       "      <td>6</td>\n",
       "      <td>Kansas City Chiefs</td>\n",
       "      <td>0.01</td>\n",
       "      <td>-3.0</td>\n",
       "    </tr>\n",
       "    <tr>\n",
       "      <th>6</th>\n",
       "      <td>7</td>\n",
       "      <td>Los Angeles Rams</td>\n",
       "      <td>0.01</td>\n",
       "      <td>-3.0</td>\n",
       "    </tr>\n",
       "    <tr>\n",
       "      <th>7</th>\n",
       "      <td>8</td>\n",
       "      <td>New York Giants</td>\n",
       "      <td>0.01</td>\n",
       "      <td>-3.0</td>\n",
       "    </tr>\n",
       "  </tbody>\n",
       "</table>\n",
       "</div>"
      ],
      "text/plain": [
       "   Rank                  Team  Bettors  Spread\n",
       "0     1         Buffalo Bills     0.65   -17.0\n",
       "1     2   San Francisco 49ers     0.24    -9.5\n",
       "2     3     Green Bay Packers     0.04    -5.5\n",
       "3     4  New England Patriots     0.02    -9.5\n",
       "4     5  Jacksonville Jaguars     0.01    -3.5\n",
       "5     6    Kansas City Chiefs     0.01    -3.0\n",
       "6     7      Los Angeles Rams     0.01    -3.0\n",
       "7     8       New York Giants     0.01    -3.0"
      ]
     },
     "execution_count": 3,
     "metadata": {},
     "output_type": "execute_result"
    }
   ],
   "source": [
    "week7"
   ]
  },
  {
   "cell_type": "code",
   "execution_count": 4,
   "metadata": {},
   "outputs": [],
   "source": [
    "# create a BettorsProbs object\n",
    "bp = bettors_probs.BettorsProbs()"
   ]
  },
  {
   "cell_type": "code",
   "execution_count": 5,
   "metadata": {},
   "outputs": [],
   "source": [
    "# return some prbabilities from spreads\n",
    "probs = bp.probs_spreads(spreads = week7.Spread, model = loaded_model)"
   ]
  },
  {
   "cell_type": "code",
   "execution_count": 6,
   "metadata": {},
   "outputs": [
    {
     "data": {
      "text/html": [
       "<div>\n",
       "<style scoped>\n",
       "    .dataframe tbody tr th:only-of-type {\n",
       "        vertical-align: middle;\n",
       "    }\n",
       "\n",
       "    .dataframe tbody tr th {\n",
       "        vertical-align: top;\n",
       "    }\n",
       "\n",
       "    .dataframe thead th {\n",
       "        text-align: right;\n",
       "    }\n",
       "</style>\n",
       "<table border=\"1\" class=\"dataframe\">\n",
       "  <thead>\n",
       "    <tr style=\"text-align: right;\">\n",
       "      <th></th>\n",
       "      <th>Rank</th>\n",
       "      <th>Team</th>\n",
       "      <th>Bettors</th>\n",
       "      <th>Spread</th>\n",
       "      <th>Probs</th>\n",
       "    </tr>\n",
       "  </thead>\n",
       "  <tbody>\n",
       "    <tr>\n",
       "      <th>0</th>\n",
       "      <td>1</td>\n",
       "      <td>Buffalo Bills</td>\n",
       "      <td>0.65</td>\n",
       "      <td>-17.0</td>\n",
       "      <td>0.920713</td>\n",
       "    </tr>\n",
       "    <tr>\n",
       "      <th>1</th>\n",
       "      <td>2</td>\n",
       "      <td>San Francisco 49ers</td>\n",
       "      <td>0.24</td>\n",
       "      <td>-9.5</td>\n",
       "      <td>0.789509</td>\n",
       "    </tr>\n",
       "    <tr>\n",
       "      <th>2</th>\n",
       "      <td>3</td>\n",
       "      <td>Green Bay Packers</td>\n",
       "      <td>0.04</td>\n",
       "      <td>-5.5</td>\n",
       "      <td>0.672440</td>\n",
       "    </tr>\n",
       "    <tr>\n",
       "      <th>3</th>\n",
       "      <td>4</td>\n",
       "      <td>New England Patriots</td>\n",
       "      <td>0.02</td>\n",
       "      <td>-9.5</td>\n",
       "      <td>0.789509</td>\n",
       "    </tr>\n",
       "    <tr>\n",
       "      <th>4</th>\n",
       "      <td>5</td>\n",
       "      <td>Jacksonville Jaguars</td>\n",
       "      <td>0.01</td>\n",
       "      <td>-3.5</td>\n",
       "      <td>0.602976</td>\n",
       "    </tr>\n",
       "    <tr>\n",
       "      <th>5</th>\n",
       "      <td>6</td>\n",
       "      <td>Kansas City Chiefs</td>\n",
       "      <td>0.01</td>\n",
       "      <td>-3.0</td>\n",
       "      <td>0.584807</td>\n",
       "    </tr>\n",
       "    <tr>\n",
       "      <th>6</th>\n",
       "      <td>7</td>\n",
       "      <td>Los Angeles Rams</td>\n",
       "      <td>0.01</td>\n",
       "      <td>-3.0</td>\n",
       "      <td>0.584807</td>\n",
       "    </tr>\n",
       "    <tr>\n",
       "      <th>7</th>\n",
       "      <td>8</td>\n",
       "      <td>New York Giants</td>\n",
       "      <td>0.01</td>\n",
       "      <td>-3.0</td>\n",
       "      <td>0.584807</td>\n",
       "    </tr>\n",
       "  </tbody>\n",
       "</table>\n",
       "</div>"
      ],
      "text/plain": [
       "   Rank                  Team  Bettors  Spread     Probs\n",
       "0     1         Buffalo Bills     0.65   -17.0  0.920713\n",
       "1     2   San Francisco 49ers     0.24    -9.5  0.789509\n",
       "2     3     Green Bay Packers     0.04    -5.5  0.672440\n",
       "3     4  New England Patriots     0.02    -9.5  0.789509\n",
       "4     5  Jacksonville Jaguars     0.01    -3.5  0.602976\n",
       "5     6    Kansas City Chiefs     0.01    -3.0  0.584807\n",
       "6     7      Los Angeles Rams     0.01    -3.0  0.584807\n",
       "7     8       New York Giants     0.01    -3.0  0.584807"
      ]
     },
     "execution_count": 6,
     "metadata": {},
     "output_type": "execute_result"
    }
   ],
   "source": [
    "week7['Probs'] = probs\n",
    "week7"
   ]
  },
  {
   "cell_type": "code",
   "execution_count": 7,
   "metadata": {},
   "outputs": [
    {
     "name": "stderr",
     "output_type": "stream",
     "text": [
      "C:\\Users\\greg\\Documents\\NFL\\bettors_probs\\bettors_probs\\bettors_probs.py:77: RuntimeWarning: invalid value encountered in true_divide\n",
      "  cond_prob = np.where(rem_bet>0, 1, 0)/rem_bet.sum(axis = 1)[:, np.newaxis]\n"
     ]
    },
    {
     "data": {
      "text/plain": [
       "array([1.0211626 , 0.95653829, 0.95122945, 1.17135512, 0.90096199,\n",
       "       0.87297393, 0.87297393, 0.87297393])"
      ]
     },
     "execution_count": 7,
     "metadata": {},
     "output_type": "execute_result"
    }
   ],
   "source": [
    "bp.bet_strength(bettors  = week7.Bettors,\n",
    "                       probs = week7.Probs)"
   ]
  },
  {
   "cell_type": "code",
   "execution_count": 8,
   "metadata": {},
   "outputs": [
    {
     "name": "stderr",
     "output_type": "stream",
     "text": [
      "C:\\Users\\greg\\Documents\\NFL\\bettors_probs\\bettors_probs\\bettors_probs.py:77: RuntimeWarning: invalid value encountered in true_divide\n",
      "  cond_prob = np.where(rem_bet>0, 1, 0)/rem_bet.sum(axis = 1)[:, np.newaxis]\n"
     ]
    },
    {
     "data": {
      "text/plain": [
       "array([1.0211626 , 0.95653829, 0.95122945, 1.17135512, 0.90096199,\n",
       "       0.87297393, 0.87297393, 0.87297393])"
      ]
     },
     "execution_count": 8,
     "metadata": {},
     "output_type": "execute_result"
    }
   ],
   "source": [
    "bp.bet_strength(bettors  = week7.Bettors,\n",
    "                       spreads = week7.Spread, model = loaded_model)"
   ]
  },
  {
   "cell_type": "code",
   "execution_count": 10,
   "metadata": {},
   "outputs": [
    {
     "name": "stderr",
     "output_type": "stream",
     "text": [
      "C:\\Users\\greg\\Documents\\NFL\\bettors_probs\\bettors_probs\\bettors_probs.py:77: RuntimeWarning: invalid value encountered in true_divide\n",
      "  cond_prob = np.where(rem_bet>0, 1, 0)/rem_bet.sum(axis = 1)[:, np.newaxis]\n"
     ]
    },
    {
     "data": {
      "text/plain": [
       "array([0.91519532, 1.08458788, 1.23551592, 1.0409701 , 0.91273695,\n",
       "       0.97329465, 1.03223312, 0.94317997, 0.97329465, 0.91273695])"
      ]
     },
     "execution_count": 10,
     "metadata": {},
     "output_type": "execute_result"
    }
   ],
   "source": [
    "bp.bet_strength(bettors  = week10.Bettors,\n",
    "                       spreads = week10.Spread, model = loaded_model)"
   ]
  },
  {
   "cell_type": "code",
   "execution_count": null,
   "metadata": {},
   "outputs": [],
   "source": []
  }
 ],
 "metadata": {
  "kernelspec": {
   "display_name": "Python 3",
   "language": "python",
   "name": "python3"
  },
  "language_info": {
   "codemirror_mode": {
    "name": "ipython",
    "version": 3
   },
   "file_extension": ".py",
   "mimetype": "text/x-python",
   "name": "python",
   "nbconvert_exporter": "python",
   "pygments_lexer": "ipython3",
   "version": "3.7.1"
  }
 },
 "nbformat": 4,
 "nbformat_minor": 2
}
