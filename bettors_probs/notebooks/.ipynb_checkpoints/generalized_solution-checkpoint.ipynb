{
 "cells": [
  {
   "cell_type": "markdown",
   "metadata": {},
   "source": [
    "## I would like to solve for the break-even point in a generalized solution rather than iteratively\n",
    "Try it for a basic 2x2 scenario"
   ]
  },
  {
   "cell_type": "code",
   "execution_count": 7,
   "metadata": {},
   "outputs": [],
   "source": [
    "import pandas as pd\n",
    "import numpy as np\n",
    "from itertools import product"
   ]
  },
  {
   "cell_type": "code",
   "execution_count": 61,
   "metadata": {},
   "outputs": [
    {
     "name": "stderr",
     "output_type": "stream",
     "text": [
      "C:\\Users\\greg\\AppData\\Local\\Continuum\\anaconda3\\lib\\site-packages\\ipykernel_launcher.py:17: RuntimeWarning: invalid value encountered in true_divide\n"
     ]
    },
    {
     "data": {
      "text/plain": [
       "array([1.17, 0.77])"
      ]
     },
     "execution_count": 61,
     "metadata": {},
     "output_type": "execute_result"
    }
   ],
   "source": [
    "bettors = pd.Series([50, 50])\n",
    "probs = pd.Series([.9, .7])\n",
    "\n",
    "top_n = len(bettors)\n",
    "\n",
    "#generate all outcome combinations\n",
    "combs = np.array(list(product([0,1], repeat = top_n)), dtype=int)\n",
    "\n",
    "# probability for each game outcome\n",
    "all_probs = probs.values*combs + (\n",
    "            1 - probs.values)*(1 - combs)\n",
    "#probability of any combination\n",
    "comb_probs = np.prod(all_probs, axis = 1)\n",
    "# remaining bettors for each combination\n",
    "rem_bet = bettors.values*combs\n",
    "# new tournament odds for each outcome\n",
    "cond_prob = np.where(rem_bet>0, 1, 0)/rem_bet.sum(axis = 1)[:, np.newaxis]\n",
    "# conditional to assume they tie if they all lose\n",
    "tie_if_all_lose = False\n",
    "if tie_if_all_lose == True:\n",
    "    cond_prob[0, :] =  (1/bettors.sum())\n",
    "else:\n",
    "    cond_prob = np.nan_to_num(cond_prob)\n",
    "\n",
    "# new tournament odds times the chance of the outcome occurring\n",
    "weight_prob = cond_prob * comb_probs[:, np.newaxis]\n",
    "prob_before = 1/bettors.sum()\n",
    "prob_after = np.sum(weight_prob, axis = 0)\n",
    "bet_strength = prob_after/prob_before\n",
    "bet_strength"
   ]
  },
  {
   "cell_type": "markdown",
   "metadata": {},
   "source": [
    "## variables explore"
   ]
  },
  {
   "cell_type": "code",
   "execution_count": 53,
   "metadata": {},
   "outputs": [
    {
     "data": {
      "text/plain": [
       "array([[0, 0],\n",
       "       [0, 1],\n",
       "       [1, 0],\n",
       "       [1, 1]])"
      ]
     },
     "execution_count": 53,
     "metadata": {},
     "output_type": "execute_result"
    }
   ],
   "source": [
    "combs"
   ]
  },
  {
   "cell_type": "code",
   "execution_count": 54,
   "metadata": {},
   "outputs": [
    {
     "data": {
      "text/plain": [
       "array([0.03, 0.07, 0.27, 0.63])"
      ]
     },
     "execution_count": 54,
     "metadata": {},
     "output_type": "execute_result"
    }
   ],
   "source": [
    "comb_probs"
   ]
  },
  {
   "cell_type": "code",
   "execution_count": 55,
   "metadata": {},
   "outputs": [
    {
     "data": {
      "text/plain": [
       "array([[ 0,  0],\n",
       "       [ 0, 50],\n",
       "       [50,  0],\n",
       "       [50, 50]], dtype=int64)"
      ]
     },
     "execution_count": 55,
     "metadata": {},
     "output_type": "execute_result"
    }
   ],
   "source": [
    "rem_bet"
   ]
  },
  {
   "cell_type": "code",
   "execution_count": 56,
   "metadata": {},
   "outputs": [
    {
     "data": {
      "text/plain": [
       "array([[0.  , 0.  ],\n",
       "       [0.  , 0.02],\n",
       "       [0.02, 0.  ],\n",
       "       [0.01, 0.01]])"
      ]
     },
     "execution_count": 56,
     "metadata": {},
     "output_type": "execute_result"
    }
   ],
   "source": [
    "cond_prob"
   ]
  },
  {
   "cell_type": "code",
   "execution_count": 57,
   "metadata": {},
   "outputs": [
    {
     "data": {
      "text/plain": [
       "array([[0.    , 0.    ],\n",
       "       [0.    , 0.0014],\n",
       "       [0.0054, 0.    ],\n",
       "       [0.0063, 0.0063]])"
      ]
     },
     "execution_count": 57,
     "metadata": {},
     "output_type": "execute_result"
    }
   ],
   "source": [
    "weight_prob\n"
   ]
  },
  {
   "cell_type": "code",
   "execution_count": 58,
   "metadata": {},
   "outputs": [
    {
     "data": {
      "text/plain": [
       "0.01"
      ]
     },
     "execution_count": 58,
     "metadata": {},
     "output_type": "execute_result"
    }
   ],
   "source": [
    "prob_before"
   ]
  },
  {
   "cell_type": "code",
   "execution_count": 59,
   "metadata": {},
   "outputs": [
    {
     "data": {
      "text/plain": [
       "array([0.0117, 0.0077])"
      ]
     },
     "execution_count": 59,
     "metadata": {},
     "output_type": "execute_result"
    }
   ],
   "source": [
    "prob_if_survive"
   ]
  },
  {
   "cell_type": "code",
   "execution_count": 60,
   "metadata": {},
   "outputs": [
    {
     "data": {
      "text/plain": [
       "array([1.17, 0.77])"
      ]
     },
     "execution_count": 60,
     "metadata": {},
     "output_type": "execute_result"
    }
   ],
   "source": [
    "bet_strength"
   ]
  },
  {
   "cell_type": "code",
   "execution_count": null,
   "metadata": {},
   "outputs": [],
   "source": []
  }
 ],
 "metadata": {
  "kernelspec": {
   "display_name": "Python 3",
   "language": "python",
   "name": "python3"
  },
  "language_info": {
   "codemirror_mode": {
    "name": "ipython",
    "version": 3
   },
   "file_extension": ".py",
   "mimetype": "text/x-python",
   "name": "python",
   "nbconvert_exporter": "python",
   "pygments_lexer": "ipython3",
   "version": "3.7.1"
  }
 },
 "nbformat": 4,
 "nbformat_minor": 2
}
